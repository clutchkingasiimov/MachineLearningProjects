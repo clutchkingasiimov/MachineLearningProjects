{
 "cells": [
  {
   "cell_type": "markdown",
   "metadata": {},
   "source": [
    "# Model Building and Development Phase"
   ]
  },
  {
   "cell_type": "markdown",
   "metadata": {},
   "source": [
    "### Steps to be followed after data preprocessing:\n",
    "1. Data splitting into training/validation/holdout paritions \n",
    "2. Selection of models to be tested under cross validation \n",
    "3. Reduce the dimensions of the data using Principal components analysis\n",
    "4. 10-Fold CV on training partition to check for in-sample accuracy \n",
    "5. Fit the models on training set and evaluate performance using validation set (still in-sample data)\n",
    "6. Re-assess models after feature elimination / dimension reduction using 10-Fold CV \n",
    "7. Repeat step 4 \n",
    "8. Optimize the learning models using evolutionary GA search (GridSearch removed due to extremely high complexity time)\n",
    "9. Re-assess the models after fitting them\n",
    "10. Generate performance metrics (Confusion matrix, ROC curve, feature importance bar-plot, train-test accuracy graph)\n",
    "11. Fit these models in an ensemble stack and then assess their combined predicitive metrics\n",
    "12. Assess the ensemble stack against RNN"
   ]
  },
  {
   "cell_type": "code",
   "execution_count": 1,
   "metadata": {},
   "outputs": [],
   "source": [
    "import pandas as pd \n",
    "import seaborn as sns\n",
    "import numpy as np \n",
    "import matplotlib.pyplot as plt\n",
    "import matplotlib\n",
    "import sklearn as sk \n",
    "import rpy2\n",
    "\n",
    "from sklearn.model_selection import train_test_split, cross_val_score\n",
    "from sklearn.preprocessing import MinMaxScaler, StandardScaler\n",
    "from sklearn.metrics import accuracy_score\n",
    "\n",
    "pd.set_option('display.max_rows', 500)\n",
    "pd.set_option('display.max_columns', 500)\n",
    "\n",
    "matplotlib.rcParams.update({'font.size': 40})\n",
    "\n",
    "plt.style.use('seaborn-bright')"
   ]
  },
  {
   "cell_type": "code",
   "execution_count": 2,
   "metadata": {},
   "outputs": [],
   "source": [
    "class ModelBuilder:\n",
    "    pass #No class attribute needed\n",
    "\n",
    "    def __init__(self, X_train, X_test, y_train, y_test):\n",
    "        self.X_train = X_train #Instance attributes \n",
    "        self.X_test = X_test\n",
    "        self.y_train = y_train\n",
    "        self.y_test = y_test \n",
    "\n",
    "    #Data scaling using MinMax\n",
    "    def data_scaler(self, Xtrain_cols, Xtest_cols, needs_training_as_scaled=True):\n",
    "        scaler = MinMaxScaler(feature_range=(-1,1)).fit(self.X_train)\n",
    "        if needs_training_as_scaled is True:\n",
    "            X_train_scaled = scaler.transform(self.X_train)\n",
    "            scaled_df_train = pd.DataFrame(X_train_scaled, columns=Xtrain_cols)\n",
    "            return scaled_df_train\n",
    "        elif needs_training_as_scaled is not True:\n",
    "            X_test_scaled = scaler.transform(self.X_test)\n",
    "            scaled_df_test = pd.DataFrame(X_test_scaled, columns=Xtest_cols)\n",
    "            return scaled_df_test\n",
    "    \n",
    "    #Data standardization using StandardScaler\n",
    "    def data_standardizer(self, Xtrain_cols, Xtest_cols, needs_training_as_scaled=True):\n",
    "        standardizer = StandardScaler().fit(self.X_train)\n",
    "        if needs_training_as_scaled is True:\n",
    "            X_train_standard = standardizer.transform(self.X_train)\n",
    "            standard_df_train = pd.DataFrame(X_train_standard, columns=Xtrain_cols)\n",
    "            return standard_df_train\n",
    "        elif needs_training_as_scaled is not True:\n",
    "            X_test_standard = standardizer.transform(self.X_test)\n",
    "            standard_df_test = pd.DataFrame(X_test_standard, columns=Xtrain_cols)\n",
    "            return X_test_standard\n",
    "\n",
    "    #10-fold cross validation on the scaled data \n",
    "    def cross_validator(self, model, X_train_scaled, n_folds=10, has_scaled_data=True):\n",
    "        if has_scaled_data != True:\n",
    "            raise ValueError('Data not scaled. Scale data first')\n",
    "        else:\n",
    "            model_cv = cross_val_score(model, X_train_scaled, self.y_train, cv=n_folds, scoring='accuracy')\n",
    "            print('10 Fold CV scores: ', model_cv)\n",
    "            print('Mean 10-fold CV score: ', np.mean(model_cv))\n",
    "\n",
    "    \n",
    "    #Model fitter after data scaling on learning algorithms  \n",
    "    def model_fitter(self, model, X_train_scaled, X_test_scaled, is_scaled=True):\n",
    "        if is_scaled != True:\n",
    "            raise ValueError(\"Data not scaled.\")\n",
    "        \n",
    "        if is_scaled == True:\n",
    "            model.fit(X_train_scaled, self.y_train)\n",
    "            predictions = model.predict(X_test_scaled, self.y_test)\n",
    "            metric = accuracy_score(self.y_test, predictions)\n",
    "            print('Classification score: ', metric)"
   ]
  },
  {
   "cell_type": "markdown",
   "metadata": {},
   "source": [
    "### Loading in the dataset after preprocessing"
   ]
  },
  {
   "cell_type": "code",
   "execution_count": 3,
   "metadata": {},
   "outputs": [],
   "source": [
    "df = pd.read_csv('/home/sauraj/Desktop/Notebooks/Research/newspy.csv')"
   ]
  },
  {
   "cell_type": "code",
   "execution_count": 4,
   "metadata": {},
   "outputs": [
    {
     "data": {
      "text/html": [
       "<div>\n",
       "<style scoped>\n",
       "    .dataframe tbody tr th:only-of-type {\n",
       "        vertical-align: middle;\n",
       "    }\n",
       "\n",
       "    .dataframe tbody tr th {\n",
       "        vertical-align: top;\n",
       "    }\n",
       "\n",
       "    .dataframe thead th {\n",
       "        text-align: right;\n",
       "    }\n",
       "</style>\n",
       "<table border=\"1\" class=\"dataframe\">\n",
       "  <thead>\n",
       "    <tr style=\"text-align: right;\">\n",
       "      <th></th>\n",
       "      <th>Date</th>\n",
       "      <th>High</th>\n",
       "      <th>Low</th>\n",
       "      <th>Open</th>\n",
       "      <th>Close</th>\n",
       "      <th>Volume</th>\n",
       "      <th>Adj Close</th>\n",
       "      <th>5-DayEMA</th>\n",
       "      <th>20-DayEMA</th>\n",
       "      <th>Real Lower Band</th>\n",
       "      <th>Real Middle Band</th>\n",
       "      <th>Real Upper Band</th>\n",
       "      <th>MACD</th>\n",
       "      <th>MACD_Hist</th>\n",
       "      <th>MACD_Signal</th>\n",
       "      <th>SlowD</th>\n",
       "      <th>SlowK</th>\n",
       "      <th>CCI</th>\n",
       "      <th>OBV</th>\n",
       "      <th>EMA_Reversal</th>\n",
       "      <th>Returns</th>\n",
       "      <th>MarketTrend</th>\n",
       "      <th>EMA_Trend_Down</th>\n",
       "      <th>EMA_Trend_Reversal</th>\n",
       "      <th>EMA_Trend_Up</th>\n",
       "      <th>StoReversal_NoReversal</th>\n",
       "      <th>StoReversal_Reversal</th>\n",
       "      <th>MACDTrend_Down</th>\n",
       "      <th>MACDTrend_Reversal</th>\n",
       "      <th>MACDTrend_Up</th>\n",
       "      <th>OBVTrend_Down</th>\n",
       "      <th>OBVTrend_Up</th>\n",
       "      <th>CCITrend_NoReversal</th>\n",
       "      <th>CCITrend_Reversal</th>\n",
       "    </tr>\n",
       "  </thead>\n",
       "  <tbody>\n",
       "    <tr>\n",
       "      <th>0</th>\n",
       "      <td>1998-02-23</td>\n",
       "      <td>104.250000</td>\n",
       "      <td>103.343697</td>\n",
       "      <td>104.250000</td>\n",
       "      <td>104.062500</td>\n",
       "      <td>3227800</td>\n",
       "      <td>71.191544</td>\n",
       "      <td>103.899979</td>\n",
       "      <td>103.869506</td>\n",
       "      <td>96.2644</td>\n",
       "      <td>100.8570</td>\n",
       "      <td>105.4496</td>\n",
       "      <td>2.0341</td>\n",
       "      <td>0.1147</td>\n",
       "      <td>1.9194</td>\n",
       "      <td>87.2955</td>\n",
       "      <td>88.3007</td>\n",
       "      <td>114.5056</td>\n",
       "      <td>39995300</td>\n",
       "      <td>0.030473</td>\n",
       "      <td>-0.003904</td>\n",
       "      <td>2</td>\n",
       "      <td>0</td>\n",
       "      <td>1</td>\n",
       "      <td>0</td>\n",
       "      <td>1</td>\n",
       "      <td>0</td>\n",
       "      <td>0</td>\n",
       "      <td>0</td>\n",
       "      <td>1</td>\n",
       "      <td>0</td>\n",
       "      <td>1</td>\n",
       "      <td>0</td>\n",
       "      <td>1</td>\n",
       "    </tr>\n",
       "    <tr>\n",
       "      <th>1</th>\n",
       "      <td>1998-02-24</td>\n",
       "      <td>104.093697</td>\n",
       "      <td>102.937500</td>\n",
       "      <td>103.906197</td>\n",
       "      <td>103.250000</td>\n",
       "      <td>3386800</td>\n",
       "      <td>70.635689</td>\n",
       "      <td>103.592094</td>\n",
       "      <td>103.642027</td>\n",
       "      <td>97.1356</td>\n",
       "      <td>101.2258</td>\n",
       "      <td>105.3159</td>\n",
       "      <td>1.9688</td>\n",
       "      <td>0.0395</td>\n",
       "      <td>1.9293</td>\n",
       "      <td>85.9809</td>\n",
       "      <td>78.9543</td>\n",
       "      <td>93.2333</td>\n",
       "      <td>36608500</td>\n",
       "      <td>-0.049933</td>\n",
       "      <td>0.007869</td>\n",
       "      <td>2</td>\n",
       "      <td>0</td>\n",
       "      <td>1</td>\n",
       "      <td>0</td>\n",
       "      <td>1</td>\n",
       "      <td>0</td>\n",
       "      <td>0</td>\n",
       "      <td>1</td>\n",
       "      <td>0</td>\n",
       "      <td>1</td>\n",
       "      <td>0</td>\n",
       "      <td>1</td>\n",
       "      <td>0</td>\n",
       "    </tr>\n",
       "    <tr>\n",
       "      <th>2</th>\n",
       "      <td>1998-02-25</td>\n",
       "      <td>104.875000</td>\n",
       "      <td>103.625000</td>\n",
       "      <td>103.750000</td>\n",
       "      <td>104.531197</td>\n",
       "      <td>3481800</td>\n",
       "      <td>71.512207</td>\n",
       "      <td>103.982183</td>\n",
       "      <td>103.898717</td>\n",
       "      <td>97.8045</td>\n",
       "      <td>101.6101</td>\n",
       "      <td>105.4158</td>\n",
       "      <td>1.9974</td>\n",
       "      <td>0.0545</td>\n",
       "      <td>1.9429</td>\n",
       "      <td>80.9184</td>\n",
       "      <td>75.5002</td>\n",
       "      <td>124.9737</td>\n",
       "      <td>40090300</td>\n",
       "      <td>0.083466</td>\n",
       "      <td>-0.012257</td>\n",
       "      <td>2</td>\n",
       "      <td>0</td>\n",
       "      <td>1</td>\n",
       "      <td>0</td>\n",
       "      <td>1</td>\n",
       "      <td>0</td>\n",
       "      <td>0</td>\n",
       "      <td>1</td>\n",
       "      <td>0</td>\n",
       "      <td>0</td>\n",
       "      <td>1</td>\n",
       "      <td>0</td>\n",
       "      <td>1</td>\n",
       "    </tr>\n",
       "    <tr>\n",
       "      <th>3</th>\n",
       "      <td>1998-02-26</td>\n",
       "      <td>105.218697</td>\n",
       "      <td>104.187500</td>\n",
       "      <td>104.437500</td>\n",
       "      <td>105.125000</td>\n",
       "      <td>3187600</td>\n",
       "      <td>71.918427</td>\n",
       "      <td>104.420895</td>\n",
       "      <td>104.195344</td>\n",
       "      <td>98.3230</td>\n",
       "      <td>101.9805</td>\n",
       "      <td>105.6379</td>\n",
       "      <td>2.0444</td>\n",
       "      <td>0.0812</td>\n",
       "      <td>1.9632</td>\n",
       "      <td>77.2805</td>\n",
       "      <td>77.3869</td>\n",
       "      <td>140.6155</td>\n",
       "      <td>43277900</td>\n",
       "      <td>0.225551</td>\n",
       "      <td>-0.005649</td>\n",
       "      <td>2</td>\n",
       "      <td>0</td>\n",
       "      <td>0</td>\n",
       "      <td>1</td>\n",
       "      <td>1</td>\n",
       "      <td>0</td>\n",
       "      <td>0</td>\n",
       "      <td>1</td>\n",
       "      <td>0</td>\n",
       "      <td>0</td>\n",
       "      <td>1</td>\n",
       "      <td>0</td>\n",
       "      <td>1</td>\n",
       "    </tr>\n",
       "    <tr>\n",
       "      <th>4</th>\n",
       "      <td>1998-02-27</td>\n",
       "      <td>105.531197</td>\n",
       "      <td>104.531197</td>\n",
       "      <td>104.968697</td>\n",
       "      <td>105.125000</td>\n",
       "      <td>3442900</td>\n",
       "      <td>71.918427</td>\n",
       "      <td>104.678184</td>\n",
       "      <td>104.391459</td>\n",
       "      <td>98.8459</td>\n",
       "      <td>102.3242</td>\n",
       "      <td>105.8025</td>\n",
       "      <td>2.0580</td>\n",
       "      <td>0.0758</td>\n",
       "      <td>1.9822</td>\n",
       "      <td>80.6615</td>\n",
       "      <td>89.0974</td>\n",
       "      <td>140.6006</td>\n",
       "      <td>43277900</td>\n",
       "      <td>0.286725</td>\n",
       "      <td>0.000000</td>\n",
       "      <td>2</td>\n",
       "      <td>0</td>\n",
       "      <td>0</td>\n",
       "      <td>1</td>\n",
       "      <td>1</td>\n",
       "      <td>0</td>\n",
       "      <td>0</td>\n",
       "      <td>1</td>\n",
       "      <td>0</td>\n",
       "      <td>0</td>\n",
       "      <td>1</td>\n",
       "      <td>0</td>\n",
       "      <td>1</td>\n",
       "    </tr>\n",
       "  </tbody>\n",
       "</table>\n",
       "</div>"
      ],
      "text/plain": [
       "         Date        High         Low        Open       Close   Volume  \\\n",
       "0  1998-02-23  104.250000  103.343697  104.250000  104.062500  3227800   \n",
       "1  1998-02-24  104.093697  102.937500  103.906197  103.250000  3386800   \n",
       "2  1998-02-25  104.875000  103.625000  103.750000  104.531197  3481800   \n",
       "3  1998-02-26  105.218697  104.187500  104.437500  105.125000  3187600   \n",
       "4  1998-02-27  105.531197  104.531197  104.968697  105.125000  3442900   \n",
       "\n",
       "   Adj Close    5-DayEMA   20-DayEMA  Real Lower Band  Real Middle Band  \\\n",
       "0  71.191544  103.899979  103.869506          96.2644          100.8570   \n",
       "1  70.635689  103.592094  103.642027          97.1356          101.2258   \n",
       "2  71.512207  103.982183  103.898717          97.8045          101.6101   \n",
       "3  71.918427  104.420895  104.195344          98.3230          101.9805   \n",
       "4  71.918427  104.678184  104.391459          98.8459          102.3242   \n",
       "\n",
       "   Real Upper Band    MACD  MACD_Hist  MACD_Signal    SlowD    SlowK  \\\n",
       "0         105.4496  2.0341     0.1147       1.9194  87.2955  88.3007   \n",
       "1         105.3159  1.9688     0.0395       1.9293  85.9809  78.9543   \n",
       "2         105.4158  1.9974     0.0545       1.9429  80.9184  75.5002   \n",
       "3         105.6379  2.0444     0.0812       1.9632  77.2805  77.3869   \n",
       "4         105.8025  2.0580     0.0758       1.9822  80.6615  89.0974   \n",
       "\n",
       "        CCI       OBV  EMA_Reversal   Returns  MarketTrend  EMA_Trend_Down  \\\n",
       "0  114.5056  39995300      0.030473 -0.003904            2               0   \n",
       "1   93.2333  36608500     -0.049933  0.007869            2               0   \n",
       "2  124.9737  40090300      0.083466 -0.012257            2               0   \n",
       "3  140.6155  43277900      0.225551 -0.005649            2               0   \n",
       "4  140.6006  43277900      0.286725  0.000000            2               0   \n",
       "\n",
       "   EMA_Trend_Reversal  EMA_Trend_Up  StoReversal_NoReversal  \\\n",
       "0                   1             0                       1   \n",
       "1                   1             0                       1   \n",
       "2                   1             0                       1   \n",
       "3                   0             1                       1   \n",
       "4                   0             1                       1   \n",
       "\n",
       "   StoReversal_Reversal  MACDTrend_Down  MACDTrend_Reversal  MACDTrend_Up  \\\n",
       "0                     0               0                   0             1   \n",
       "1                     0               0                   1             0   \n",
       "2                     0               0                   1             0   \n",
       "3                     0               0                   1             0   \n",
       "4                     0               0                   1             0   \n",
       "\n",
       "   OBVTrend_Down  OBVTrend_Up  CCITrend_NoReversal  CCITrend_Reversal  \n",
       "0              0            1                    0                  1  \n",
       "1              1            0                    1                  0  \n",
       "2              0            1                    0                  1  \n",
       "3              0            1                    0                  1  \n",
       "4              0            1                    0                  1  "
      ]
     },
     "execution_count": 4,
     "metadata": {},
     "output_type": "execute_result"
    }
   ],
   "source": [
    "df.head()"
   ]
  },
  {
   "cell_type": "code",
   "execution_count": 5,
   "metadata": {},
   "outputs": [],
   "source": [
    "#Resetting the index to datetime index\n",
    "df = df.set_index('Date')"
   ]
  },
  {
   "cell_type": "code",
   "execution_count": 6,
   "metadata": {},
   "outputs": [
    {
     "name": "stdout",
     "output_type": "stream",
     "text": [
      "<class 'pandas.core.frame.DataFrame'>\n",
      "Index: 5245 entries, 1998-02-23 to 2018-12-24\n",
      "Data columns (total 33 columns):\n",
      "High                      5245 non-null float64\n",
      "Low                       5245 non-null float64\n",
      "Open                      5245 non-null float64\n",
      "Close                     5245 non-null float64\n",
      "Volume                    5245 non-null int64\n",
      "Adj Close                 5245 non-null float64\n",
      "5-DayEMA                  5245 non-null float64\n",
      "20-DayEMA                 5245 non-null float64\n",
      "Real Lower Band           5245 non-null float64\n",
      "Real Middle Band          5245 non-null float64\n",
      "Real Upper Band           5245 non-null float64\n",
      "MACD                      5245 non-null float64\n",
      "MACD_Hist                 5245 non-null float64\n",
      "MACD_Signal               5245 non-null float64\n",
      "SlowD                     5245 non-null float64\n",
      "SlowK                     5245 non-null float64\n",
      "CCI                       5245 non-null float64\n",
      "OBV                       5245 non-null int64\n",
      "EMA_Reversal              5245 non-null float64\n",
      "Returns                   5245 non-null float64\n",
      "MarketTrend               5245 non-null int64\n",
      "EMA_Trend_Down            5245 non-null int64\n",
      "EMA_Trend_Reversal        5245 non-null int64\n",
      "EMA_Trend_Up              5245 non-null int64\n",
      "StoReversal_NoReversal    5245 non-null int64\n",
      "StoReversal_Reversal      5245 non-null int64\n",
      "MACDTrend_Down            5245 non-null int64\n",
      "MACDTrend_Reversal        5245 non-null int64\n",
      "MACDTrend_Up              5245 non-null int64\n",
      "OBVTrend_Down             5245 non-null int64\n",
      "OBVTrend_Up               5245 non-null int64\n",
      "CCITrend_NoReversal       5245 non-null int64\n",
      "CCITrend_Reversal         5245 non-null int64\n",
      "dtypes: float64(18), int64(15)\n",
      "memory usage: 1.4+ MB\n"
     ]
    }
   ],
   "source": [
    "#Data information\n",
    "df.info()"
   ]
  },
  {
   "cell_type": "markdown",
   "metadata": {},
   "source": [
    "# Data Partition and Dimension Reduction (PCA)"
   ]
  },
  {
   "cell_type": "markdown",
   "metadata": {},
   "source": [
    "## Data Partition"
   ]
  },
  {
   "cell_type": "code",
   "execution_count": 7,
   "metadata": {},
   "outputs": [],
   "source": [
    "train = df[:4196]\n",
    "test = df[4196:]"
   ]
  },
  {
   "cell_type": "code",
   "execution_count": 8,
   "metadata": {},
   "outputs": [],
   "source": [
    "#Obtain the predictor variables and input features \n",
    "X = train.drop(['MarketTrend'], axis=1)\n",
    "y = train['MarketTrend']"
   ]
  },
  {
   "cell_type": "code",
   "execution_count": 9,
   "metadata": {},
   "outputs": [],
   "source": [
    "#Obtain train and validation samples from the train partition \n",
    "from sklearn.model_selection import train_test_split\n",
    "\n",
    "#Shuffle parameter set to false to avoid data shuffling\n",
    "X_train, X_test, y_train, y_test = train_test_split(X, y, test_size=0.2, shuffle=False, random_state=44)"
   ]
  },
  {
   "cell_type": "markdown",
   "metadata": {},
   "source": [
    "## Dimension Reduction \n",
    "\n",
    "After the dataset has been split into training and testing, feature reduction is to be done so as to \n",
    "\n",
    "1. Reduce the number of input features to be used for model building, with the main goal of reducing model overfitting \n",
    "\n",
    "2. To remove redundant features which may not have a significant impact on the predictor variable and hence add onto model complexity."
   ]
  },
  {
   "cell_type": "markdown",
   "metadata": {},
   "source": [
    "### Data Normalization \n",
    "\n",
    "Normalization is performed before running PCA in order to bring all features on the same numeric scaling."
   ]
  },
  {
   "cell_type": "code",
   "execution_count": 10,
   "metadata": {},
   "outputs": [],
   "source": [
    "from sklearn.preprocessing import StandardScaler, MinMaxScaler"
   ]
  },
  {
   "cell_type": "code",
   "execution_count": 9,
   "metadata": {},
   "outputs": [
    {
     "name": "stderr",
     "output_type": "stream",
     "text": [
      "/home/sauraj/miniconda3/lib/python3.6/site-packages/sklearn/preprocessing/data.py:625: DataConversionWarning: Data with input dtype int64, float64 were all converted to float64 by StandardScaler.\n",
      "  return self.partial_fit(X, y)\n",
      "/home/sauraj/miniconda3/lib/python3.6/site-packages/ipykernel_launcher.py:4: DataConversionWarning: Data with input dtype int64, float64 were all converted to float64 by StandardScaler.\n",
      "  after removing the cwd from sys.path.\n",
      "/home/sauraj/miniconda3/lib/python3.6/site-packages/ipykernel_launcher.py:5: DataConversionWarning: Data with input dtype int64, float64 were all converted to float64 by StandardScaler.\n",
      "  \"\"\"\n"
     ]
    }
   ],
   "source": [
    "#Data standardizing for dimensionality reduction\n",
    "mms = StandardScaler()\n",
    "mms.fit(X_train)\n",
    "X_train_scaled = mms.transform(X_train)\n",
    "X_test_scaled = mms.transform(X_test)"
   ]
  },
  {
   "cell_type": "code",
   "execution_count": 10,
   "metadata": {},
   "outputs": [
    {
     "name": "stderr",
     "output_type": "stream",
     "text": [
      "/home/sauraj/miniconda3/lib/python3.6/site-packages/sklearn/preprocessing/data.py:323: DataConversionWarning: Data with input dtype int64, float64 were all converted to float64 by MinMaxScaler.\n",
      "  return self.partial_fit(X, y)\n"
     ]
    }
   ],
   "source": [
    "#Scaling for neural network \n",
    "minmax = MinMaxScaler()\n",
    "minmax.fit(X_train)\n",
    "nn_Xtrain = minmax.transform(X_train)\n",
    "nn_Xtest = minmax.transform(X_test)"
   ]
  },
  {
   "cell_type": "markdown",
   "metadata": {},
   "source": [
    "### Principal Components Analysis \n",
    "\n",
    "PCA is a feature reduction algorithm which reduces the dimensions of a dataset by finding linear combinations of vectors which explain the maximum amount of the variance present in the dataset. By performing orthogonal rotation, PCA not only reduces the number of feature vectors present in the vector space but also decorrelates all the features to bring their correlation to each other at 0.\n",
    "\n",
    "The selection of the number of principal components is done on a few criterias:\n",
    "\n",
    "1. No. of components which can explain the maximum variation (Eigenvalue criterion)\n",
    "2. Percentage of variance explained (Maximal variance criterion)\n",
    "\n"
   ]
  },
  {
   "cell_type": "code",
   "execution_count": 11,
   "metadata": {},
   "outputs": [],
   "source": [
    "from sklearn.decomposition import PCA, FactorAnalysis\n",
    "pca = PCA(n_components=9).fit(X_train_scaled)\n",
    "pca_Xtrain = pca.transform(X_train_scaled)\n",
    "pca_Xtest = pca.transform(X_test_scaled)"
   ]
  },
  {
   "cell_type": "markdown",
   "metadata": {},
   "source": [
    "Let's check for the respective eigenvalues of the components and the variance explained by each eigenvalue"
   ]
  },
  {
   "cell_type": "code",
   "execution_count": 12,
   "metadata": {},
   "outputs": [
    {
     "data": {
      "text/plain": [
       "array([[ 2.35164882, -3.01668374,  0.84805866, ..., -0.6590501 ,\n",
       "        -0.94061593,  5.9416306 ],\n",
       "       [ 2.47550709, -2.06818591, -2.86096194, ...,  0.49000607,\n",
       "         0.71821988,  5.59328368],\n",
       "       [ 2.3150237 , -2.53373499,  0.63806414, ..., -0.64216366,\n",
       "         1.07718334,  6.14051577],\n",
       "       ...,\n",
       "       [-1.16662546,  3.27705146,  1.67725748, ...,  0.30762277,\n",
       "        -1.09058413, -0.56902699],\n",
       "       [-1.60070318,  1.82822757,  1.84324713, ...,  1.34614807,\n",
       "         1.16931051, -0.22552699],\n",
       "       [-1.62424152,  1.7712315 , -0.96643468, ...,  1.29036837,\n",
       "         1.4123841 , -0.11343235]])"
      ]
     },
     "execution_count": 12,
     "metadata": {},
     "output_type": "execute_result"
    }
   ],
   "source": [
    "pca_Xtrain"
   ]
  },
  {
   "cell_type": "code",
   "execution_count": 16,
   "metadata": {},
   "outputs": [
    {
     "data": {
      "text/plain": [
       "array([10.19807871,  7.34565073,  2.58584956,  2.33491611,  2.20832064,\n",
       "        1.49756461,  1.37209947,  1.17369541,  1.02251005])"
      ]
     },
     "execution_count": 16,
     "metadata": {},
     "output_type": "execute_result"
    }
   ],
   "source": [
    "pca.explained_variance_"
   ]
  },
  {
   "cell_type": "markdown",
   "metadata": {},
   "source": [
    "Looks like 5 components can easily explain around 84.67% of the variance in the dataset. Hence, we need to extract 5 components from the dataset through PCA"
   ]
  },
  {
   "cell_type": "code",
   "execution_count": 13,
   "metadata": {},
   "outputs": [],
   "source": [
    "Xtrain_cols = X_train.columns\n",
    "Xtest_cols = X_test.columns"
   ]
  },
  {
   "cell_type": "code",
   "execution_count": 14,
   "metadata": {},
   "outputs": [
    {
     "data": {
      "text/plain": [
       "array([31.85949985, 22.94831851,  8.07837203,  7.29443866,  6.8989457 ,\n",
       "        4.67849492,  4.28653318,  3.66670525])"
      ]
     },
     "execution_count": 14,
     "metadata": {},
     "output_type": "execute_result"
    }
   ],
   "source": [
    "pca.explained_variance_ratio_[0:8]*100"
   ]
  },
  {
   "cell_type": "code",
   "execution_count": 15,
   "metadata": {},
   "outputs": [
    {
     "data": {
      "text/plain": [
       "9"
      ]
     },
     "execution_count": 15,
     "metadata": {},
     "output_type": "execute_result"
    }
   ],
   "source": [
    "len(pca.components_)"
   ]
  },
  {
   "cell_type": "markdown",
   "metadata": {},
   "source": [
    "The next question is, which features represent which particular component?"
   ]
  },
  {
   "cell_type": "code",
   "execution_count": 16,
   "metadata": {},
   "outputs": [],
   "source": [
    "pcacomp_df = pd.DataFrame(pca.components_,columns=Xtrain_cols, index=['PC1','PC2','PC3','PC4','PC5', 'PC6','PC7','PC8', 'PC9']).T"
   ]
  },
  {
   "cell_type": "code",
   "execution_count": 17,
   "metadata": {},
   "outputs": [
    {
     "data": {
      "text/html": [
       "<div>\n",
       "<style scoped>\n",
       "    .dataframe tbody tr th:only-of-type {\n",
       "        vertical-align: middle;\n",
       "    }\n",
       "\n",
       "    .dataframe tbody tr th {\n",
       "        vertical-align: top;\n",
       "    }\n",
       "\n",
       "    .dataframe thead th {\n",
       "        text-align: right;\n",
       "    }\n",
       "</style>\n",
       "<table border=\"1\" class=\"dataframe\">\n",
       "  <thead>\n",
       "    <tr style=\"text-align: right;\">\n",
       "      <th></th>\n",
       "      <th>PC1</th>\n",
       "      <th>PC2</th>\n",
       "      <th>PC3</th>\n",
       "      <th>PC4</th>\n",
       "      <th>PC5</th>\n",
       "      <th>PC6</th>\n",
       "      <th>PC7</th>\n",
       "      <th>PC8</th>\n",
       "      <th>PC9</th>\n",
       "    </tr>\n",
       "  </thead>\n",
       "  <tbody>\n",
       "    <tr>\n",
       "      <th>High</th>\n",
       "      <td>-0.307564</td>\n",
       "      <td>0.058394</td>\n",
       "      <td>0.008802</td>\n",
       "      <td>-0.011154</td>\n",
       "      <td>0.029491</td>\n",
       "      <td>-0.053875</td>\n",
       "      <td>-0.010380</td>\n",
       "      <td>0.024649</td>\n",
       "      <td>-0.000095</td>\n",
       "    </tr>\n",
       "    <tr>\n",
       "      <th>Low</th>\n",
       "      <td>-0.309202</td>\n",
       "      <td>0.048730</td>\n",
       "      <td>0.006073</td>\n",
       "      <td>-0.007051</td>\n",
       "      <td>0.016340</td>\n",
       "      <td>-0.054259</td>\n",
       "      <td>-0.011209</td>\n",
       "      <td>0.025893</td>\n",
       "      <td>0.003265</td>\n",
       "    </tr>\n",
       "    <tr>\n",
       "      <th>Open</th>\n",
       "      <td>-0.308044</td>\n",
       "      <td>0.056193</td>\n",
       "      <td>-0.005096</td>\n",
       "      <td>-0.006882</td>\n",
       "      <td>0.028066</td>\n",
       "      <td>-0.052623</td>\n",
       "      <td>-0.011694</td>\n",
       "      <td>0.025129</td>\n",
       "      <td>0.002035</td>\n",
       "    </tr>\n",
       "    <tr>\n",
       "      <th>Close</th>\n",
       "      <td>-0.308729</td>\n",
       "      <td>0.050450</td>\n",
       "      <td>0.023891</td>\n",
       "      <td>-0.012682</td>\n",
       "      <td>0.016678</td>\n",
       "      <td>-0.054962</td>\n",
       "      <td>-0.010575</td>\n",
       "      <td>0.024375</td>\n",
       "      <td>0.000432</td>\n",
       "    </tr>\n",
       "    <tr>\n",
       "      <th>Volume</th>\n",
       "      <td>0.055243</td>\n",
       "      <td>0.071268</td>\n",
       "      <td>0.075272</td>\n",
       "      <td>0.029299</td>\n",
       "      <td>0.182691</td>\n",
       "      <td>0.503474</td>\n",
       "      <td>0.336812</td>\n",
       "      <td>-0.348664</td>\n",
       "      <td>-0.065680</td>\n",
       "    </tr>\n",
       "    <tr>\n",
       "      <th>Adj Close</th>\n",
       "      <td>-0.290620</td>\n",
       "      <td>0.040974</td>\n",
       "      <td>0.042367</td>\n",
       "      <td>0.012391</td>\n",
       "      <td>0.034453</td>\n",
       "      <td>0.189602</td>\n",
       "      <td>0.139013</td>\n",
       "      <td>-0.120108</td>\n",
       "      <td>-0.015459</td>\n",
       "    </tr>\n",
       "    <tr>\n",
       "      <th>5-DayEMA</th>\n",
       "      <td>-0.306933</td>\n",
       "      <td>0.066496</td>\n",
       "      <td>0.001832</td>\n",
       "      <td>-0.005262</td>\n",
       "      <td>0.019629</td>\n",
       "      <td>-0.049833</td>\n",
       "      <td>-0.011397</td>\n",
       "      <td>0.022015</td>\n",
       "      <td>-0.000113</td>\n",
       "    </tr>\n",
       "    <tr>\n",
       "      <th>20-DayEMA</th>\n",
       "      <td>-0.299761</td>\n",
       "      <td>0.100387</td>\n",
       "      <td>0.013270</td>\n",
       "      <td>-0.015617</td>\n",
       "      <td>0.036194</td>\n",
       "      <td>-0.040149</td>\n",
       "      <td>-0.010866</td>\n",
       "      <td>0.032866</td>\n",
       "      <td>0.001423</td>\n",
       "    </tr>\n",
       "    <tr>\n",
       "      <th>Real Lower Band</th>\n",
       "      <td>-0.300236</td>\n",
       "      <td>0.096988</td>\n",
       "      <td>-0.000384</td>\n",
       "      <td>-0.006798</td>\n",
       "      <td>-0.010505</td>\n",
       "      <td>-0.020750</td>\n",
       "      <td>-0.026953</td>\n",
       "      <td>0.032709</td>\n",
       "      <td>0.010033</td>\n",
       "    </tr>\n",
       "    <tr>\n",
       "      <th>Real Middle Band</th>\n",
       "      <td>-0.297747</td>\n",
       "      <td>0.109202</td>\n",
       "      <td>0.013606</td>\n",
       "      <td>-0.015331</td>\n",
       "      <td>0.028937</td>\n",
       "      <td>-0.032186</td>\n",
       "      <td>-0.017597</td>\n",
       "      <td>0.033382</td>\n",
       "      <td>0.000490</td>\n",
       "    </tr>\n",
       "    <tr>\n",
       "      <th>Real Upper Band</th>\n",
       "      <td>-0.290284</td>\n",
       "      <td>0.119891</td>\n",
       "      <td>0.027689</td>\n",
       "      <td>-0.023806</td>\n",
       "      <td>0.068800</td>\n",
       "      <td>-0.043351</td>\n",
       "      <td>-0.007737</td>\n",
       "      <td>0.033519</td>\n",
       "      <td>-0.009279</td>\n",
       "    </tr>\n",
       "    <tr>\n",
       "      <th>MACD</th>\n",
       "      <td>-0.101575</td>\n",
       "      <td>-0.242448</td>\n",
       "      <td>-0.178568</td>\n",
       "      <td>0.167858</td>\n",
       "      <td>-0.327176</td>\n",
       "      <td>-0.034513</td>\n",
       "      <td>-0.079791</td>\n",
       "      <td>-0.139334</td>\n",
       "      <td>-0.020214</td>\n",
       "    </tr>\n",
       "    <tr>\n",
       "      <th>MACD_Hist</th>\n",
       "      <td>-0.025513</td>\n",
       "      <td>-0.286613</td>\n",
       "      <td>0.044218</td>\n",
       "      <td>-0.060933</td>\n",
       "      <td>0.241852</td>\n",
       "      <td>-0.178883</td>\n",
       "      <td>0.149107</td>\n",
       "      <td>0.017080</td>\n",
       "      <td>0.016708</td>\n",
       "    </tr>\n",
       "    <tr>\n",
       "      <th>MACD_Signal</th>\n",
       "      <td>-0.099640</td>\n",
       "      <td>-0.166239</td>\n",
       "      <td>-0.203419</td>\n",
       "      <td>0.197361</td>\n",
       "      <td>-0.423721</td>\n",
       "      <td>0.020133</td>\n",
       "      <td>-0.131921</td>\n",
       "      <td>-0.153199</td>\n",
       "      <td>-0.026739</td>\n",
       "    </tr>\n",
       "    <tr>\n",
       "      <th>SlowD</th>\n",
       "      <td>-0.062891</td>\n",
       "      <td>-0.293995</td>\n",
       "      <td>-0.020936</td>\n",
       "      <td>-0.009314</td>\n",
       "      <td>0.239464</td>\n",
       "      <td>0.056986</td>\n",
       "      <td>0.012941</td>\n",
       "      <td>0.069371</td>\n",
       "      <td>0.050297</td>\n",
       "    </tr>\n",
       "    <tr>\n",
       "      <th>SlowK</th>\n",
       "      <td>-0.057259</td>\n",
       "      <td>-0.280172</td>\n",
       "      <td>0.096600</td>\n",
       "      <td>-0.032398</td>\n",
       "      <td>0.206148</td>\n",
       "      <td>0.063921</td>\n",
       "      <td>0.000354</td>\n",
       "      <td>0.105905</td>\n",
       "      <td>0.057258</td>\n",
       "    </tr>\n",
       "    <tr>\n",
       "      <th>CCI</th>\n",
       "      <td>-0.071806</td>\n",
       "      <td>-0.336142</td>\n",
       "      <td>0.048118</td>\n",
       "      <td>0.030499</td>\n",
       "      <td>0.016154</td>\n",
       "      <td>0.002078</td>\n",
       "      <td>0.078136</td>\n",
       "      <td>0.049868</td>\n",
       "      <td>0.004050</td>\n",
       "    </tr>\n",
       "    <tr>\n",
       "      <th>OBV</th>\n",
       "      <td>-0.155847</td>\n",
       "      <td>-0.022909</td>\n",
       "      <td>0.030085</td>\n",
       "      <td>0.068051</td>\n",
       "      <td>-0.043106</td>\n",
       "      <td>0.499716</td>\n",
       "      <td>0.244034</td>\n",
       "      <td>-0.257989</td>\n",
       "      <td>-0.021682</td>\n",
       "    </tr>\n",
       "    <tr>\n",
       "      <th>EMA_Reversal</th>\n",
       "      <td>-0.093390</td>\n",
       "      <td>-0.311398</td>\n",
       "      <td>-0.106859</td>\n",
       "      <td>0.096428</td>\n",
       "      <td>-0.153296</td>\n",
       "      <td>-0.094874</td>\n",
       "      <td>-0.005942</td>\n",
       "      <td>-0.099634</td>\n",
       "      <td>-0.014387</td>\n",
       "    </tr>\n",
       "    <tr>\n",
       "      <th>Returns</th>\n",
       "      <td>0.012426</td>\n",
       "      <td>0.085766</td>\n",
       "      <td>-0.454653</td>\n",
       "      <td>0.102094</td>\n",
       "      <td>0.203881</td>\n",
       "      <td>0.054891</td>\n",
       "      <td>-0.003676</td>\n",
       "      <td>0.011511</td>\n",
       "      <td>0.019261</td>\n",
       "    </tr>\n",
       "    <tr>\n",
       "      <th>EMA_Trend_Down</th>\n",
       "      <td>0.078401</td>\n",
       "      <td>0.295759</td>\n",
       "      <td>0.114601</td>\n",
       "      <td>-0.081481</td>\n",
       "      <td>0.137642</td>\n",
       "      <td>-0.015492</td>\n",
       "      <td>-0.097660</td>\n",
       "      <td>0.085268</td>\n",
       "      <td>-0.113237</td>\n",
       "    </tr>\n",
       "    <tr>\n",
       "      <th>EMA_Trend_Reversal</th>\n",
       "      <td>-0.005061</td>\n",
       "      <td>0.014326</td>\n",
       "      <td>-0.049337</td>\n",
       "      <td>-0.113591</td>\n",
       "      <td>-0.089698</td>\n",
       "      <td>-0.047391</td>\n",
       "      <td>0.103952</td>\n",
       "      <td>-0.170589</td>\n",
       "      <td>0.932974</td>\n",
       "    </tr>\n",
       "    <tr>\n",
       "      <th>EMA_Trend_Up</th>\n",
       "      <td>-0.075737</td>\n",
       "      <td>-0.297563</td>\n",
       "      <td>-0.095828</td>\n",
       "      <td>0.120875</td>\n",
       "      <td>-0.104295</td>\n",
       "      <td>0.032133</td>\n",
       "      <td>0.059700</td>\n",
       "      <td>-0.023806</td>\n",
       "      <td>-0.218996</td>\n",
       "    </tr>\n",
       "    <tr>\n",
       "      <th>StoReversal_NoReversal</th>\n",
       "      <td>-0.043227</td>\n",
       "      <td>-0.172232</td>\n",
       "      <td>-0.022310</td>\n",
       "      <td>-0.361670</td>\n",
       "      <td>0.113780</td>\n",
       "      <td>0.229238</td>\n",
       "      <td>-0.483166</td>\n",
       "      <td>-0.119874</td>\n",
       "      <td>0.008461</td>\n",
       "    </tr>\n",
       "    <tr>\n",
       "      <th>StoReversal_Reversal</th>\n",
       "      <td>0.043227</td>\n",
       "      <td>0.172232</td>\n",
       "      <td>0.022310</td>\n",
       "      <td>0.361670</td>\n",
       "      <td>-0.113780</td>\n",
       "      <td>-0.229238</td>\n",
       "      <td>0.483166</td>\n",
       "      <td>0.119874</td>\n",
       "      <td>-0.008461</td>\n",
       "    </tr>\n",
       "    <tr>\n",
       "      <th>MACDTrend_Down</th>\n",
       "      <td>0.040227</td>\n",
       "      <td>0.278512</td>\n",
       "      <td>-0.013753</td>\n",
       "      <td>0.056102</td>\n",
       "      <td>-0.176359</td>\n",
       "      <td>-0.025452</td>\n",
       "      <td>-0.241634</td>\n",
       "      <td>-0.345176</td>\n",
       "      <td>-0.053789</td>\n",
       "    </tr>\n",
       "    <tr>\n",
       "      <th>MACDTrend_Reversal</th>\n",
       "      <td>-0.022105</td>\n",
       "      <td>-0.067132</td>\n",
       "      <td>-0.100126</td>\n",
       "      <td>-0.131631</td>\n",
       "      <td>-0.216153</td>\n",
       "      <td>0.378087</td>\n",
       "      <td>0.128329</td>\n",
       "      <td>0.673884</td>\n",
       "      <td>0.087774</td>\n",
       "    </tr>\n",
       "    <tr>\n",
       "      <th>MACDTrend_Up</th>\n",
       "      <td>-0.021629</td>\n",
       "      <td>-0.223665</td>\n",
       "      <td>0.100047</td>\n",
       "      <td>0.056568</td>\n",
       "      <td>0.364185</td>\n",
       "      <td>-0.299592</td>\n",
       "      <td>0.133747</td>\n",
       "      <td>-0.231031</td>\n",
       "      <td>-0.021170</td>\n",
       "    </tr>\n",
       "    <tr>\n",
       "      <th>OBVTrend_Down</th>\n",
       "      <td>0.011104</td>\n",
       "      <td>0.079992</td>\n",
       "      <td>-0.539893</td>\n",
       "      <td>0.063390</td>\n",
       "      <td>0.235721</td>\n",
       "      <td>0.014369</td>\n",
       "      <td>0.001449</td>\n",
       "      <td>0.012406</td>\n",
       "      <td>0.002883</td>\n",
       "    </tr>\n",
       "    <tr>\n",
       "      <th>OBVTrend_Up</th>\n",
       "      <td>-0.012473</td>\n",
       "      <td>-0.078522</td>\n",
       "      <td>0.541078</td>\n",
       "      <td>-0.061137</td>\n",
       "      <td>-0.234507</td>\n",
       "      <td>-0.006523</td>\n",
       "      <td>0.004074</td>\n",
       "      <td>-0.013898</td>\n",
       "      <td>0.000443</td>\n",
       "    </tr>\n",
       "    <tr>\n",
       "      <th>CCITrend_NoReversal</th>\n",
       "      <td>-0.001931</td>\n",
       "      <td>0.000681</td>\n",
       "      <td>-0.164526</td>\n",
       "      <td>-0.535273</td>\n",
       "      <td>-0.171728</td>\n",
       "      <td>-0.152650</td>\n",
       "      <td>0.291515</td>\n",
       "      <td>-0.113264</td>\n",
       "      <td>-0.149245</td>\n",
       "    </tr>\n",
       "    <tr>\n",
       "      <th>CCITrend_Reversal</th>\n",
       "      <td>0.001931</td>\n",
       "      <td>-0.000681</td>\n",
       "      <td>0.164526</td>\n",
       "      <td>0.535273</td>\n",
       "      <td>0.171728</td>\n",
       "      <td>0.152650</td>\n",
       "      <td>-0.291515</td>\n",
       "      <td>0.113264</td>\n",
       "      <td>0.149245</td>\n",
       "    </tr>\n",
       "  </tbody>\n",
       "</table>\n",
       "</div>"
      ],
      "text/plain": [
       "                             PC1       PC2       PC3       PC4       PC5  \\\n",
       "High                   -0.307564  0.058394  0.008802 -0.011154  0.029491   \n",
       "Low                    -0.309202  0.048730  0.006073 -0.007051  0.016340   \n",
       "Open                   -0.308044  0.056193 -0.005096 -0.006882  0.028066   \n",
       "Close                  -0.308729  0.050450  0.023891 -0.012682  0.016678   \n",
       "Volume                  0.055243  0.071268  0.075272  0.029299  0.182691   \n",
       "Adj Close              -0.290620  0.040974  0.042367  0.012391  0.034453   \n",
       "5-DayEMA               -0.306933  0.066496  0.001832 -0.005262  0.019629   \n",
       "20-DayEMA              -0.299761  0.100387  0.013270 -0.015617  0.036194   \n",
       "Real Lower Band        -0.300236  0.096988 -0.000384 -0.006798 -0.010505   \n",
       "Real Middle Band       -0.297747  0.109202  0.013606 -0.015331  0.028937   \n",
       "Real Upper Band        -0.290284  0.119891  0.027689 -0.023806  0.068800   \n",
       "MACD                   -0.101575 -0.242448 -0.178568  0.167858 -0.327176   \n",
       "MACD_Hist              -0.025513 -0.286613  0.044218 -0.060933  0.241852   \n",
       "MACD_Signal            -0.099640 -0.166239 -0.203419  0.197361 -0.423721   \n",
       "SlowD                  -0.062891 -0.293995 -0.020936 -0.009314  0.239464   \n",
       "SlowK                  -0.057259 -0.280172  0.096600 -0.032398  0.206148   \n",
       "CCI                    -0.071806 -0.336142  0.048118  0.030499  0.016154   \n",
       "OBV                    -0.155847 -0.022909  0.030085  0.068051 -0.043106   \n",
       "EMA_Reversal           -0.093390 -0.311398 -0.106859  0.096428 -0.153296   \n",
       "Returns                 0.012426  0.085766 -0.454653  0.102094  0.203881   \n",
       "EMA_Trend_Down          0.078401  0.295759  0.114601 -0.081481  0.137642   \n",
       "EMA_Trend_Reversal     -0.005061  0.014326 -0.049337 -0.113591 -0.089698   \n",
       "EMA_Trend_Up           -0.075737 -0.297563 -0.095828  0.120875 -0.104295   \n",
       "StoReversal_NoReversal -0.043227 -0.172232 -0.022310 -0.361670  0.113780   \n",
       "StoReversal_Reversal    0.043227  0.172232  0.022310  0.361670 -0.113780   \n",
       "MACDTrend_Down          0.040227  0.278512 -0.013753  0.056102 -0.176359   \n",
       "MACDTrend_Reversal     -0.022105 -0.067132 -0.100126 -0.131631 -0.216153   \n",
       "MACDTrend_Up           -0.021629 -0.223665  0.100047  0.056568  0.364185   \n",
       "OBVTrend_Down           0.011104  0.079992 -0.539893  0.063390  0.235721   \n",
       "OBVTrend_Up            -0.012473 -0.078522  0.541078 -0.061137 -0.234507   \n",
       "CCITrend_NoReversal    -0.001931  0.000681 -0.164526 -0.535273 -0.171728   \n",
       "CCITrend_Reversal       0.001931 -0.000681  0.164526  0.535273  0.171728   \n",
       "\n",
       "                             PC6       PC7       PC8       PC9  \n",
       "High                   -0.053875 -0.010380  0.024649 -0.000095  \n",
       "Low                    -0.054259 -0.011209  0.025893  0.003265  \n",
       "Open                   -0.052623 -0.011694  0.025129  0.002035  \n",
       "Close                  -0.054962 -0.010575  0.024375  0.000432  \n",
       "Volume                  0.503474  0.336812 -0.348664 -0.065680  \n",
       "Adj Close               0.189602  0.139013 -0.120108 -0.015459  \n",
       "5-DayEMA               -0.049833 -0.011397  0.022015 -0.000113  \n",
       "20-DayEMA              -0.040149 -0.010866  0.032866  0.001423  \n",
       "Real Lower Band        -0.020750 -0.026953  0.032709  0.010033  \n",
       "Real Middle Band       -0.032186 -0.017597  0.033382  0.000490  \n",
       "Real Upper Band        -0.043351 -0.007737  0.033519 -0.009279  \n",
       "MACD                   -0.034513 -0.079791 -0.139334 -0.020214  \n",
       "MACD_Hist              -0.178883  0.149107  0.017080  0.016708  \n",
       "MACD_Signal             0.020133 -0.131921 -0.153199 -0.026739  \n",
       "SlowD                   0.056986  0.012941  0.069371  0.050297  \n",
       "SlowK                   0.063921  0.000354  0.105905  0.057258  \n",
       "CCI                     0.002078  0.078136  0.049868  0.004050  \n",
       "OBV                     0.499716  0.244034 -0.257989 -0.021682  \n",
       "EMA_Reversal           -0.094874 -0.005942 -0.099634 -0.014387  \n",
       "Returns                 0.054891 -0.003676  0.011511  0.019261  \n",
       "EMA_Trend_Down         -0.015492 -0.097660  0.085268 -0.113237  \n",
       "EMA_Trend_Reversal     -0.047391  0.103952 -0.170589  0.932974  \n",
       "EMA_Trend_Up            0.032133  0.059700 -0.023806 -0.218996  \n",
       "StoReversal_NoReversal  0.229238 -0.483166 -0.119874  0.008461  \n",
       "StoReversal_Reversal   -0.229238  0.483166  0.119874 -0.008461  \n",
       "MACDTrend_Down         -0.025452 -0.241634 -0.345176 -0.053789  \n",
       "MACDTrend_Reversal      0.378087  0.128329  0.673884  0.087774  \n",
       "MACDTrend_Up           -0.299592  0.133747 -0.231031 -0.021170  \n",
       "OBVTrend_Down           0.014369  0.001449  0.012406  0.002883  \n",
       "OBVTrend_Up            -0.006523  0.004074 -0.013898  0.000443  \n",
       "CCITrend_NoReversal    -0.152650  0.291515 -0.113264 -0.149245  \n",
       "CCITrend_Reversal       0.152650 -0.291515  0.113264  0.149245  "
      ]
     },
     "execution_count": 17,
     "metadata": {},
     "output_type": "execute_result"
    }
   ],
   "source": [
    "#The transpose matrix reveals the 5 principal components which have been extracted from the dataset\n",
    "pcacomp_df"
   ]
  },
  {
   "cell_type": "code",
   "execution_count": 18,
   "metadata": {},
   "outputs": [
    {
     "data": {
      "text/plain": [
       "Text(0, 0.5, 'Principal Component 2')"
      ]
     },
     "execution_count": 18,
     "metadata": {},
     "output_type": "execute_result"
    },
    {
     "data": {
      "image/png": "[encoded data removed]",
      "text/plain": [
       "<Figure size 864x432 with 1 Axes>"
      ]
     },
     "metadata": {
      "needs_background": "light"
     },
     "output_type": "display_data"
    }
   ],
   "source": [
    "#Plotting the PCA plot on a 2d space \n",
    "target_ids = range(len(y_train))\n",
    "\n",
    "plt.figure(figsize=(12, 6))\n",
    "for i, c, label in zip(target_ids, 'ybr', y_train.unique()):\n",
    "    plt.scatter(pca_Xtrain[y_train == i, 0], pca_Xtrain[y_train == i, 1],\n",
    "               c=c, edgecolor='black', label=label, linewidth='1')\n",
    "plt.legend(loc='best')\n",
    "plt.xlabel('Principal Component 1')\n",
    "plt.ylabel('Principal Component 2')\n",
    "#plt.savefig('pcaplot.png', dpi=400)"
   ]
  },
  {
   "cell_type": "code",
   "execution_count": 19,
   "metadata": {},
   "outputs": [
    {
     "data": {
      "text/plain": [
       "array([31.85949985, 22.94831851,  8.07837203,  7.29443866,  6.8989457 ,\n",
       "        4.67849492,  4.28653318,  3.66670525,  3.19439177])"
      ]
     },
     "execution_count": 19,
     "metadata": {},
     "output_type": "execute_result"
    }
   ],
   "source": [
    "pca.explained_variance_ratio_*100"
   ]
  },
  {
   "cell_type": "code",
   "execution_count": 20,
   "metadata": {},
   "outputs": [
    {
     "data": {
      "text/plain": [
       "Text(0, 0.5, '% Variance explained')"
      ]
     },
     "execution_count": 20,
     "metadata": {},
     "output_type": "execute_result"
    },
    {
     "data": {
      "image/png": "[encoded data removed]",
      "text/plain": [
       "<Figure size 1080x432 with 1 Axes>"
      ]
     },
     "metadata": {
      "needs_background": "light"
     },
     "output_type": "display_data"
    }
   ],
   "source": [
    "pallette = sns.color_palette(\"GnBu_d\")\n",
    "plt.figure(figsize=(15,6))\n",
    "sns.barplot(np.arange(1, 10), pca.explained_variance_ratio_*100, palette=pallette)\n",
    "plt.plot(pca.explained_variance_ratio_*100, 'ro-')\n",
    "plt.xlabel('Principal Components')\n",
    "plt.ylabel('% Variance explained')\n",
    "#plt.savefig('varianceexplained.png', dpi=400)"
   ]
  },
  {
   "cell_type": "markdown",
   "metadata": {},
   "source": [
    "### Varimax Rotation PCA \n",
    "\n",
    "Varimax Rotation PCA is a subset of PCA where instead of the orthogonal basis sitting at a different coordinate space, it is rotated to align with the coordinates of the vector space. The reason this was done was due to the fact that Orthogonal PCA was producing components which did not hold significant amounts of correlation with their respective components, hence the eigenvectors were rotated by using varimax rotation.\n",
    "\n",
    "###### The extraction of the components was done in R using \"psych\" library's \"principal()\" function with rotation as \"varimax\". Varimax rotation was done in Python to obtain the new principal components after varimax rotation."
   ]
  },
  {
   "cell_type": "code",
   "execution_count": 21,
   "metadata": {},
   "outputs": [],
   "source": [
    "def varimax(Phi, gamma = 1.0, q = 50, tol = 1e-6):\n",
    "    from scipy import eye, asarray, dot, sum, diag\n",
    "    from scipy.linalg import svd\n",
    "    p,k = Phi.shape\n",
    "    R = eye(k)\n",
    "    d=0\n",
    "    for i in range(q):\n",
    "        d_old = d\n",
    "        Lambda = dot(Phi, R)\n",
    "        u,s,vh = svd(dot(Phi.T,asarray(Lambda)**3 - (gamma/p) * dot(Lambda, diag(diag(dot(Lambda.T,Lambda))))))\n",
    "        R = dot(u,vh)\n",
    "        d = sum(s)\n",
    "        if d_old!=0 and d/d_old < 1 + tol: break\n",
    "    return dot(Phi, R)"
   ]
  },
  {
   "cell_type": "code",
   "execution_count": 22,
   "metadata": {},
   "outputs": [],
   "source": [
    "#Varimax rotated principal components \n",
    "pca_Xtrain2 = varimax(pca_Xtrain)\n",
    "pca_Xtest2 = varimax(pca_Xtest)"
   ]
  },
  {
   "cell_type": "markdown",
   "metadata": {},
   "source": [
    "## Cross validation and model tuning \n",
    "\n",
    "The next step is to run cross-validation and assess the model accuracy using K-fold validation, k = 10"
   ]
  },
  {
   "cell_type": "code",
   "execution_count": 23,
   "metadata": {},
   "outputs": [],
   "source": [
    "#The base classifiers \n",
    "from sklearn.neighbors import KNeighborsClassifier\n",
    "from sklearn.ensemble import RandomForestClassifier\n",
    "from sklearn.svm import SVC\n",
    "\n",
    "#Cross validation modules\n",
    "from sklearn.model_selection import cross_val_score, cross_val_predict\n",
    "\n",
    "#Instantiate the models \n",
    "svc = SVC(gamma=0.1, C=1, kernel='rbf')\n",
    "rfc = RandomForestClassifier(n_estimators=100)\n",
    "knn = KNeighborsClassifier(n_neighbors=7)\n",
    "\n",
    "class cv_library:\n",
    "    pass \n",
    "    \n",
    "    def cross_val_metrics(clf):\n",
    "        scores = cross_val_score(clf, pca_Xtrain2, y_train, cv=10, scoring='accuracy') #pca_Xtrain2 is varimax rotated\n",
    "        scores_mean = np.mean(scores)\n",
    "        scores_stdev = np.std(scores)\n",
    "        return scores, scores_mean, scores_stdev\n",
    "\n",
    "    def cv_plotter(clf):\n",
    "        scores = cross_val_score(clf, pca_Xtrain2, y_train, cv=10, scoring='accuracy')\n",
    "        plt.plot(scores, 'bo-')\n",
    "        plt.xlim([0, 10])\n",
    "        plt.show()"
   ]
  },
  {
   "cell_type": "code",
   "execution_count": 30,
   "metadata": {},
   "outputs": [],
   "source": [
    "svc_cvscores = cross_val_score(svc, pca_Xtrain, y_train, cv=10, scoring='accuracy')\n",
    "knn_cvscores = cross_val_score(knn, pca_Xtrain, y_train, cv=10, scoring='accuracy')\n",
    "rfc_scores = cross_val_score(rfc, pca_Xtrain, y_train, cv=10, scoring='accuracy')"
   ]
  },
  {
   "cell_type": "code",
   "execution_count": 31,
   "metadata": {},
   "outputs": [
    {
     "data": {
      "text/plain": [
       "array([0.77380952, 0.76785714, 0.78869048, 0.80952381, 0.80952381,\n",
       "       0.79166667, 0.7797619 , 0.82686567, 0.80298507, 0.7994012 ])"
      ]
     },
     "execution_count": 31,
     "metadata": {},
     "output_type": "execute_result"
    }
   ],
   "source": [
    "svc_cvscores"
   ]
  },
  {
   "cell_type": "code",
   "execution_count": 32,
   "metadata": {},
   "outputs": [
    {
     "data": {
      "text/plain": [
       "array([0.75892857, 0.74702381, 0.75297619, 0.76190476, 0.63690476,\n",
       "       0.7202381 , 0.75297619, 0.8119403 , 0.81791045, 0.76047904])"
      ]
     },
     "execution_count": 32,
     "metadata": {},
     "output_type": "execute_result"
    }
   ],
   "source": [
    "knn_cvscores"
   ]
  },
  {
   "cell_type": "code",
   "execution_count": 33,
   "metadata": {},
   "outputs": [
    {
     "data": {
      "text/plain": [
       "array([0.85416667, 0.83333333, 0.79761905, 0.81547619, 0.81547619,\n",
       "       0.85119048, 0.85119048, 0.82686567, 0.85373134, 0.92215569])"
      ]
     },
     "execution_count": 33,
     "metadata": {},
     "output_type": "execute_result"
    }
   ],
   "source": [
    "rfc_scores"
   ]
  },
  {
   "cell_type": "code",
   "execution_count": 36,
   "metadata": {},
   "outputs": [],
   "source": [
    "xyz = []\n",
    "accuracy = []\n",
    "std = []\n",
    "classifiers = [\"SVC\", \"RandomForests\", \"KNN\"]\n",
    "\n",
    "models = [svc, rfc, knn]\n",
    "\n",
    "for model in models:\n",
    "    cv_results = cross_val_score(model, pca_Xtrain, y_train, cv=10)\n",
    "    xyz.append(cv_results.mean())\n",
    "    std.append(cv_results.std())\n",
    "    accuracy.append(cv_results)\n",
    "\n",
    "cv_df = pd.DataFrame({'CV Mean':xyz, 'Deviation': std}, index=classifiers)"
   ]
  },
  {
   "cell_type": "code",
   "execution_count": 100,
   "metadata": {},
   "outputs": [
    {
     "name": "stdout",
     "output_type": "stream",
     "text": [
      "\\begin{tabular}{lrr}\n",
      "\\toprule\n",
      "{} &   CV Mean &  Deviation \\\\\n",
      "\\midrule\n",
      "SVC           &  0.795009 &   0.017290 \\\\\n",
      "RandomForests &  0.844202 &   0.032720 \\\\\n",
      "KNN           &  0.752128 &   0.047368 \\\\\n",
      "\\bottomrule\n",
      "\\end{tabular}\n",
      "\n"
     ]
    }
   ],
   "source": [
    "print(cv_df.to_latex())"
   ]
  },
  {
   "cell_type": "code",
   "execution_count": 34,
   "metadata": {},
   "outputs": [
    {
     "data": {
      "text/plain": [
       "Text(0, 0.5, 'Accuracy per fold')"
      ]
     },
     "execution_count": 34,
     "metadata": {},
     "output_type": "execute_result"
    },
    {
     "data": {
      "image/png": "[encoded data removed]",
      "text/plain": [
       "<Figure size 864x432 with 1 Axes>"
      ]
     },
     "metadata": {
      "needs_background": "light"
     },
     "output_type": "display_data"
    }
   ],
   "source": [
    "plt.figure(figsize=(12,6))\n",
    "plt.plot(svc_cvscores, 'bo-')\n",
    "plt.plot(rfc_scores, 'go-')\n",
    "plt.plot(knn_cvscores, 'ro-')\n",
    "plt.legend((\"SVC\", \"RFC\", \"KNN\"))\n",
    "plt.xlabel('K-folds')\n",
    "plt.ylabel('Accuracy per fold')\n",
    "#plt.savefig('cv2.png', dpi=300)"
   ]
  },
  {
   "cell_type": "code",
   "execution_count": 37,
   "metadata": {},
   "outputs": [
    {
     "data": {
      "text/plain": [
       "Text(0, 0.5, 'CV scores')"
      ]
     },
     "execution_count": 37,
     "metadata": {},
     "output_type": "execute_result"
    },
    {
     "data": {
      "image/png": "[encoded data removed]",
      "text/plain": [
       "<Figure size 864x432 with 1 Axes>"
      ]
     },
     "metadata": {
      "needs_background": "light"
     },
     "output_type": "display_data"
    }
   ],
   "source": [
    "plt.figure(figsize=(12,6))\n",
    "cv_df.T.boxplot()\n",
    "plt.ylabel('CV scores')\n",
    "#plt.savefig('boxcv.png', dpi=300)"
   ]
  },
  {
   "cell_type": "code",
   "execution_count": 481,
   "metadata": {},
   "outputs": [
    {
     "data": {
      "image/png": "[encoded data removed]",
      "text/plain": [
       "<Figure size 576x396 with 1 Axes>"
      ]
     },
     "metadata": {},
     "output_type": "display_data"
    }
   ],
   "source": [
    "from yellowbrick.model_selection import ValidationCurve\n",
    "\n",
    "viz = ValidationCurve(knn, param_name=\"n_neighbors\", param_range=np.arange(1, 51), cv=5, scoring='accuracy')\n",
    "\n",
    "viz.fit(pca_Xtrain2, y_train)\n",
    "viz.poof()"
   ]
  },
  {
   "cell_type": "code",
   "execution_count": 23,
   "metadata": {},
   "outputs": [
    {
     "data": {
      "image/png": "[encoded data removed]",
      "text/plain": [
       "<Figure size 432x288 with 1 Axes>"
      ]
     },
     "metadata": {
      "needs_background": "light"
     },
     "output_type": "display_data"
    }
   ],
   "source": [
    "cv_library.cv_plotter(svc)"
   ]
  },
  {
   "cell_type": "code",
   "execution_count": 38,
   "metadata": {},
   "outputs": [],
   "source": [
    "#Plotting the graph of CV scores\n",
    "scores3, mean, dev_ = cv_library.cross_val_metrics(knn)"
   ]
  },
  {
   "cell_type": "code",
   "execution_count": 39,
   "metadata": {},
   "outputs": [
    {
     "ename": "NameError",
     "evalue": "name 'scores' is not defined",
     "output_type": "error",
     "traceback": [
      "\u001b[0;31m---------------------------------------------------------------------------\u001b[0m",
      "\u001b[0;31mNameError\u001b[0m                                 Traceback (most recent call last)",
      "\u001b[0;32m<ipython-input-39-d3f545696a16>\u001b[0m in \u001b[0;36m<module>\u001b[0;34m\u001b[0m\n\u001b[1;32m      1\u001b[0m \u001b[0mplt\u001b[0m\u001b[0;34m.\u001b[0m\u001b[0mfigure\u001b[0m\u001b[0;34m(\u001b[0m\u001b[0mfigsize\u001b[0m\u001b[0;34m=\u001b[0m\u001b[0;34m(\u001b[0m\u001b[0;36m15\u001b[0m\u001b[0;34m,\u001b[0m\u001b[0;36m6\u001b[0m\u001b[0;34m)\u001b[0m\u001b[0;34m)\u001b[0m\u001b[0;34m\u001b[0m\u001b[0;34m\u001b[0m\u001b[0m\n\u001b[1;32m      2\u001b[0m \u001b[0mticks\u001b[0m \u001b[0;34m=\u001b[0m \u001b[0;34m[\u001b[0m\u001b[0;36m1\u001b[0m\u001b[0;34m,\u001b[0m \u001b[0;36m2\u001b[0m\u001b[0;34m,\u001b[0m \u001b[0;36m3\u001b[0m\u001b[0;34m,\u001b[0m \u001b[0;36m4\u001b[0m\u001b[0;34m,\u001b[0m \u001b[0;36m5\u001b[0m\u001b[0;34m,\u001b[0m \u001b[0;36m6\u001b[0m\u001b[0;34m,\u001b[0m \u001b[0;36m7\u001b[0m\u001b[0;34m,\u001b[0m \u001b[0;36m8\u001b[0m\u001b[0;34m,\u001b[0m \u001b[0;36m9\u001b[0m\u001b[0;34m,\u001b[0m \u001b[0;36m10\u001b[0m\u001b[0;34m]\u001b[0m\u001b[0;34m\u001b[0m\u001b[0;34m\u001b[0m\u001b[0m\n\u001b[0;32m----> 3\u001b[0;31m \u001b[0mplt\u001b[0m\u001b[0;34m.\u001b[0m\u001b[0mplot\u001b[0m\u001b[0;34m(\u001b[0m\u001b[0mscores\u001b[0m\u001b[0;34m,\u001b[0m \u001b[0;34m'bo-'\u001b[0m\u001b[0;34m)\u001b[0m\u001b[0;34m\u001b[0m\u001b[0;34m\u001b[0m\u001b[0m\n\u001b[0m\u001b[1;32m      4\u001b[0m \u001b[0mplt\u001b[0m\u001b[0;34m.\u001b[0m\u001b[0mplot\u001b[0m\u001b[0;34m(\u001b[0m\u001b[0mscores2\u001b[0m\u001b[0;34m,\u001b[0m \u001b[0;34m'ro-'\u001b[0m\u001b[0;34m)\u001b[0m\u001b[0;34m\u001b[0m\u001b[0;34m\u001b[0m\u001b[0m\n\u001b[1;32m      5\u001b[0m \u001b[0mplt\u001b[0m\u001b[0;34m.\u001b[0m\u001b[0mplot\u001b[0m\u001b[0;34m(\u001b[0m\u001b[0mscores3\u001b[0m\u001b[0;34m,\u001b[0m \u001b[0;34m'go-'\u001b[0m\u001b[0;34m)\u001b[0m\u001b[0;34m\u001b[0m\u001b[0;34m\u001b[0m\u001b[0m\n",
      "\u001b[0;31mNameError\u001b[0m: name 'scores' is not defined"
     ]
    },
    {
     "data": {
      "text/plain": [
       "<Figure size 1080x432 with 0 Axes>"
      ]
     },
     "metadata": {},
     "output_type": "display_data"
    }
   ],
   "source": [
    "plt.figure(figsize=(15,6))\n",
    "ticks = [1, 2, 3, 4, 5, 6, 7, 8, 9, 10]\n",
    "plt.plot(scores, 'bo-')\n",
    "plt.plot(scores2, 'ro-')\n",
    "plt.plot(scores3, 'go-')\n",
    "plt.legend((\"Support Vector Classifier\", \"RandomForestClassifier\", \"KNN\"))\n",
    "plt.xlabel('No. of Folds in Cross-validation')\n",
    "plt.ylabel('Validation accuracy scores')\n",
    "#plt.savefig('cv.png', dpi=300)"
   ]
  },
  {
   "cell_type": "code",
   "execution_count": 40,
   "metadata": {
    "scrolled": true
   },
   "outputs": [
    {
     "ename": "ValueError",
     "evalue": "too many values to unpack (expected 2)",
     "output_type": "error",
     "traceback": [
      "\u001b[0;31m---------------------------------------------------------------------------\u001b[0m",
      "\u001b[0;31mValueError\u001b[0m                                Traceback (most recent call last)",
      "\u001b[0;32m<ipython-input-40-6f92d09eb623>\u001b[0m in \u001b[0;36m<module>\u001b[0;34m\u001b[0m\n\u001b[1;32m      4\u001b[0m \u001b[0mdeviation\u001b[0m \u001b[0;34m=\u001b[0m \u001b[0;34m[\u001b[0m\u001b[0;34m]\u001b[0m\u001b[0;34m\u001b[0m\u001b[0;34m\u001b[0m\u001b[0m\n\u001b[1;32m      5\u001b[0m \u001b[0;32mfor\u001b[0m \u001b[0mmodel\u001b[0m \u001b[0;32min\u001b[0m \u001b[0mmodels\u001b[0m\u001b[0;34m:\u001b[0m\u001b[0;34m\u001b[0m\u001b[0;34m\u001b[0m\u001b[0m\n\u001b[0;32m----> 6\u001b[0;31m     \u001b[0mmean\u001b[0m\u001b[0;34m,\u001b[0m \u001b[0mstdev\u001b[0m \u001b[0;34m=\u001b[0m \u001b[0mcv_library\u001b[0m\u001b[0;34m.\u001b[0m\u001b[0mcross_val_metrics\u001b[0m\u001b[0;34m(\u001b[0m\u001b[0mmodel\u001b[0m\u001b[0;34m)\u001b[0m\u001b[0;34m\u001b[0m\u001b[0;34m\u001b[0m\u001b[0m\n\u001b[0m\u001b[1;32m      7\u001b[0m     \u001b[0maverage\u001b[0m\u001b[0;34m.\u001b[0m\u001b[0mappend\u001b[0m\u001b[0;34m(\u001b[0m\u001b[0mmean\u001b[0m\u001b[0;34m)\u001b[0m\u001b[0;34m\u001b[0m\u001b[0;34m\u001b[0m\u001b[0m\n\u001b[1;32m      8\u001b[0m     \u001b[0mdeviation\u001b[0m\u001b[0;34m.\u001b[0m\u001b[0mappend\u001b[0m\u001b[0;34m(\u001b[0m\u001b[0mstdev\u001b[0m\u001b[0;34m)\u001b[0m\u001b[0;34m\u001b[0m\u001b[0;34m\u001b[0m\u001b[0m\n",
      "\u001b[0;31mValueError\u001b[0m: too many values to unpack (expected 2)"
     ]
    }
   ],
   "source": [
    "models = [svc, rfc, knn]\n",
    "\n",
    "average = []\n",
    "deviation = []\n",
    "for model in models:\n",
    "    mean, stdev = cv_library.cross_val_metrics(model)\n",
    "    average.append(mean)\n",
    "    deviation.append(stdev)"
   ]
  },
  {
   "cell_type": "code",
   "execution_count": 41,
   "metadata": {},
   "outputs": [
    {
     "name": "stdout",
     "output_type": "stream",
     "text": [
      "Mean scores of 10-fold CV for the three classifiers:  []\n",
      "\n",
      " Standard deviation of the scores:  []\n"
     ]
    }
   ],
   "source": [
    "print('Mean scores of 10-fold CV for the three classifiers: ', average)\n",
    "print('\\n Standard deviation of the scores: ', deviation)"
   ]
  },
  {
   "cell_type": "markdown",
   "metadata": {},
   "source": [
    "## Predicting the output for the classifiers on the testing dataset and comparing their accuracy"
   ]
  },
  {
   "cell_type": "code",
   "execution_count": 24,
   "metadata": {},
   "outputs": [],
   "source": [
    "def predict(clf):\n",
    "    clf.fit(pca_Xtrain2, y_train)\n",
    "    scores = clf.predict(pca_Xtest2)\n",
    "    accuracy = accuracy_score(y_test, scores)\n",
    "    print(\"Accuracy score of the classifier chosen: \", accuracy)"
   ]
  },
  {
   "cell_type": "code",
   "execution_count": 25,
   "metadata": {},
   "outputs": [
    {
     "name": "stdout",
     "output_type": "stream",
     "text": [
      "Accuracy score of the classifier chosen:  0.8107142857142857\n"
     ]
    }
   ],
   "source": [
    "#Prediction score for Random Forests\n",
    "predict(rfc)"
   ]
  },
  {
   "cell_type": "code",
   "execution_count": 26,
   "metadata": {},
   "outputs": [
    {
     "name": "stdout",
     "output_type": "stream",
     "text": [
      "Accuracy score of the classifier chosen:  0.5928571428571429\n"
     ]
    }
   ],
   "source": [
    "#Prediction score for SVC\n",
    "predict(svc)"
   ]
  },
  {
   "cell_type": "code",
   "execution_count": 27,
   "metadata": {
    "scrolled": true
   },
   "outputs": [
    {
     "name": "stdout",
     "output_type": "stream",
     "text": [
      "Accuracy score of the classifier chosen:  0.7488095238095238\n"
     ]
    }
   ],
   "source": [
    "#Prediction score for K-nearest neighbors\n",
    "predict(knn)"
   ]
  },
  {
   "cell_type": "code",
   "execution_count": 28,
   "metadata": {},
   "outputs": [
    {
     "data": {
      "text/plain": [
       "FeatureImportances(absolute=False,\n",
       "          ax=<matplotlib.axes._subplots.AxesSubplot object at 0x7f41c0714898>,\n",
       "          labels=Index(['PC1', 'PC2', 'PC3', 'PC4', 'PC5', 'PC6', 'PC7', 'PC8', 'PC9'], dtype='object'),\n",
       "          model=None, relative=True, stack=False, xlabel=None)"
      ]
     },
     "execution_count": 28,
     "metadata": {},
     "output_type": "execute_result"
    },
    {
     "data": {
      "image/png": "[encoded data removed]",
      "text/plain": [
       "<Figure size 720x360 with 1 Axes>"
      ]
     },
     "metadata": {},
     "output_type": "display_data"
    }
   ],
   "source": [
    "from yellowbrick.features.importances import FeatureImportances\n",
    "\n",
    "plt.figure(figsize=(10,5))\n",
    "viz = FeatureImportances(rfc, labels=pcacomp_df.columns)\n",
    "viz.fit(pca_Xtrain2, y_train)\n",
    "#viz.poof(outpath=\"features.png\")"
   ]
  },
  {
   "cell_type": "markdown",
   "metadata": {},
   "source": [
    "## Learning Curves of the three classifiers"
   ]
  },
  {
   "cell_type": "code",
   "execution_count": 58,
   "metadata": {},
   "outputs": [
    {
     "data": {
      "image/png": "[encoded data removed]",
      "text/plain": [
       "<Figure size 576x396 with 1 Axes>"
      ]
     },
     "metadata": {},
     "output_type": "display_data"
    }
   ],
   "source": [
    "from yellowbrick.model_selection import LearningCurve\n",
    "from sklearn.model_selection import StratifiedKFold\n",
    "\n",
    "sizes = np.linspace(0.2, 1.0, 10)\n",
    "cv = StratifiedKFold(12)\n",
    "viz = LearningCurve(knn, cv=cv, train_sizes=sizes)\n",
    "viz.fit(pca_Xtrain, y_train)\n",
    "viz.poof()"
   ]
  },
  {
   "cell_type": "code",
   "execution_count": null,
   "metadata": {},
   "outputs": [],
   "source": []
  },
  {
   "cell_type": "code",
   "execution_count": null,
   "metadata": {},
   "outputs": [],
   "source": []
  },
  {
   "cell_type": "code",
   "execution_count": null,
   "metadata": {},
   "outputs": [],
   "source": []
  },
  {
   "cell_type": "markdown",
   "metadata": {},
   "source": [
    "Turns out that the best performing classifier in the current problem is Random forests, with an accuracy of 81.54% on 100 estimators, followed by KNN with 5 nearest neighbors and lastly, SVC with a 71.7% accuracy with polynomial kernel.\n",
    "\n",
    "##### The next step in the model building process is to take the base classifiers and optimize their parameters using hyperparameter tuning"
   ]
  },
  {
   "cell_type": "markdown",
   "metadata": {},
   "source": [
    "### Hyperparameter Tuning "
   ]
  },
  {
   "cell_type": "code",
   "execution_count": 652,
   "metadata": {},
   "outputs": [
    {
     "name": "stdout",
     "output_type": "stream",
     "text": [
      "Fitting 10 folds for each of 10 candidates, totalling 100 fits\n"
     ]
    },
    {
     "name": "stderr",
     "output_type": "stream",
     "text": [
      "[Parallel(n_jobs=1)]: Using backend SequentialBackend with 1 concurrent workers.\n"
     ]
    },
    {
     "name": "stdout",
     "output_type": "stream",
     "text": [
      "0.9889749702026222\n",
      "{'weights': 'distance', 'n_neighbors': 5, 'metric': 'euclidean', 'algorithm': 'auto'}\n"
     ]
    },
    {
     "name": "stderr",
     "output_type": "stream",
     "text": [
      "[Parallel(n_jobs=1)]: Done 100 out of 100 | elapsed:   12.9s finished\n"
     ]
    }
   ],
   "source": [
    "from sklearn.model_selection import GridSearchCV, RandomizedSearchCV\n",
    "\n",
    "#Grid tuning for KNN (because it is the fastest to optimize)\n",
    "neighbors = np.arange(1, 51)\n",
    "metric = ['euclidean','minkowski']\n",
    "weight = ['uniform', 'distance']\n",
    "algorithm = ['auto', 'ball_tree','kd_tree','brute']\n",
    "params = {\n",
    "    'n_neighbors':neighbors,\n",
    "    'metric': metric,\n",
    "    'weights': weight,\n",
    "    'algorithm': algorithm\n",
    "    \n",
    "}\n",
    "\n",
    "gd = RandomizedSearchCV(estimator=KNeighborsClassifier(), param_distributions=params,cv=10,  verbose=True)\n",
    "gd.fit(pca_Xtrain2, y_train)\n",
    "print(gd.best_score_)\n",
    "print(gd.best_params_)"
   ]
  },
  {
   "cell_type": "code",
   "execution_count": 29,
   "metadata": {},
   "outputs": [
    {
     "ename": "NameError",
     "evalue": "name 'RandomizedSearchCV' is not defined",
     "output_type": "error",
     "traceback": [
      "\u001b[0;31m---------------------------------------------------------------------------\u001b[0m",
      "\u001b[0;31mNameError\u001b[0m                                 Traceback (most recent call last)",
      "\u001b[0;32m<ipython-input-29-33a0a3283fd4>\u001b[0m in \u001b[0;36m<module>\u001b[0;34m\u001b[0m\n\u001b[1;32m     14\u001b[0m }\n\u001b[1;32m     15\u001b[0m \u001b[0;34m\u001b[0m\u001b[0m\n\u001b[0;32m---> 16\u001b[0;31m \u001b[0mgd\u001b[0m \u001b[0;34m=\u001b[0m \u001b[0mRandomizedSearchCV\u001b[0m\u001b[0;34m(\u001b[0m\u001b[0mestimator\u001b[0m\u001b[0;34m=\u001b[0m\u001b[0mRandomForestClassifier\u001b[0m\u001b[0;34m(\u001b[0m\u001b[0;34m)\u001b[0m\u001b[0;34m,\u001b[0m \u001b[0mparam_distributions\u001b[0m\u001b[0;34m=\u001b[0m\u001b[0mrf_params\u001b[0m\u001b[0;34m,\u001b[0m \u001b[0mverbose\u001b[0m\u001b[0;34m=\u001b[0m\u001b[0;32mTrue\u001b[0m\u001b[0;34m,\u001b[0m \u001b[0mcv\u001b[0m\u001b[0;34m=\u001b[0m\u001b[0;36m10\u001b[0m\u001b[0;34m)\u001b[0m\u001b[0;34m\u001b[0m\u001b[0;34m\u001b[0m\u001b[0m\n\u001b[0m\u001b[1;32m     17\u001b[0m \u001b[0mgd\u001b[0m\u001b[0;34m.\u001b[0m\u001b[0mfit\u001b[0m\u001b[0;34m(\u001b[0m\u001b[0mpca_Xtrain2\u001b[0m\u001b[0;34m,\u001b[0m \u001b[0my_train\u001b[0m\u001b[0;34m)\u001b[0m\u001b[0;34m\u001b[0m\u001b[0;34m\u001b[0m\u001b[0m\n\u001b[1;32m     18\u001b[0m \u001b[0mprint\u001b[0m\u001b[0;34m(\u001b[0m\u001b[0mgd\u001b[0m\u001b[0;34m.\u001b[0m\u001b[0mbest_score_\u001b[0m\u001b[0;34m)\u001b[0m\u001b[0;34m\u001b[0m\u001b[0;34m\u001b[0m\u001b[0m\n",
      "\u001b[0;31mNameError\u001b[0m: name 'RandomizedSearchCV' is not defined"
     ]
    }
   ],
   "source": [
    "#Grid tuning for RandomForest classifier \n",
    "n_estimators = np.arange(10, 310, 10)\n",
    "criterion = ['gini','entropy']\n",
    "max_depth = np.arange(1, 11)\n",
    "min_samples_split = [0.1, 0.3, 0.7, 1.0]\n",
    "min_samples_leaf = [1, 2, 3, 4, 5]\n",
    "\n",
    "rf_params = {\n",
    "    'n_estimators': n_estimators,\n",
    "    'criterion': criterion,\n",
    "    'max_depth': max_depth,\n",
    "    'min_samples_split': min_samples_split,\n",
    "    'min_samples_leaf': min_samples_leaf\n",
    "}\n",
    "\n",
    "gd = RandomizedSearchCV(estimator=RandomForestClassifier(), param_distributions=rf_params, verbose=True, cv=10)\n",
    "gd.fit(pca_Xtrain2, y_train)\n",
    "print(gd.best_score_)\n",
    "print(gd.best_params_)"
   ]
  },
  {
   "cell_type": "code",
   "execution_count": 631,
   "metadata": {},
   "outputs": [
    {
     "name": "stdout",
     "output_type": "stream",
     "text": [
      "0.9997020262216925\n",
      "{'kernel': 'sigmoid', 'gamma': 0.010732323232323234, 'degree': 8, 'decision_function_shape': 'ovo', 'C': 0.2}\n"
     ]
    }
   ],
   "source": [
    "#Grid search for Support vector classifier \n",
    "C = [0.1, 0.2, 0.3, 0.4, 0.5, 0.6, 0.7, 0.8, 0.9, 1.0]\n",
    "kernel = ['rbf','poly','sigmoid']\n",
    "degree = np.arange(1, 11)\n",
    "gamma = np.linspace(0, 0.03125, 100)\n",
    "decision_function_shape = ['ovo','ovr']\n",
    "\n",
    "svc_params = {\n",
    "    'C': C,\n",
    "    'kernel': kernel,\n",
    "    'degree': degree, \n",
    "    'gamma': gamma,\n",
    "    'decision_function_shape': decision_function_shape\n",
    "}\n",
    "\n",
    "gd = RandomizedSearchCV(estimator=SVC(), param_distributions=svc_params, cv=10)\n",
    "gd.fit(pca_Xtrain2, y_train)\n",
    "print(gd.best_score_)\n",
    "print(gd.best_params_)"
   ]
  },
  {
   "cell_type": "code",
   "execution_count": 30,
   "metadata": {},
   "outputs": [
    {
     "name": "stdout",
     "output_type": "stream",
     "text": [
      "Accuracy score after optimization: 0.7333333333333333\n"
     ]
    }
   ],
   "source": [
    "knn2 = KNeighborsClassifier(n_neighbors=5, metric='euclidean', weights='distance', algorithm='auto')\n",
    "knn2.fit(pca_Xtrain2, y_train)\n",
    "preds = knn2.predict(pca_Xtest2)\n",
    "print('Accuracy score after optimization:', accuracy_score(y_test, preds))"
   ]
  },
  {
   "cell_type": "code",
   "execution_count": 31,
   "metadata": {},
   "outputs": [
    {
     "name": "stdout",
     "output_type": "stream",
     "text": [
      "Accuracy score after optimization: 0.8761904761904762\n"
     ]
    }
   ],
   "source": [
    "rfc2 = RandomForestClassifier(n_estimators=70, min_samples_split=0.1, min_samples_leaf=3, max_depth=10)\n",
    "rfc2.fit(pca_Xtrain2, y_train)\n",
    "preds2 = rfc2.predict(pca_Xtest2)\n",
    "print('Accuracy score after optimization:', accuracy_score(y_test, preds2))"
   ]
  },
  {
   "cell_type": "code",
   "execution_count": 32,
   "metadata": {},
   "outputs": [
    {
     "name": "stdout",
     "output_type": "stream",
     "text": [
      "Accuracy score after optimization: 0.7976190476190477\n"
     ]
    }
   ],
   "source": [
    "svc2 = SVC(kernel='sigmoid', degree=8, decision_function_shape='ovr', C=0.20, gamma=0.010732323232323234)\n",
    "svc2.fit(pca_Xtrain2, y_train)\n",
    "preds3 = svc2.predict(pca_Xtest2)\n",
    "print('Accuracy score after optimization:', accuracy_score(y_test, preds3))"
   ]
  },
  {
   "cell_type": "markdown",
   "metadata": {},
   "source": [
    "### Performance metrics of base classifiers after optimization \n",
    "\n",
    "The three metrics which will be used to evaluate the three classifiers are \n",
    "\n",
    "* Confusion matrix \n",
    "* ROC AUC \n",
    "* Precision-Recall curve"
   ]
  },
  {
   "cell_type": "code",
   "execution_count": 59,
   "metadata": {},
   "outputs": [
    {
     "data": {
      "image/png": "[encoded data removed]",
      "text/plain": [
       "<Figure size 432x288 with 2 Axes>"
      ]
     },
     "metadata": {
      "needs_background": "light"
     },
     "output_type": "display_data"
    }
   ],
   "source": [
    "#Confusion matrix for KNN \n",
    "from sklearn.metrics import confusion_matrix\n",
    "knn2.fit(pca_Xtrain2, y_train)\n",
    "knn_predictions = knn2.predict(pca_Xtest2)\n",
    "sns.heatmap(confusion_matrix(y_test, knn_predictions), annot=True, fmt='2.0f')\n",
    "plt.xlabel('Actual')\n",
    "plt.ylabel('Predicted')\n",
    "plt.title(\"KNN\")\n",
    "plt.savefig(\"knncf.png\", dpi=400)"
   ]
  },
  {
   "cell_type": "code",
   "execution_count": 60,
   "metadata": {},
   "outputs": [
    {
     "data": {
      "text/plain": [
       "Text(33.0, 0.5, 'Predicted')"
      ]
     },
     "execution_count": 60,
     "metadata": {},
     "output_type": "execute_result"
    },
    {
     "data": {
      "image/png": "[encoded data removed]",
      "text/plain": [
       "<Figure size 432x288 with 2 Axes>"
      ]
     },
     "metadata": {
      "needs_background": "light"
     },
     "output_type": "display_data"
    }
   ],
   "source": [
    "#Confusion matrix for RandomForests\n",
    "rfc2.fit(pca_Xtrain2, y_train)\n",
    "rfc_predictions = rfc2.predict(pca_Xtest2)\n",
    "sns.heatmap(confusion_matrix(y_test, rfc_predictions), annot=True, fmt='1.0f')\n",
    "plt.xlabel('Actual')\n",
    "plt.ylabel('Predicted')"
   ]
  },
  {
   "cell_type": "code",
   "execution_count": 61,
   "metadata": {},
   "outputs": [
    {
     "data": {
      "text/plain": [
       "Text(33.0, 0.5, 'Predicted')"
      ]
     },
     "execution_count": 61,
     "metadata": {},
     "output_type": "execute_result"
    },
    {
     "data": {
      "image/png": "[encoded data removed]",
      "text/plain": [
       "<Figure size 432x288 with 2 Axes>"
      ]
     },
     "metadata": {
      "needs_background": "light"
     },
     "output_type": "display_data"
    }
   ],
   "source": [
    "#Confusion matrix for SVC\n",
    "svc2.fit(pca_Xtrain2, y_train)\n",
    "svc_predictions = svc2.predict(pca_Xtest2)\n",
    "sns.heatmap(confusion_matrix(y_test, svc_predictions), annot=True, fmt='1.0f')\n",
    "plt.xlabel('Actual')\n",
    "plt.ylabel('Predicted')"
   ]
  },
  {
   "cell_type": "code",
   "execution_count": 62,
   "metadata": {},
   "outputs": [
    {
     "data": {
      "image/png": "[encoded data removed]",
      "text/plain": [
       "<Figure size 432x288 with 2 Axes>"
      ]
     },
     "metadata": {
      "needs_background": "light"
     },
     "output_type": "display_data"
    }
   ],
   "source": [
    "#Confusion matrix for XGBoost \n",
    "from sklearn.metrics import confusion_matrix\n",
    "xgc2.fit(pca_Xtrain2, y_train)\n",
    "xgc2_predictions = xgc2.predict(pca_Xtest2)\n",
    "sns.heatmap(confusion_matrix(y_test, xgc2_predictions), annot=True, fmt='1.0f')\n",
    "plt.xlabel('Actual')\n",
    "plt.ylabel('Predicted')\n",
    "plt.title(\"Ensemble Stack\")\n",
    "plt.savefig('stackcf.png', dpi=400)"
   ]
  },
  {
   "cell_type": "code",
   "execution_count": 33,
   "metadata": {},
   "outputs": [],
   "source": [
    "#Calculating the sensitivity and specificity metrics of each confusion matrix for matrix analysis \n",
    "from sklearn.metrics import classification_report"
   ]
  },
  {
   "cell_type": "code",
   "execution_count": 34,
   "metadata": {},
   "outputs": [
    {
     "name": "stdout",
     "output_type": "stream",
     "text": [
      "              precision    recall  f1-score   support\n",
      "\n",
      "           0       0.89      0.27      0.41       211\n",
      "           1       0.72      0.98      0.83       426\n",
      "           2       0.98      0.97      0.98       203\n",
      "\n",
      "   micro avg       0.80      0.80      0.80       840\n",
      "   macro avg       0.86      0.74      0.74       840\n",
      "weighted avg       0.83      0.80      0.76       840\n",
      "\n"
     ]
    }
   ],
   "source": [
    "#Classifier report for SVC \n",
    "print(classification_report(y_test, preds3))"
   ]
  },
  {
   "cell_type": "code",
   "execution_count": 35,
   "metadata": {},
   "outputs": [
    {
     "name": "stdout",
     "output_type": "stream",
     "text": [
      "              precision    recall  f1-score   support\n",
      "\n",
      "           0       0.77      0.93      0.84       211\n",
      "           1       0.97      0.83      0.90       426\n",
      "           2       0.85      0.92      0.88       203\n",
      "\n",
      "   micro avg       0.88      0.88      0.88       840\n",
      "   macro avg       0.86      0.89      0.87       840\n",
      "weighted avg       0.89      0.88      0.88       840\n",
      "\n"
     ]
    }
   ],
   "source": [
    "#Classifier report for RandomForests\n",
    "print(classification_report(y_test, preds2))"
   ]
  },
  {
   "cell_type": "code",
   "execution_count": 53,
   "metadata": {},
   "outputs": [
    {
     "name": "stdout",
     "output_type": "stream",
     "text": [
      "              precision    recall  f1-score   support\n",
      "\n",
      "           0       0.87      0.38      0.53       211\n",
      "           1       0.66      0.97      0.79       426\n",
      "           2       0.99      0.60      0.74       203\n",
      "\n",
      "   micro avg       0.73      0.73      0.73       840\n",
      "   macro avg       0.84      0.65      0.69       840\n",
      "weighted avg       0.79      0.73      0.71       840\n",
      "\n"
     ]
    }
   ],
   "source": [
    "#Classifier report for KNN\n",
    "print(classification_report(y_test, preds))"
   ]
  },
  {
   "cell_type": "code",
   "execution_count": 241,
   "metadata": {},
   "outputs": [
    {
     "data": {
      "image/png": "[encoded data removed]",
      "text/plain": [
       "<Figure size 576x576 with 1 Axes>"
      ]
     },
     "metadata": {},
     "output_type": "display_data"
    }
   ],
   "source": [
    "from yellowbrick.classifier import ROCAUC\n",
    "plt.figure(figsize=(8,8))\n",
    "visualizer = ROCAUC(rfc2)\n",
    "visualizer.fit(pca_Xtrain2, y_train)  # Fit the training data to the visualizer\n",
    "visualizer.score(pca_Xtest2, y_test)# Evaluate the model on the test data\n",
    "g = visualizer.poof()# Draw/show/poof the data"
   ]
  },
  {
   "cell_type": "code",
   "execution_count": 38,
   "metadata": {},
   "outputs": [],
   "source": [
    "#Xtreme gradient boosting \n",
    "\n",
    "xgc = xgb.XGBClassifier()\n",
    "xgc.fit(pca_Xtrain2, y_train)\n",
    "preds4 = xgc.predict(pca_Xtest2)"
   ]
  },
  {
   "cell_type": "code",
   "execution_count": 39,
   "metadata": {},
   "outputs": [
    {
     "name": "stdout",
     "output_type": "stream",
     "text": [
      "Accuracy with XGBoost('Pre-optimization'):  0.8095238095238095\n"
     ]
    }
   ],
   "source": [
    "print(\"Accuracy with XGBoost('Pre-optimization'): \", accuracy_score(y_test, preds4))"
   ]
  },
  {
   "cell_type": "code",
   "execution_count": 40,
   "metadata": {},
   "outputs": [
    {
     "ename": "NameError",
     "evalue": "name 'xgc2' is not defined",
     "output_type": "error",
     "traceback": [
      "\u001b[0;31m---------------------------------------------------------------------------\u001b[0m",
      "\u001b[0;31mNameError\u001b[0m                                 Traceback (most recent call last)",
      "\u001b[0;32m<ipython-input-40-0348b8c9ed6e>\u001b[0m in \u001b[0;36m<module>\u001b[0;34m\u001b[0m\n\u001b[0;32m----> 1\u001b[0;31m \u001b[0mxgc2_params\u001b[0m \u001b[0;34m=\u001b[0m \u001b[0mxgc2\u001b[0m\u001b[0;34m.\u001b[0m\u001b[0mget_params\u001b[0m\u001b[0;34m(\u001b[0m\u001b[0;34m)\u001b[0m\u001b[0;34m\u001b[0m\u001b[0;34m\u001b[0m\u001b[0m\n\u001b[0m\u001b[1;32m      2\u001b[0m \u001b[0mxgc2_params\u001b[0m\u001b[0;34m[\u001b[0m\u001b[0;34m'num_class'\u001b[0m\u001b[0;34m]\u001b[0m \u001b[0;34m=\u001b[0m \u001b[0;36m3\u001b[0m\u001b[0;34m\u001b[0m\u001b[0;34m\u001b[0m\u001b[0m\n",
      "\u001b[0;31mNameError\u001b[0m: name 'xgc2' is not defined"
     ]
    }
   ],
   "source": [
    "xgc2_params = xgc2.get_params()\n",
    "xgc2_params['num_class'] = 3"
   ]
  },
  {
   "cell_type": "code",
   "execution_count": 37,
   "metadata": {},
   "outputs": [],
   "source": [
    "#Parameter tuning for XGBoost\n",
    "import xgboost as xgb\n",
    "from xgboost import XGBClassifier\n",
    "from sklearn.model_selection import RandomizedSearchCV\n",
    "\n",
    "boosters = ['gbtree', 'dart']\n",
    "eta = np.linspace(0.1, 0.3, 20)\n",
    "gamma = np.linspace(0, 1, 10)\n",
    "max_depth = [1, 2, 3, 4, 5]\n",
    "scale_pos_weight = [1, 2, 3]\n",
    "objective = [\"multi:softmax\", \"multi:pairwise\"]\n",
    "n_estimators = np.arange(0, 1100, 100)\n",
    "\n",
    "\n",
    "xgb_params = {\n",
    "    'booster': boosters,\n",
    "    'eta': eta,\n",
    "    'gamma': gamma,\n",
    "    'max_depth': max_depth,\n",
    "    'scale_pos_weight': scale_pos_weight,\n",
    "    'objective': objective,\n",
    "    'n_estimators': n_estimators,\n",
    "    'num_class': 3\n",
    "}\n",
    "\n",
    "#gd = RandomizedSearchCV(estimator=XGBClassifier(), param_distributions=xgb_params, cv=5)\n",
    "#gd.fit(pca_Xtrain2, y_train)\n",
    "#print(gd.best_score_)\n",
    "#print(gd.best_params_)"
   ]
  },
  {
   "cell_type": "code",
   "execution_count": 41,
   "metadata": {},
   "outputs": [],
   "source": [
    "dtrain = xgb.DMatrix(pca_Xtrain2, label=y_train)\n",
    "dtest = xgb.DMatrix(pca_Xtest2, label=y_test)"
   ]
  },
  {
   "cell_type": "code",
   "execution_count": 42,
   "metadata": {},
   "outputs": [],
   "source": [
    "dtrain.feature_types"
   ]
  },
  {
   "cell_type": "code",
   "execution_count": 43,
   "metadata": {},
   "outputs": [
    {
     "data": {
      "text/plain": [
       "0.8809523809523809"
      ]
     },
     "execution_count": 43,
     "metadata": {},
     "output_type": "execute_result"
    }
   ],
   "source": [
    "xgc2 = XGBClassifier(scale_pos_weight=2, objective='multi:softmax', max_depth=2, gamma=0.10, eta=0.14210526315789473, booster='gbtree', n_estimators=200, num_class=3)\n",
    "\n",
    "xgc2.fit(pca_Xtrain2, y_train)\n",
    "xgc2_predictions = xgc2.predict(pca_Xtest2)\n",
    "accuracy_score(y_test, xgc2.predict(pca_Xtest2))"
   ]
  },
  {
   "cell_type": "code",
   "execution_count": 183,
   "metadata": {},
   "outputs": [
    {
     "data": {
      "text/plain": [
       "Text(51.0, 0.5, 'Predicted')"
      ]
     },
     "execution_count": 183,
     "metadata": {},
     "output_type": "execute_result"
    },
    {
     "data": {
      "image/png": "[encoded data removed]",
      "text/plain": [
       "<Figure size 576x396 with 2 Axes>"
      ]
     },
     "metadata": {},
     "output_type": "display_data"
    }
   ],
   "source": [
    "sns.heatmap(confusion_matrix(y_test, xgc2.predict(pca_Xtest2)), annot=True, fmt='1.0f')\n",
    "plt.xlabel('Actual')\n",
    "plt.ylabel('Predicted')"
   ]
  },
  {
   "cell_type": "markdown",
   "metadata": {},
   "source": [
    "## Neural Network "
   ]
  },
  {
   "cell_type": "code",
   "execution_count": 44,
   "metadata": {},
   "outputs": [
    {
     "name": "stdout",
     "output_type": "stream",
     "text": [
      "Object `LabelBinarizer` not found.\n"
     ]
    }
   ],
   "source": [
    "LabelBinarizer?"
   ]
  },
  {
   "cell_type": "code",
   "execution_count": 45,
   "metadata": {},
   "outputs": [],
   "source": [
    "#Binarize the class labels for the neural network \n",
    "from sklearn.preprocessing import LabelBinarizer\n",
    "lb = LabelBinarizer()\n",
    "lb.fit(y_train)\n",
    "Y = lb.transform(y_train)\n",
    "Y_test = lb.transform(y_test)"
   ]
  },
  {
   "cell_type": "code",
   "execution_count": 46,
   "metadata": {},
   "outputs": [
    {
     "data": {
      "text/plain": [
       "array([[0, 0, 1],\n",
       "       [0, 0, 1],\n",
       "       [0, 0, 1],\n",
       "       ...,\n",
       "       [0, 0, 1],\n",
       "       [1, 0, 0],\n",
       "       [1, 0, 0]])"
      ]
     },
     "execution_count": 46,
     "metadata": {},
     "output_type": "execute_result"
    }
   ],
   "source": [
    "Y_test"
   ]
  },
  {
   "cell_type": "code",
   "execution_count": 56,
   "metadata": {
    "scrolled": true
   },
   "outputs": [
    {
     "name": "stdout",
     "output_type": "stream",
     "text": [
      "Train on 3356 samples, validate on 840 samples\n",
      "Epoch 1/100\n",
      "3356/3356 [==============================] - 1s 228us/step - loss: 0.8997 - acc: 0.7160 - val_loss: 0.7423 - val_acc: 0.7583\n",
      "Epoch 2/100\n",
      "3356/3356 [==============================] - 0s 61us/step - loss: 0.6573 - acc: 0.7530 - val_loss: 0.6216 - val_acc: 0.7583\n",
      "Epoch 3/100\n",
      "3356/3356 [==============================] - 0s 73us/step - loss: 0.5653 - acc: 0.7530 - val_loss: 0.5725 - val_acc: 0.7583\n",
      "Epoch 4/100\n",
      "3356/3356 [==============================] - 0s 57us/step - loss: 0.5238 - acc: 0.7530 - val_loss: 0.5452 - val_acc: 0.7583\n",
      "Epoch 5/100\n",
      "3356/3356 [==============================] - 0s 74us/step - loss: 0.5009 - acc: 0.7530 - val_loss: 0.5300 - val_acc: 0.7583\n",
      "Epoch 6/100\n",
      "3356/3356 [==============================] - 0s 74us/step - loss: 0.4866 - acc: 0.7530 - val_loss: 0.5204 - val_acc: 0.7583\n",
      "Epoch 7/100\n",
      "3356/3356 [==============================] - 0s 100us/step - loss: 0.4770 - acc: 0.7530 - val_loss: 0.5132 - val_acc: 0.7583\n",
      "Epoch 8/100\n",
      "3356/3356 [==============================] - 0s 84us/step - loss: 0.4701 - acc: 0.7530 - val_loss: 0.5082 - val_acc: 0.7583\n",
      "Epoch 9/100\n",
      "3356/3356 [==============================] - 0s 79us/step - loss: 0.4651 - acc: 0.7530 - val_loss: 0.5039 - val_acc: 0.7583\n",
      "Epoch 10/100\n",
      "3356/3356 [==============================] - 0s 79us/step - loss: 0.4612 - acc: 0.7530 - val_loss: 0.5013 - val_acc: 0.7583\n",
      "Epoch 11/100\n",
      "3356/3356 [==============================] - 0s 81us/step - loss: 0.4581 - acc: 0.7530 - val_loss: 0.4988 - val_acc: 0.7583\n",
      "Epoch 12/100\n",
      "3356/3356 [==============================] - 0s 101us/step - loss: 0.4556 - acc: 0.7530 - val_loss: 0.4961 - val_acc: 0.7583\n",
      "Epoch 13/100\n",
      "3356/3356 [==============================] - 0s 80us/step - loss: 0.4535 - acc: 0.7530 - val_loss: 0.4946 - val_acc: 0.7583\n",
      "Epoch 14/100\n",
      "3356/3356 [==============================] - 0s 97us/step - loss: 0.4517 - acc: 0.7530 - val_loss: 0.4927 - val_acc: 0.7583\n",
      "Epoch 15/100\n",
      "3356/3356 [==============================] - 0s 105us/step - loss: 0.4503 - acc: 0.7530 - val_loss: 0.4922 - val_acc: 0.7583\n",
      "Epoch 16/100\n",
      "3356/3356 [==============================] - 0s 79us/step - loss: 0.4490 - acc: 0.7530 - val_loss: 0.4912 - val_acc: 0.7583\n",
      "Epoch 17/100\n",
      "3356/3356 [==============================] - 0s 74us/step - loss: 0.4478 - acc: 0.7530 - val_loss: 0.4904 - val_acc: 0.7583\n",
      "Epoch 18/100\n",
      "3356/3356 [==============================] - 0s 82us/step - loss: 0.4469 - acc: 0.7530 - val_loss: 0.4890 - val_acc: 0.7583\n",
      "Epoch 19/100\n",
      "3356/3356 [==============================] - 0s 95us/step - loss: 0.4459 - acc: 0.7530 - val_loss: 0.4880 - val_acc: 0.7583\n",
      "Epoch 20/100\n",
      "3356/3356 [==============================] - 0s 66us/step - loss: 0.4450 - acc: 0.7530 - val_loss: 0.4871 - val_acc: 0.7583\n",
      "Epoch 21/100\n",
      "3356/3356 [==============================] - 0s 81us/step - loss: 0.4442 - acc: 0.7530 - val_loss: 0.4862 - val_acc: 0.7583\n",
      "Epoch 22/100\n",
      "3356/3356 [==============================] - 0s 86us/step - loss: 0.4433 - acc: 0.7530 - val_loss: 0.4852 - val_acc: 0.7583\n",
      "Epoch 23/100\n",
      "3356/3356 [==============================] - 0s 81us/step - loss: 0.4424 - acc: 0.7530 - val_loss: 0.4846 - val_acc: 0.7583\n",
      "Epoch 24/100\n",
      "3356/3356 [==============================] - 0s 80us/step - loss: 0.4415 - acc: 0.7530 - val_loss: 0.4835 - val_acc: 0.7583\n",
      "Epoch 25/100\n",
      "3356/3356 [==============================] - 0s 79us/step - loss: 0.4406 - acc: 0.7530 - val_loss: 0.4824 - val_acc: 0.7583\n",
      "Epoch 26/100\n",
      "3356/3356 [==============================] - 0s 79us/step - loss: 0.4395 - acc: 0.7530 - val_loss: 0.4817 - val_acc: 0.7583\n",
      "Epoch 27/100\n",
      "3356/3356 [==============================] - 0s 74us/step - loss: 0.4385 - acc: 0.7530 - val_loss: 0.4806 - val_acc: 0.7583\n",
      "Epoch 28/100\n",
      "3356/3356 [==============================] - 0s 126us/step - loss: 0.4372 - acc: 0.7530 - val_loss: 0.4798 - val_acc: 0.7583\n",
      "Epoch 29/100\n",
      "3356/3356 [==============================] - 0s 120us/step - loss: 0.4359 - acc: 0.7530 - val_loss: 0.4783 - val_acc: 0.7583\n",
      "Epoch 30/100\n",
      "3356/3356 [==============================] - 0s 123us/step - loss: 0.4345 - acc: 0.7530 - val_loss: 0.4768 - val_acc: 0.7583\n",
      "Epoch 31/100\n",
      "3356/3356 [==============================] - 0s 76us/step - loss: 0.4328 - acc: 0.7536 - val_loss: 0.4753 - val_acc: 0.7595\n",
      "Epoch 32/100\n",
      "3356/3356 [==============================] - 0s 84us/step - loss: 0.4312 - acc: 0.7554 - val_loss: 0.4737 - val_acc: 0.7619\n",
      "Epoch 33/100\n",
      "3356/3356 [==============================] - 0s 95us/step - loss: 0.4296 - acc: 0.7604 - val_loss: 0.4720 - val_acc: 0.7631\n",
      "Epoch 34/100\n",
      "3356/3356 [==============================] - 0s 86us/step - loss: 0.4276 - acc: 0.7652 - val_loss: 0.4705 - val_acc: 0.7643\n",
      "Epoch 35/100\n",
      "3356/3356 [==============================] - 0s 100us/step - loss: 0.4257 - acc: 0.7804 - val_loss: 0.4687 - val_acc: 0.7869\n",
      "Epoch 36/100\n",
      "3356/3356 [==============================] - 0s 84us/step - loss: 0.4239 - acc: 0.7950 - val_loss: 0.4674 - val_acc: 0.7810\n",
      "Epoch 37/100\n",
      "3356/3356 [==============================] - 0s 88us/step - loss: 0.4220 - acc: 0.8141 - val_loss: 0.4653 - val_acc: 0.8071\n",
      "Epoch 38/100\n",
      "3356/3356 [==============================] - 0s 96us/step - loss: 0.4203 - acc: 0.8209 - val_loss: 0.4640 - val_acc: 0.8071\n",
      "Epoch 39/100\n",
      "3356/3356 [==============================] - 0s 79us/step - loss: 0.4187 - acc: 0.8239 - val_loss: 0.4624 - val_acc: 0.8083\n",
      "Epoch 40/100\n",
      "3356/3356 [==============================] - 0s 71us/step - loss: 0.4172 - acc: 0.8248 - val_loss: 0.4611 - val_acc: 0.8095\n",
      "Epoch 41/100\n",
      "3356/3356 [==============================] - 0s 78us/step - loss: 0.4156 - acc: 0.8257 - val_loss: 0.4601 - val_acc: 0.8095\n",
      "Epoch 42/100\n",
      "3356/3356 [==============================] - 0s 81us/step - loss: 0.4142 - acc: 0.8260 - val_loss: 0.4589 - val_acc: 0.8095\n",
      "Epoch 43/100\n",
      "3356/3356 [==============================] - 0s 80us/step - loss: 0.4128 - acc: 0.8266 - val_loss: 0.4578 - val_acc: 0.8095\n",
      "Epoch 44/100\n",
      "3356/3356 [==============================] - 0s 79us/step - loss: 0.4115 - acc: 0.8266 - val_loss: 0.4564 - val_acc: 0.8095\n",
      "Epoch 45/100\n",
      "3356/3356 [==============================] - 0s 81us/step - loss: 0.4103 - acc: 0.8266 - val_loss: 0.4554 - val_acc: 0.8095\n",
      "Epoch 46/100\n",
      "3356/3356 [==============================] - 0s 79us/step - loss: 0.4091 - acc: 0.8266 - val_loss: 0.4544 - val_acc: 0.8095\n",
      "Epoch 47/100\n",
      "3356/3356 [==============================] - 0s 91us/step - loss: 0.4080 - acc: 0.8266 - val_loss: 0.4534 - val_acc: 0.8095\n",
      "Epoch 48/100\n",
      "3356/3356 [==============================] - 0s 85us/step - loss: 0.4070 - acc: 0.8266 - val_loss: 0.4525 - val_acc: 0.8095\n",
      "Epoch 49/100\n",
      "3356/3356 [==============================] - 0s 90us/step - loss: 0.4059 - acc: 0.8266 - val_loss: 0.4517 - val_acc: 0.8095\n",
      "Epoch 50/100\n",
      "3356/3356 [==============================] - 0s 93us/step - loss: 0.4050 - acc: 0.8266 - val_loss: 0.4509 - val_acc: 0.8095\n",
      "Epoch 51/100\n",
      "3356/3356 [==============================] - 0s 96us/step - loss: 0.4040 - acc: 0.8266 - val_loss: 0.4503 - val_acc: 0.8095\n",
      "Epoch 52/100\n",
      "3356/3356 [==============================] - 0s 81us/step - loss: 0.4031 - acc: 0.8266 - val_loss: 0.4495 - val_acc: 0.8095\n",
      "Epoch 53/100\n",
      "3356/3356 [==============================] - 0s 79us/step - loss: 0.4023 - acc: 0.8266 - val_loss: 0.4488 - val_acc: 0.8095\n",
      "Epoch 54/100\n",
      "3356/3356 [==============================] - 0s 92us/step - loss: 0.4014 - acc: 0.8266 - val_loss: 0.4480 - val_acc: 0.8095\n",
      "Epoch 55/100\n",
      "3356/3356 [==============================] - 0s 97us/step - loss: 0.4006 - acc: 0.8266 - val_loss: 0.4476 - val_acc: 0.8095\n",
      "Epoch 56/100\n",
      "3356/3356 [==============================] - 0s 91us/step - loss: 0.3999 - acc: 0.8266 - val_loss: 0.4467 - val_acc: 0.8095\n",
      "Epoch 57/100\n",
      "3356/3356 [==============================] - 0s 81us/step - loss: 0.3991 - acc: 0.8266 - val_loss: 0.4461 - val_acc: 0.8095\n",
      "Epoch 58/100\n",
      "3356/3356 [==============================] - 0s 103us/step - loss: 0.3984 - acc: 0.8266 - val_loss: 0.4454 - val_acc: 0.8095\n",
      "Epoch 59/100\n",
      "3356/3356 [==============================] - 0s 77us/step - loss: 0.3978 - acc: 0.8266 - val_loss: 0.4450 - val_acc: 0.8095\n",
      "Epoch 60/100\n",
      "3356/3356 [==============================] - 0s 69us/step - loss: 0.3971 - acc: 0.8266 - val_loss: 0.4444 - val_acc: 0.8095\n",
      "Epoch 61/100\n",
      "3356/3356 [==============================] - 0s 67us/step - loss: 0.3964 - acc: 0.8266 - val_loss: 0.4438 - val_acc: 0.8095\n",
      "Epoch 62/100\n",
      "3356/3356 [==============================] - 0s 76us/step - loss: 0.3958 - acc: 0.8266 - val_loss: 0.4433 - val_acc: 0.8095\n",
      "Epoch 63/100\n",
      "3356/3356 [==============================] - 0s 72us/step - loss: 0.3952 - acc: 0.8266 - val_loss: 0.4429 - val_acc: 0.8095\n",
      "Epoch 64/100\n",
      "3356/3356 [==============================] - 0s 77us/step - loss: 0.3946 - acc: 0.8266 - val_loss: 0.4424 - val_acc: 0.8095\n",
      "Epoch 65/100\n",
      "3356/3356 [==============================] - 0s 66us/step - loss: 0.3941 - acc: 0.8266 - val_loss: 0.4420 - val_acc: 0.8095\n",
      "Epoch 66/100\n",
      "3356/3356 [==============================] - 0s 78us/step - loss: 0.3935 - acc: 0.8266 - val_loss: 0.4416 - val_acc: 0.8095\n",
      "Epoch 67/100\n",
      "3356/3356 [==============================] - 0s 95us/step - loss: 0.3930 - acc: 0.8266 - val_loss: 0.4411 - val_acc: 0.8095\n",
      "Epoch 68/100\n",
      "3356/3356 [==============================] - 0s 81us/step - loss: 0.3925 - acc: 0.8266 - val_loss: 0.4408 - val_acc: 0.8095\n",
      "Epoch 69/100\n",
      "3356/3356 [==============================] - 0s 70us/step - loss: 0.3920 - acc: 0.8266 - val_loss: 0.4403 - val_acc: 0.8095\n",
      "Epoch 70/100\n",
      "3356/3356 [==============================] - 0s 77us/step - loss: 0.3915 - acc: 0.8266 - val_loss: 0.4400 - val_acc: 0.8095\n",
      "Epoch 71/100\n",
      "3356/3356 [==============================] - 0s 70us/step - loss: 0.3910 - acc: 0.8266 - val_loss: 0.4396 - val_acc: 0.8095\n",
      "Epoch 72/100\n",
      "3356/3356 [==============================] - 0s 62us/step - loss: 0.3905 - acc: 0.8266 - val_loss: 0.4392 - val_acc: 0.8095\n",
      "Epoch 73/100\n",
      "3356/3356 [==============================] - 0s 63us/step - loss: 0.3901 - acc: 0.8266 - val_loss: 0.4388 - val_acc: 0.8095\n",
      "Epoch 74/100\n",
      "3356/3356 [==============================] - 0s 77us/step - loss: 0.3896 - acc: 0.8266 - val_loss: 0.4386 - val_acc: 0.8095\n",
      "Epoch 75/100\n",
      "3356/3356 [==============================] - 0s 84us/step - loss: 0.3892 - acc: 0.8266 - val_loss: 0.4382 - val_acc: 0.8095\n",
      "Epoch 76/100\n",
      "3356/3356 [==============================] - 0s 80us/step - loss: 0.3888 - acc: 0.8266 - val_loss: 0.4379 - val_acc: 0.8095\n",
      "Epoch 77/100\n",
      "3356/3356 [==============================] - 0s 79us/step - loss: 0.3884 - acc: 0.8266 - val_loss: 0.4376 - val_acc: 0.8095\n",
      "Epoch 78/100\n",
      "3356/3356 [==============================] - 0s 79us/step - loss: 0.3879 - acc: 0.8266 - val_loss: 0.4372 - val_acc: 0.8095\n",
      "Epoch 79/100\n",
      "3356/3356 [==============================] - 0s 110us/step - loss: 0.3876 - acc: 0.8266 - val_loss: 0.4368 - val_acc: 0.8095\n",
      "Epoch 80/100\n",
      "3356/3356 [==============================] - 0s 84us/step - loss: 0.3872 - acc: 0.8266 - val_loss: 0.4366 - val_acc: 0.8095\n",
      "Epoch 81/100\n",
      "3356/3356 [==============================] - 0s 76us/step - loss: 0.3868 - acc: 0.8266 - val_loss: 0.4364 - val_acc: 0.8095\n",
      "Epoch 82/100\n",
      "3356/3356 [==============================] - 0s 82us/step - loss: 0.3864 - acc: 0.8266 - val_loss: 0.4360 - val_acc: 0.8095\n",
      "Epoch 83/100\n",
      "3356/3356 [==============================] - 0s 79us/step - loss: 0.3861 - acc: 0.8266 - val_loss: 0.4358 - val_acc: 0.8095\n",
      "Epoch 84/100\n",
      "3356/3356 [==============================] - 0s 83us/step - loss: 0.3857 - acc: 0.8266 - val_loss: 0.4355 - val_acc: 0.8095\n",
      "Epoch 85/100\n",
      "3356/3356 [==============================] - 0s 79us/step - loss: 0.3854 - acc: 0.8266 - val_loss: 0.4353 - val_acc: 0.8095\n",
      "Epoch 86/100\n",
      "3356/3356 [==============================] - 0s 78us/step - loss: 0.3851 - acc: 0.8266 - val_loss: 0.4350 - val_acc: 0.8095\n",
      "Epoch 87/100\n",
      "3356/3356 [==============================] - 0s 89us/step - loss: 0.3847 - acc: 0.8266 - val_loss: 0.4347 - val_acc: 0.8095\n",
      "Epoch 88/100\n",
      "3356/3356 [==============================] - 0s 81us/step - loss: 0.3844 - acc: 0.8266 - val_loss: 0.4346 - val_acc: 0.8095\n",
      "Epoch 89/100\n",
      "3356/3356 [==============================] - 0s 79us/step - loss: 0.3841 - acc: 0.8266 - val_loss: 0.4342 - val_acc: 0.8095\n",
      "Epoch 90/100\n",
      "3356/3356 [==============================] - 0s 81us/step - loss: 0.3838 - acc: 0.8266 - val_loss: 0.4340 - val_acc: 0.8095\n",
      "Epoch 91/100\n",
      "3356/3356 [==============================] - 0s 91us/step - loss: 0.3835 - acc: 0.8266 - val_loss: 0.4337 - val_acc: 0.8095\n",
      "Epoch 92/100\n",
      "3356/3356 [==============================] - 0s 84us/step - loss: 0.3832 - acc: 0.8266 - val_loss: 0.4335 - val_acc: 0.8095\n",
      "Epoch 93/100\n",
      "3356/3356 [==============================] - 0s 93us/step - loss: 0.3829 - acc: 0.8266 - val_loss: 0.4332 - val_acc: 0.8095\n",
      "Epoch 94/100\n",
      "3356/3356 [==============================] - 0s 86us/step - loss: 0.3826 - acc: 0.8266 - val_loss: 0.4331 - val_acc: 0.8095\n",
      "Epoch 95/100\n",
      "3356/3356 [==============================] - 0s 65us/step - loss: 0.3823 - acc: 0.8266 - val_loss: 0.4329 - val_acc: 0.8095\n",
      "Epoch 96/100\n",
      "3356/3356 [==============================] - 0s 68us/step - loss: 0.3821 - acc: 0.8266 - val_loss: 0.4326 - val_acc: 0.8095\n",
      "Epoch 97/100\n",
      "3356/3356 [==============================] - 0s 92us/step - loss: 0.3818 - acc: 0.8266 - val_loss: 0.4324 - val_acc: 0.8095\n",
      "Epoch 98/100\n",
      "3356/3356 [==============================] - 0s 88us/step - loss: 0.3815 - acc: 0.8266 - val_loss: 0.4323 - val_acc: 0.8095\n",
      "Epoch 99/100\n",
      "3356/3356 [==============================] - 0s 93us/step - loss: 0.3813 - acc: 0.8266 - val_loss: 0.4320 - val_acc: 0.8095\n",
      "Epoch 100/100\n",
      "3356/3356 [==============================] - 0s 58us/step - loss: 0.3810 - acc: 0.8266 - val_loss: 0.4317 - val_acc: 0.8095\n"
     ]
    }
   ],
   "source": [
    "#Keras neural network modules \n",
    "from keras import Sequential \n",
    "from keras.optimizers import Adagrad\n",
    "from keras.layers import Dense\n",
    "from keras.callbacks import EarlyStopping, ModelCheckpoint\n",
    "\n",
    "\n",
    "callbacks = [EarlyStopping(monitor='val_loss'),\n",
    "             ModelCheckpoint(filepath='best_model.h5', monitor='val_loss', save_best_only=True)]\n",
    "adagrad = Adagrad(lr=0.035)\n",
    "model = Sequential()\n",
    "model.add(Dense(12, input_dim=nn_Xtrain.shape[1], activation='softmax'))\n",
    "model.add(Dense(16, activation='softmax'))\n",
    "model.add(Dense(3, activation='softmax'))\n",
    "model.compile(loss='categorical_crossentropy', optimizer=adagrad, metrics=['accuracy'])\n",
    "history = model.fit(nn_Xtrain, Y, epochs=100, validation_data=(nn_Xtest, Y_test), callbacks=callbacks)"
   ]
  },
  {
   "cell_type": "markdown",
   "metadata": {},
   "source": [
    "### Score on the validation data"
   ]
  },
  {
   "cell_type": "code",
   "execution_count": 57,
   "metadata": {},
   "outputs": [
    {
     "data": {
      "text/plain": [
       "0.8095238095238095"
      ]
     },
     "execution_count": 57,
     "metadata": {},
     "output_type": "execute_result"
    }
   ],
   "source": [
    "scores = model.predict_classes(nn_Xtest)\n",
    "accuracy_score(y_test, scores)"
   ]
  },
  {
   "cell_type": "code",
   "execution_count": 58,
   "metadata": {},
   "outputs": [],
   "source": [
    "scores_probs = model.predict(nn_Xtest)"
   ]
  },
  {
   "cell_type": "code",
   "execution_count": 59,
   "metadata": {},
   "outputs": [
    {
     "data": {
      "text/plain": [
       "<matplotlib.legend.Legend at 0x7f41828a4e10>"
      ]
     },
     "execution_count": 59,
     "metadata": {},
     "output_type": "execute_result"
    },
    {
     "data": {
      "image/png": "[encoded data removed]",
      "text/plain": [
       "<Figure size 576x396 with 1 Axes>"
      ]
     },
     "metadata": {},
     "output_type": "display_data"
    }
   ],
   "source": [
    "plt.plot(history.history['acc'])\n",
    "plt.plot(history.history['val_acc'])\n",
    "plt.title('Accuracy Rate')\n",
    "plt.ylabel('Accuracy')\n",
    "plt.xlabel('Epochs')\n",
    "plt.legend((\"Training\",\"Validation\"))\n",
    "#plt.savefig('acc.png', dpi=400)"
   ]
  },
  {
   "cell_type": "code",
   "execution_count": 389,
   "metadata": {},
   "outputs": [],
   "source": [
    "predictions = predictions_nn.round()"
   ]
  },
  {
   "cell_type": "markdown",
   "metadata": {},
   "source": [
    "### Confusion matrix for the validation dataset"
   ]
  },
  {
   "cell_type": "code",
   "execution_count": 81,
   "metadata": {},
   "outputs": [
    {
     "data": {
      "image/png": "[encoded data removed]",
      "text/plain": [
       "<Figure size 864x720 with 8 Axes>"
      ]
     },
     "metadata": {
      "needs_background": "light"
     },
     "output_type": "display_data"
    }
   ],
   "source": [
    "f,ax=plt.subplots(2,2,figsize=(12,10))\n",
    "#KNN\n",
    "sns.heatmap(confusion_matrix(y_test, knn_predictions), annot=True, fmt='2.0f', ax=ax[0,0])\n",
    "ax[0,0].set_ylabel('Predicted')\n",
    "ax[0,0].set_title('KNN')\n",
    "\n",
    "#RFC\n",
    "sns.heatmap(confusion_matrix(y_test, rfc_predictions), annot=True, fmt='2.0f', ax=ax[0,1])\n",
    "ax[0,1].set_ylabel('Predicted')\n",
    "ax[0,1].set_title('RFC')\n",
    "\n",
    "#SVC\n",
    "sns.heatmap(confusion_matrix(y_test, svc_predictions), annot=True, fmt='2.0f', ax=ax[1,0])\n",
    "ax[1,0].set_ylabel('Predicted')\n",
    "ax[1,0].set_xlabel('Actual')\n",
    "ax[1,0].set_title('SVC')\n",
    "\n",
    "#Stack \n",
    "sns.heatmap(confusion_matrix(y_test, xgc2_predictions), annot=True, fmt='2.0f', ax=ax[1,1])\n",
    "ax[1,1].set_ylabel('Predicted')\n",
    "ax[1,1].set_xlabel('Actual')\n",
    "ax[1,1].set_title('Ensemble Stack')\n",
    "\n",
    "plt.savefig('confusion.png', dpi=400)"
   ]
  },
  {
   "cell_type": "markdown",
   "metadata": {},
   "source": [
    "# Hypothesis Testing\n",
    "\n",
    "\n",
    "The last and final stage of the model building process is to run the hypothesis test and determine if there is a significatn differnece between the performance metrics of the two classifiers. \n",
    "\n",
    "The test used for determining the score is the *Two samples proportions test*"
   ]
  },
  {
   "cell_type": "markdown",
   "metadata": {},
   "source": [
    "$$z = \\frac{\\hat{p1} - \\hat{p2}}{\\sqrt{2\\hat{p}(1-\\hat{p})/n}}$$"
   ]
  },
  {
   "cell_type": "markdown",
   "metadata": {},
   "source": [
    "**where** $$\\hat{p} = (x_{1} + x_{2}) / 2n$$\n",
    "$$ \\hat{p1} = \\text{Proportion of values correctly identified by classifier 1}$$\n",
    "$$ \\hat{p2} = \\text{Proportion of values correctly identified by classifier 2}$$\n",
    "$$ x_{1} = \\text{No. of samples correctly identified by classifier 1}$$\n",
    "$$ x_{2} = \\text{No. of samples correctly identified by classifier 2}$$\n",
    "$$ n = \\text{Total sample size (Size of the test dataset)}$$\n"
   ]
  },
  {
   "cell_type": "markdown",
   "metadata": {},
   "source": [
    "$$ H_{0} : p1 = p2 $$\n",
    "$$ H_{a} : p1 \\neq p2 $$"
   ]
  },
  {
   "cell_type": "markdown",
   "metadata": {},
   "source": [
    "### Model deployment on the testing dataset"
   ]
  },
  {
   "cell_type": "code",
   "execution_count": 60,
   "metadata": {},
   "outputs": [],
   "source": [
    "#Convert the test data into principal components and run varimax rotation on them \n",
    "\n",
    "X_tester = test.drop(['MarketTrend'], axis=1)\n",
    "y_tester = test['MarketTrend']\n",
    "\n",
    "def pca_varimax_converter(X_tester, y_tester):\n",
    "    X_tester_scaled = mms.transform(X_tester)\n",
    "\n",
    "    pca_X = pca.transform(X_tester_scaled)\n",
    "    \n",
    "    varimax_X = varimax(pca_X)\n",
    "    return varimax_X, y_tester\n",
    "    \n",
    "    "
   ]
  },
  {
   "cell_type": "code",
   "execution_count": 61,
   "metadata": {},
   "outputs": [
    {
     "name": "stderr",
     "output_type": "stream",
     "text": [
      "/home/sauraj/miniconda3/lib/python3.6/site-packages/sklearn/preprocessing/data.py:323: DataConversionWarning: Data with input dtype int64, float64 were all converted to float64 by MinMaxScaler.\n",
      "  return self.partial_fit(X, y)\n"
     ]
    }
   ],
   "source": [
    "#Normalize the test data for neural network \n",
    "mms = MinMaxScaler(feature_range=(0, 1))\n",
    "mms.fit(X_tester)\n",
    "testing_NN = mms.transform(X_tester)"
   ]
  },
  {
   "cell_type": "markdown",
   "metadata": {},
   "source": [
    "### Accuracy score of the neural network"
   ]
  },
  {
   "cell_type": "code",
   "execution_count": 62,
   "metadata": {},
   "outputs": [
    {
     "data": {
      "text/plain": [
       "0.8693994280266921"
      ]
     },
     "execution_count": 62,
     "metadata": {},
     "output_type": "execute_result"
    }
   ],
   "source": [
    "#Overall accuracy score of the neural network \n",
    "lolz = model.predict_classes(testing_NN)\n",
    "accuracy_score(y_tester, lolz)"
   ]
  },
  {
   "cell_type": "code",
   "execution_count": 63,
   "metadata": {},
   "outputs": [],
   "source": [
    "#Probabilities of the trend signals\n",
    "probabilities_test_nn = model.predict_proba(testing_NN)"
   ]
  },
  {
   "cell_type": "markdown",
   "metadata": {},
   "source": [
    "### Accuracy score of the ensemble stack"
   ]
  },
  {
   "cell_type": "code",
   "execution_count": 64,
   "metadata": {},
   "outputs": [],
   "source": [
    "#Fitting the test data for varimax rotated PCA\n",
    "varimax_X, y_tester = pca_varimax_converter(X_tester, y_tester)"
   ]
  },
  {
   "cell_type": "code",
   "execution_count": 65,
   "metadata": {},
   "outputs": [],
   "source": [
    "#Testing the varimax rotated data on the stack\n",
    "predz = xgc2.predict(varimax_X)"
   ]
  },
  {
   "cell_type": "code",
   "execution_count": 66,
   "metadata": {},
   "outputs": [],
   "source": [
    "probabilities_test_stack = xgc2.predict_proba(varimax_X)"
   ]
  },
  {
   "cell_type": "code",
   "execution_count": 67,
   "metadata": {},
   "outputs": [
    {
     "data": {
      "text/plain": [
       "0.7102001906577693"
      ]
     },
     "execution_count": 67,
     "metadata": {},
     "output_type": "execute_result"
    }
   ],
   "source": [
    "accuracy_score(y_tester, predz)"
   ]
  },
  {
   "cell_type": "markdown",
   "metadata": {},
   "source": [
    "#### For hypothesis testing, the scores will be obtained by the testing function defined below, but to also asses the predictive prowess of the model on the data in partitions, the data was split into 10 different partitions to see how the model would predict information in each data set differently than the other"
   ]
  },
  {
   "cell_type": "code",
   "execution_count": 61,
   "metadata": {},
   "outputs": [],
   "source": [
    "#Partitions for X(Stack)\n",
    "var_1 = varimax_X[0:105]\n",
    "var_2 = varimax_X[106:210]\n",
    "var_3 = varimax_X[211:315]\n",
    "var_4 = varimax_X[316:420]\n",
    "var_5 = varimax_X[421:525]\n",
    "var_6 = varimax_X[526:630]\n",
    "var_7 = varimax_X[631:735]\n",
    "var_8 = varimax_X[736:840]\n",
    "var_9 = varimax_X[841:945]\n",
    "var_10 = varimax_X[946:1049]"
   ]
  },
  {
   "cell_type": "code",
   "execution_count": 62,
   "metadata": {},
   "outputs": [],
   "source": [
    "#Partitions for X (Neural networks)\n",
    "nn_1 = testing_NN[0:105]\n",
    "nn_2 = testing_NN[106:210]\n",
    "nn_3 = testing_NN[211:315]\n",
    "nn_4 = testing_NN[316:420]\n",
    "nn_5 = testing_NN[421:525]\n",
    "nn_6 = testing_NN[526:630]\n",
    "nn_7 = testing_NN[631:735]\n",
    "nn_8 = testing_NN[736:840]\n",
    "nn_9 = testing_NN[841:945]\n",
    "nn_10 = testing_NN[946:1049]\n",
    "\n",
    "#Partitions for Y\n",
    "y_1 = y_tester[0:105]\n",
    "y_2 = y_tester[106:210]\n",
    "y_3 = y_tester[211:315]\n",
    "y_4 = y_tester[316:420]\n",
    "y_5 = y_tester[421:525]\n",
    "y_6 = y_tester[526:630]\n",
    "y_7 = y_tester[631:735]\n",
    "y_8 = y_tester[736:840]\n",
    "y_9 = y_tester[841:945]\n",
    "y_10 = y_tester[946:1049]"
   ]
  },
  {
   "cell_type": "code",
   "execution_count": 68,
   "metadata": {},
   "outputs": [],
   "source": [
    "#Accuracy for each partition\n",
    "def partition_scores(partition_X, partition_y):\n",
    "    #Obtains accuracy metric for the neural network \n",
    "    scores = model.predict_classes(partition_X)\n",
    "    metric = accuracy_score(partition_y, scores)\n",
    "    return metric\n",
    "\n",
    "def stack_scores(partition_X, partition_y):\n",
    "    #Obtains accuracy for the stack classifier \n",
    "    scores = xgc2.predict(partition_X)\n",
    "    metric = accuracy_score(partition_y, scores)\n",
    "    return metric"
   ]
  },
  {
   "cell_type": "code",
   "execution_count": 125,
   "metadata": {},
   "outputs": [],
   "source": [
    "s1 = partition_scores(nn_1, y_1)\n",
    "s2=partition_scores(nn_2, y_2)\n",
    "s3=partition_scores(nn_3, y_3)\n",
    "s4=partition_scores(nn_4, y_4)\n",
    "s5=partition_scores(nn_5, y_5)\n",
    "s6=partition_scores(nn_6, y_6)\n",
    "s7=partition_scores(nn_7, y_7)\n",
    "s8=partition_scores(nn_8, y_8)\n",
    "s9=partition_scores(nn_9, y_9)\n",
    "s10=partition_scores(nn_10, y_10)"
   ]
  },
  {
   "cell_type": "code",
   "execution_count": 126,
   "metadata": {
    "collapsed": true
   },
   "outputs": [
    {
     "ename": "TypeError",
     "evalue": "'numpy.ndarray' object is not callable",
     "output_type": "error",
     "traceback": [
      "\u001b[0;31m---------------------------------------------------------------------------\u001b[0m",
      "\u001b[0;31mTypeError\u001b[0m                                 Traceback (most recent call last)",
      "\u001b[0;32m<ipython-input-126-bd0d816f1f79>\u001b[0m in \u001b[0;36m<module>\u001b[0;34m\u001b[0m\n\u001b[0;32m----> 1\u001b[0;31m \u001b[0mj1\u001b[0m\u001b[0;34m=\u001b[0m\u001b[0mstack_scores\u001b[0m\u001b[0;34m(\u001b[0m\u001b[0mvar_1\u001b[0m\u001b[0;34m,\u001b[0m \u001b[0my_1\u001b[0m\u001b[0;34m)\u001b[0m\u001b[0;34m\u001b[0m\u001b[0;34m\u001b[0m\u001b[0m\n\u001b[0m\u001b[1;32m      2\u001b[0m \u001b[0mj2\u001b[0m\u001b[0;34m=\u001b[0m\u001b[0mstack_scores\u001b[0m\u001b[0;34m(\u001b[0m\u001b[0mvar_2\u001b[0m\u001b[0;34m,\u001b[0m \u001b[0my_2\u001b[0m\u001b[0;34m)\u001b[0m\u001b[0;34m\u001b[0m\u001b[0;34m\u001b[0m\u001b[0m\n\u001b[1;32m      3\u001b[0m \u001b[0mj3\u001b[0m\u001b[0;34m=\u001b[0m\u001b[0mstack_scores\u001b[0m\u001b[0;34m(\u001b[0m\u001b[0mvar_3\u001b[0m\u001b[0;34m,\u001b[0m \u001b[0my_3\u001b[0m\u001b[0;34m)\u001b[0m\u001b[0;34m\u001b[0m\u001b[0;34m\u001b[0m\u001b[0m\n\u001b[1;32m      4\u001b[0m \u001b[0mj4\u001b[0m\u001b[0;34m=\u001b[0m\u001b[0mstack_scores\u001b[0m\u001b[0;34m(\u001b[0m\u001b[0mvar_4\u001b[0m\u001b[0;34m,\u001b[0m \u001b[0my_4\u001b[0m\u001b[0;34m)\u001b[0m\u001b[0;34m\u001b[0m\u001b[0;34m\u001b[0m\u001b[0m\n\u001b[1;32m      5\u001b[0m \u001b[0mj5\u001b[0m\u001b[0;34m=\u001b[0m\u001b[0mstack_scores\u001b[0m\u001b[0;34m(\u001b[0m\u001b[0mvar_5\u001b[0m\u001b[0;34m,\u001b[0m \u001b[0my_5\u001b[0m\u001b[0;34m)\u001b[0m\u001b[0;34m\u001b[0m\u001b[0;34m\u001b[0m\u001b[0m\n",
      "\u001b[0;31mTypeError\u001b[0m: 'numpy.ndarray' object is not callable"
     ]
    }
   ],
   "source": [
    "j1=stack_scores(var_1, y_1)\n",
    "j2=stack_scores(var_2, y_2)\n",
    "j3=stack_scores(var_3, y_3)\n",
    "j4=stack_scores(var_4, y_4)\n",
    "j5=stack_scores(var_5, y_5)\n",
    "j6=stack_scores(var_6, y_6)\n",
    "j7=stack_scores(var_7, y_7)\n",
    "j8=stack_scores(var_8, y_8)\n",
    "j9=stack_scores(var_9, y_9)\n",
    "j10=stack_scores(var_10, y_10)"
   ]
  },
  {
   "cell_type": "code",
   "execution_count": 69,
   "metadata": {},
   "outputs": [
    {
     "ename": "NameError",
     "evalue": "name 's1' is not defined",
     "output_type": "error",
     "traceback": [
      "\u001b[0;31m---------------------------------------------------------------------------\u001b[0m",
      "\u001b[0;31mNameError\u001b[0m                                 Traceback (most recent call last)",
      "\u001b[0;32m<ipython-input-69-4cd3156cbd3f>\u001b[0m in \u001b[0;36m<module>\u001b[0;34m\u001b[0m\n\u001b[0;32m----> 1\u001b[0;31m \u001b[0mneuralnetwork_scores\u001b[0m \u001b[0;34m=\u001b[0m \u001b[0mnp\u001b[0m\u001b[0;34m.\u001b[0m\u001b[0marray\u001b[0m\u001b[0;34m(\u001b[0m\u001b[0;34m[\u001b[0m\u001b[0ms1\u001b[0m\u001b[0;34m,\u001b[0m \u001b[0ms2\u001b[0m\u001b[0;34m,\u001b[0m \u001b[0ms3\u001b[0m\u001b[0;34m,\u001b[0m \u001b[0ms4\u001b[0m\u001b[0;34m,\u001b[0m \u001b[0ms5\u001b[0m\u001b[0;34m,\u001b[0m \u001b[0ms6\u001b[0m\u001b[0;34m,\u001b[0m \u001b[0ms7\u001b[0m\u001b[0;34m,\u001b[0m \u001b[0ms8\u001b[0m\u001b[0;34m,\u001b[0m \u001b[0ms9\u001b[0m\u001b[0;34m,\u001b[0m \u001b[0ms10\u001b[0m\u001b[0;34m]\u001b[0m\u001b[0;34m)\u001b[0m\u001b[0;34m\u001b[0m\u001b[0;34m\u001b[0m\u001b[0m\n\u001b[0m\u001b[1;32m      2\u001b[0m \u001b[0mneuralnetwork_scores\u001b[0m\u001b[0;34m\u001b[0m\u001b[0;34m\u001b[0m\u001b[0m\n",
      "\u001b[0;31mNameError\u001b[0m: name 's1' is not defined"
     ]
    }
   ],
   "source": [
    "neuralnetwork_scores = np.array([s1, s2, s3, s4, s5, s6, s7, s8, s9, s10])\n",
    "neuralnetwork_scores"
   ]
  },
  {
   "cell_type": "code",
   "execution_count": 128,
   "metadata": {},
   "outputs": [],
   "source": [
    "stack_scores = np.array([j1, j2, j3, j4, j5, j6, j7, j8, j9, j10])"
   ]
  },
  {
   "cell_type": "code",
   "execution_count": 129,
   "metadata": {},
   "outputs": [
    {
     "data": {
      "text/plain": [
       "array([0.6952381 , 0.625     , 0.58653846, 0.67307692, 0.72115385,\n",
       "       0.71153846, 0.76923077, 0.92307692, 0.68269231, 0.69902913])"
      ]
     },
     "execution_count": 129,
     "metadata": {},
     "output_type": "execute_result"
    }
   ],
   "source": [
    "stack_scores"
   ]
  },
  {
   "cell_type": "markdown",
   "metadata": {},
   "source": [
    "#### Accuracy score dataframe"
   ]
  },
  {
   "cell_type": "code",
   "execution_count": 132,
   "metadata": {},
   "outputs": [
    {
     "name": "stdout",
     "output_type": "stream",
     "text": [
      "\\begin{tabular}{lrr}\n",
      "\\toprule\n",
      "{} &  NN\\_Scores &  Stacking\\_Scores \\\\\n",
      "\\midrule\n",
      "0 &   0.914286 &         0.695238 \\\\\n",
      "1 &   0.778846 &         0.625000 \\\\\n",
      "2 &   0.971154 &         0.586538 \\\\\n",
      "3 &   0.875000 &         0.673077 \\\\\n",
      "4 &   0.951923 &         0.721154 \\\\\n",
      "5 &   0.836538 &         0.711538 \\\\\n",
      "6 &   0.807692 &         0.769231 \\\\\n",
      "7 &   0.759615 &         0.923077 \\\\\n",
      "8 &   0.951923 &         0.682692 \\\\\n",
      "9 &   0.844660 &         0.699029 \\\\\n",
      "\\bottomrule\n",
      "\\end{tabular}\n",
      "\n"
     ]
    }
   ],
   "source": [
    "data = {'NN_Scores': neuralnetwork_scores, 'Stacking_Scores': stack_scores}\n",
    "hypo_df = pd.DataFrame(data=data)\n",
    "print(hypo_df.to_latex())"
   ]
  },
  {
   "cell_type": "code",
   "execution_count": 78,
   "metadata": {},
   "outputs": [],
   "source": [
    "#p1 value for the hypothesis testing\n",
    "p1 = hypo_df['NN_Scores'].mean()"
   ]
  },
  {
   "cell_type": "code",
   "execution_count": 79,
   "metadata": {},
   "outputs": [],
   "source": [
    "#p2 value for the hypothesis testing\n",
    "p2 = hypo_df['Stacking_Scores'].mean()"
   ]
  },
  {
   "cell_type": "code",
   "execution_count": 429,
   "metadata": {},
   "outputs": [
    {
     "data": {
      "text/plain": [
       "(0.8691638216152778, 0.7086574913759379)"
      ]
     },
     "execution_count": 429,
     "metadata": {},
     "output_type": "execute_result"
    }
   ],
   "source": [
    "p1, p2"
   ]
  },
  {
   "cell_type": "code",
   "execution_count": 76,
   "metadata": {},
   "outputs": [
    {
     "data": {
      "text/plain": [
       "1049"
      ]
     },
     "execution_count": 76,
     "metadata": {},
     "output_type": "execute_result"
    }
   ],
   "source": [
    "len(test) #n value "
   ]
  },
  {
   "cell_type": "markdown",
   "metadata": {},
   "source": [
    "### Function to test hypothesis"
   ]
  },
  {
   "cell_type": "code",
   "execution_count": 112,
   "metadata": {},
   "outputs": [],
   "source": [
    "#Hypothesis testing \n",
    "def proportions_test(p1, p2): \n",
    "    samples_1 = p1 * len(test)\n",
    "    samples_2 = p2 * len(test)#Obtain the accuracy score of each classifier first\n",
    "    p_hat = (samples_1 + samples_2) / (2 * len(test))\n",
    "    \n",
    "    numerator_difference = p1 - p2\n",
    "    two_phat = 2 * p_hat\n",
    "    denominator = (two_phat* (1-p_hat)) / len(test)\n",
    "    z_score = numerator_difference/np.sqrt(denominator)\n",
    "    return z_score"
   ]
  },
  {
   "cell_type": "code",
   "execution_count": 122,
   "metadata": {},
   "outputs": [
    {
     "name": "stdout",
     "output_type": "stream",
     "text": [
      "Z-score of the proportions test:  9.007781555378179\n"
     ]
    }
   ],
   "source": [
    "print(\"Z-score of the proportions test: \", proportions_test(p1, p2))"
   ]
  },
  {
   "cell_type": "markdown",
   "metadata": {},
   "source": [
    "### With a z-score of 9.01, the null hypothesis is clearly rejected (p < 0.00001), clearly stating that there is a highly significant difference between the performance metric of the two classifiers"
   ]
  },
  {
   "cell_type": "code",
   "execution_count": 70,
   "metadata": {},
   "outputs": [],
   "source": [
    "y_tester_binary = lb.transform(y_tester)"
   ]
  },
  {
   "cell_type": "code",
   "execution_count": 71,
   "metadata": {},
   "outputs": [],
   "source": [
    "xgc_predictions = xgc2.predict(varimax_X)\n",
    "predictions = lb.transform(xgc_predictions)"
   ]
  },
  {
   "cell_type": "code",
   "execution_count": 176,
   "metadata": {},
   "outputs": [
    {
     "data": {
      "image/png": "[encoded data removed]",
      "text/plain": [
       "<Figure size 936x360 with 1 Axes>"
      ]
     },
     "metadata": {},
     "output_type": "display_data"
    }
   ],
   "source": [
    "plt.figure(figsize=(13, 5))\n",
    "plt.plot(hypo_df['NN_Scores'], color='purple')\n",
    "plt.plot(hypo_df['Stacking_Scores'], color='blue')\n",
    "plt.legend((\"Neural Network\", \"Ensemble Stack\"))\n",
    "plt.xlabel(\"Testing fold\")\n",
    "plt.ylabel(\"Accuracy score\")\n",
    "plt.savefig(\"final.png\", dpi=400)"
   ]
  },
  {
   "cell_type": "markdown",
   "metadata": {},
   "source": [
    "### ROC curve for Stack "
   ]
  },
  {
   "cell_type": "code",
   "execution_count": 72,
   "metadata": {},
   "outputs": [
    {
     "data": {
      "text/plain": [
       "Date\n",
       "1998-02-23    2\n",
       "1998-02-24    2\n",
       "1998-02-25    2\n",
       "1998-02-26    2\n",
       "1998-02-27    2\n",
       "1998-03-02    2\n",
       "1998-03-03    2\n",
       "1998-03-04    2\n",
       "1998-03-05    2\n",
       "1998-03-06    1\n",
       "1998-03-09    1\n",
       "1998-03-10    2\n",
       "1998-03-11    2\n",
       "1998-03-12    2\n",
       "1998-03-13    2\n",
       "1998-03-16    2\n",
       "1998-03-17    2\n",
       "1998-03-18    1\n",
       "1998-03-19    1\n",
       "1998-03-20    1\n",
       "1998-03-23    1\n",
       "1998-03-24    1\n",
       "1998-03-25    2\n",
       "1998-03-26    2\n",
       "1998-03-27    2\n",
       "1998-03-30    1\n",
       "1998-03-31    1\n",
       "1998-04-01    1\n",
       "1998-04-02    2\n",
       "1998-04-03    2\n",
       "1998-04-06    2\n",
       "1998-04-07    2\n",
       "1998-04-08    1\n",
       "1998-04-09    1\n",
       "1998-04-13    1\n",
       "1998-04-14    1\n",
       "1998-04-15    1\n",
       "1998-04-16    1\n",
       "1998-04-17    1\n",
       "1998-04-20    1\n",
       "1998-04-21    1\n",
       "1998-04-22    2\n",
       "1998-04-23    1\n",
       "1998-04-24    1\n",
       "1998-04-27    0\n",
       "1998-04-28    0\n",
       "1998-04-29    0\n",
       "1998-04-30    0\n",
       "1998-05-01    1\n",
       "1998-05-04    1\n",
       "1998-05-05    1\n",
       "1998-05-06    2\n",
       "1998-05-07    0\n",
       "1998-05-08    0\n",
       "1998-05-11    0\n",
       "1998-05-12    1\n",
       "1998-05-13    2\n",
       "1998-05-14    2\n",
       "1998-05-15    2\n",
       "1998-05-18    2\n",
       "1998-05-19    2\n",
       "1998-05-20    2\n",
       "1998-05-21    2\n",
       "1998-05-22    2\n",
       "1998-05-26    0\n",
       "1998-05-27    0\n",
       "1998-05-28    0\n",
       "1998-05-29    0\n",
       "1998-06-01    0\n",
       "1998-06-02    0\n",
       "1998-06-03    0\n",
       "1998-06-04    0\n",
       "1998-06-05    2\n",
       "1998-06-08    2\n",
       "1998-06-09    1\n",
       "1998-06-10    1\n",
       "1998-06-11    2\n",
       "1998-06-12    2\n",
       "1998-06-15    0\n",
       "1998-06-16    0\n",
       "1998-06-17    2\n",
       "1998-06-18    2\n",
       "1998-06-19    2\n",
       "1998-06-22    2\n",
       "1998-06-23    1\n",
       "1998-06-24    1\n",
       "1998-06-25    1\n",
       "1998-06-26    1\n",
       "1998-06-29    1\n",
       "1998-06-30    1\n",
       "1998-07-01    1\n",
       "1998-07-02    1\n",
       "1998-07-06    1\n",
       "1998-07-07    1\n",
       "1998-07-08    1\n",
       "1998-07-09    1\n",
       "1998-07-10    1\n",
       "1998-07-13    1\n",
       "1998-07-14    1\n",
       "1998-07-15    1\n",
       "1998-07-16    1\n",
       "1998-07-17    1\n",
       "1998-07-20    1\n",
       "1998-07-21    2\n",
       "1998-07-22    2\n",
       "1998-07-23    1\n",
       "1998-07-24    2\n",
       "1998-07-27    0\n",
       "1998-07-28    0\n",
       "1998-07-29    0\n",
       "1998-07-30    0\n",
       "1998-07-31    0\n",
       "1998-08-03    0\n",
       "1998-08-04    0\n",
       "1998-08-05    0\n",
       "1998-08-06    0\n",
       "1998-08-07    0\n",
       "1998-08-10    0\n",
       "1998-08-11    0\n",
       "1998-08-12    0\n",
       "1998-08-13    0\n",
       "1998-08-14    0\n",
       "1998-08-17    0\n",
       "1998-08-18    0\n",
       "1998-08-19    2\n",
       "1998-08-20    0\n",
       "1998-08-21    0\n",
       "1998-08-24    0\n",
       "1998-08-25    0\n",
       "1998-08-26    0\n",
       "1998-08-27    2\n",
       "1998-08-28    0\n",
       "1998-08-31    0\n",
       "1998-09-01    0\n",
       "1998-09-02    0\n",
       "1998-09-03    0\n",
       "1998-09-04    0\n",
       "1998-09-08    0\n",
       "1998-09-09    0\n",
       "1998-09-10    0\n",
       "1998-09-11    2\n",
       "1998-09-14    0\n",
       "1998-09-15    0\n",
       "1998-09-16    0\n",
       "1998-09-17    0\n",
       "1998-09-18    0\n",
       "1998-09-21    0\n",
       "1998-09-22    0\n",
       "1998-09-23    1\n",
       "1998-09-24    1\n",
       "1998-09-25    1\n",
       "1998-09-28    1\n",
       "1998-09-29    1\n",
       "1998-09-30    2\n",
       "1998-10-01    2\n",
       "1998-10-02    2\n",
       "1998-10-05    0\n",
       "1998-10-06    0\n",
       "1998-10-07    0\n",
       "1998-10-08    0\n",
       "1998-10-09    0\n",
       "1998-10-12    0\n",
       "1998-10-13    0\n",
       "1998-10-14    2\n",
       "1998-10-15    1\n",
       "1998-10-16    1\n",
       "1998-10-19    1\n",
       "1998-10-20    1\n",
       "1998-10-21    1\n",
       "1998-10-22    1\n",
       "1998-10-23    1\n",
       "1998-10-26    1\n",
       "1998-10-27    1\n",
       "1998-10-28    1\n",
       "1998-10-29    1\n",
       "1998-10-30    1\n",
       "1998-11-02    1\n",
       "1998-11-03    1\n",
       "1998-11-04    1\n",
       "1998-11-05    1\n",
       "1998-11-06    1\n",
       "1998-11-09    1\n",
       "1998-11-10    1\n",
       "1998-11-11    1\n",
       "1998-11-12    1\n",
       "1998-11-13    2\n",
       "1998-11-16    2\n",
       "1998-11-17    2\n",
       "1998-11-18    2\n",
       "1998-11-19    2\n",
       "1998-11-20    1\n",
       "1998-11-23    1\n",
       "1998-11-24    1\n",
       "1998-11-25    1\n",
       "1998-11-27    1\n",
       "1998-11-30    2\n",
       "1998-12-01    2\n",
       "1998-12-02    1\n",
       "1998-12-03    1\n",
       "1998-12-04    1\n",
       "1998-12-07    1\n",
       "1998-12-08    1\n",
       "1998-12-09    1\n",
       "1998-12-10    1\n",
       "1998-12-11    1\n",
       "1998-12-14    1\n",
       "1998-12-15    1\n",
       "1998-12-16    1\n",
       "1998-12-17    1\n",
       "1998-12-18    1\n",
       "1998-12-21    1\n",
       "1998-12-22    2\n",
       "1998-12-23    1\n",
       "1998-12-24    1\n",
       "1998-12-28    1\n",
       "1998-12-29    1\n",
       "1998-12-30    1\n",
       "1998-12-31    1\n",
       "1999-01-04    1\n",
       "1999-01-05    1\n",
       "1999-01-06    1\n",
       "1999-01-07    1\n",
       "1999-01-08    1\n",
       "1999-01-11    1\n",
       "1999-01-12    2\n",
       "1999-01-13    1\n",
       "1999-01-14    1\n",
       "1999-01-15    1\n",
       "1999-01-19    1\n",
       "1999-01-20    1\n",
       "1999-01-21    1\n",
       "1999-01-22    1\n",
       "1999-01-25    1\n",
       "1999-01-26    1\n",
       "1999-01-27    1\n",
       "1999-01-28    1\n",
       "1999-01-29    2\n",
       "1999-02-01    2\n",
       "1999-02-02    2\n",
       "1999-02-03    2\n",
       "1999-02-04    1\n",
       "1999-02-05    1\n",
       "1999-02-08    1\n",
       "1999-02-09    0\n",
       "1999-02-10    0\n",
       "1999-02-11    0\n",
       "1999-02-12    0\n",
       "1999-02-16    0\n",
       "1999-02-17    0\n",
       "1999-02-18    0\n",
       "             ..\n",
       "2010-06-28    2\n",
       "2010-06-29    0\n",
       "2010-06-30    0\n",
       "2010-07-01    0\n",
       "2010-07-02    0\n",
       "2010-07-06    0\n",
       "2010-07-07    0\n",
       "2010-07-08    2\n",
       "2010-07-09    0\n",
       "2010-07-12    0\n",
       "2010-07-13    1\n",
       "2010-07-14    1\n",
       "2010-07-15    1\n",
       "2010-07-16    1\n",
       "2010-07-19    1\n",
       "2010-07-20    1\n",
       "2010-07-21    2\n",
       "2010-07-22    1\n",
       "2010-07-23    1\n",
       "2010-07-26    1\n",
       "2010-07-27    1\n",
       "2010-07-28    1\n",
       "2010-07-29    1\n",
       "2010-07-30    1\n",
       "2010-08-02    1\n",
       "2010-08-03    1\n",
       "2010-08-04    1\n",
       "2010-08-05    1\n",
       "2010-08-06    1\n",
       "2010-08-09    1\n",
       "2010-08-10    1\n",
       "2010-08-11    2\n",
       "2010-08-12    2\n",
       "2010-08-13    0\n",
       "2010-08-16    0\n",
       "2010-08-17    0\n",
       "2010-08-18    0\n",
       "2010-08-19    0\n",
       "2010-08-20    0\n",
       "2010-08-23    0\n",
       "2010-08-24    0\n",
       "2010-08-25    0\n",
       "2010-08-26    0\n",
       "2010-08-27    0\n",
       "2010-08-30    0\n",
       "2010-08-31    0\n",
       "2010-09-01    0\n",
       "2010-09-02    2\n",
       "2010-09-03    1\n",
       "2010-09-07    1\n",
       "2010-09-08    1\n",
       "2010-09-09    1\n",
       "2010-09-10    1\n",
       "2010-09-13    1\n",
       "2010-09-14    1\n",
       "2010-09-15    1\n",
       "2010-09-16    1\n",
       "2010-09-17    1\n",
       "2010-09-20    1\n",
       "2010-09-21    1\n",
       "2010-09-22    1\n",
       "2010-09-23    1\n",
       "2010-09-24    1\n",
       "2010-09-27    1\n",
       "2010-09-28    1\n",
       "2010-09-29    1\n",
       "2010-09-30    1\n",
       "2010-10-01    2\n",
       "2010-10-04    2\n",
       "2010-10-05    2\n",
       "2010-10-06    2\n",
       "2010-10-07    2\n",
       "2010-10-08    1\n",
       "2010-10-11    1\n",
       "2010-10-12    1\n",
       "2010-10-13    1\n",
       "2010-10-14    1\n",
       "2010-10-15    1\n",
       "2010-10-18    1\n",
       "2010-10-19    2\n",
       "2010-10-20    2\n",
       "2010-10-21    2\n",
       "2010-10-22    2\n",
       "2010-10-25    2\n",
       "2010-10-26    2\n",
       "2010-10-27    2\n",
       "2010-10-28    2\n",
       "2010-10-29    1\n",
       "2010-11-01    1\n",
       "2010-11-02    2\n",
       "2010-11-03    2\n",
       "2010-11-04    1\n",
       "2010-11-05    1\n",
       "2010-11-08    1\n",
       "2010-11-09    1\n",
       "2010-11-10    1\n",
       "2010-11-11    2\n",
       "2010-11-12    2\n",
       "2010-11-15    1\n",
       "2010-11-16    1\n",
       "2010-11-17    0\n",
       "2010-11-18    2\n",
       "2010-11-19    1\n",
       "2010-11-22    1\n",
       "2010-11-23    0\n",
       "2010-11-24    2\n",
       "2010-11-26    0\n",
       "2010-11-29    0\n",
       "2010-11-30    0\n",
       "2010-12-01    1\n",
       "2010-12-02    2\n",
       "2010-12-03    1\n",
       "2010-12-06    1\n",
       "2010-12-07    1\n",
       "2010-12-08    1\n",
       "2010-12-09    1\n",
       "2010-12-10    1\n",
       "2010-12-13    1\n",
       "2010-12-14    1\n",
       "2010-12-15    1\n",
       "2010-12-16    1\n",
       "2010-12-17    1\n",
       "2010-12-20    1\n",
       "2010-12-21    1\n",
       "2010-12-22    1\n",
       "2010-12-23    2\n",
       "2010-12-27    2\n",
       "2010-12-28    2\n",
       "2010-12-29    2\n",
       "2010-12-30    2\n",
       "2010-12-31    2\n",
       "2011-01-03    2\n",
       "2011-01-04    2\n",
       "2011-01-05    2\n",
       "2011-01-06    2\n",
       "2011-01-07    2\n",
       "2011-01-10    2\n",
       "2011-01-11    2\n",
       "2011-01-12    2\n",
       "2011-01-13    2\n",
       "2011-01-14    2\n",
       "2011-01-18    2\n",
       "2011-01-19    2\n",
       "2011-01-20    2\n",
       "2011-01-21    2\n",
       "2011-01-24    2\n",
       "2011-01-25    2\n",
       "2011-01-26    2\n",
       "2011-01-27    2\n",
       "2011-01-28    1\n",
       "2011-01-31    1\n",
       "2011-02-01    2\n",
       "2011-02-02    2\n",
       "2011-02-03    2\n",
       "2011-02-04    2\n",
       "2011-02-07    1\n",
       "2011-02-08    1\n",
       "2011-02-09    1\n",
       "2011-02-10    1\n",
       "2011-02-11    1\n",
       "2011-02-14    1\n",
       "2011-02-15    1\n",
       "2011-02-16    1\n",
       "2011-02-17    1\n",
       "2011-02-18    1\n",
       "2011-02-22    2\n",
       "2011-02-23    1\n",
       "2011-02-24    1\n",
       "2011-02-25    1\n",
       "2011-02-28    1\n",
       "2011-03-01    1\n",
       "2011-03-02    2\n",
       "2011-03-03    1\n",
       "2011-03-04    1\n",
       "2011-03-07    1\n",
       "2011-03-08    1\n",
       "2011-03-09    1\n",
       "2011-03-10    0\n",
       "2011-03-11    0\n",
       "2011-03-14    0\n",
       "2011-03-15    0\n",
       "2011-03-16    0\n",
       "2011-03-17    0\n",
       "2011-03-18    0\n",
       "2011-03-21    0\n",
       "2011-03-22    0\n",
       "2011-03-23    0\n",
       "2011-03-24    2\n",
       "2011-03-25    2\n",
       "2011-03-28    1\n",
       "2011-03-29    1\n",
       "2011-03-30    1\n",
       "2011-03-31    1\n",
       "2011-04-01    1\n",
       "2011-04-04    1\n",
       "2011-04-05    1\n",
       "2011-04-06    1\n",
       "2011-04-07    1\n",
       "2011-04-08    1\n",
       "2011-04-11    1\n",
       "2011-04-12    2\n",
       "2011-04-13    2\n",
       "2011-04-14    2\n",
       "2011-04-15    2\n",
       "2011-04-18    0\n",
       "2011-04-19    0\n",
       "2011-04-20    2\n",
       "2011-04-21    2\n",
       "2011-04-25    2\n",
       "2011-04-26    1\n",
       "2011-04-27    1\n",
       "2011-04-28    1\n",
       "2011-04-29    1\n",
       "2011-05-02    1\n",
       "2011-05-03    1\n",
       "2011-05-04    1\n",
       "2011-05-05    2\n",
       "2011-05-06    2\n",
       "2011-05-09    2\n",
       "2011-05-10    2\n",
       "2011-05-11    2\n",
       "2011-05-12    2\n",
       "2011-05-13    1\n",
       "2011-05-16    2\n",
       "2011-05-17    0\n",
       "2011-05-18    2\n",
       "2011-05-19    2\n",
       "2011-05-20    2\n",
       "2011-05-23    0\n",
       "2011-05-24    0\n",
       "2011-05-25    0\n",
       "2011-05-26    0\n",
       "2011-05-27    0\n",
       "2011-05-31    2\n",
       "2011-06-01    0\n",
       "2011-06-02    0\n",
       "2011-06-03    0\n",
       "2011-06-06    0\n",
       "2011-06-07    0\n",
       "2011-06-08    0\n",
       "2011-06-09    0\n",
       "2011-06-10    0\n",
       "2011-06-13    0\n",
       "2011-06-14    0\n",
       "2011-06-15    0\n",
       "2011-06-16    0\n",
       "2011-06-17    0\n",
       "2011-06-20    0\n",
       "2011-06-21    2\n",
       "2011-06-22    2\n",
       "Name: MarketTrend, Length: 3356, dtype: int64"
      ]
     },
     "execution_count": 72,
     "metadata": {},
     "output_type": "execute_result"
    }
   ],
   "source": [
    "y_train"
   ]
  },
  {
   "cell_type": "code",
   "execution_count": 373,
   "metadata": {},
   "outputs": [
    {
     "data": {
      "text/plain": [
       "0.7102001906577693"
      ]
     },
     "execution_count": 373,
     "metadata": {},
     "output_type": "execute_result"
    },
    {
     "data": {
      "image/png": "[encoded data removed]",
      "text/plain": [
       "<Figure size 576x576 with 1 Axes>"
      ]
     },
     "metadata": {},
     "output_type": "display_data"
    }
   ],
   "source": [
    "from yellowbrick.classifier import ROCAUC\n",
    "plt.figure(figsize=(8,8))\n",
    "classes = [\"Bearish\", \"Bullish\", \"Reversal\"]\n",
    "visualizer = ROCAUC(xgc2, classes=classes, macro=False)\n",
    "visualizer.fit(pca_Xtrain2, y_train)  # Fit the training data to the visualizer\n",
    "visualizer.score(varimax_X, y_tester)# Evaluate the model on the test data\n",
    "#g = visualizer.poof(outpath=\"stackroc.png\")# Draw/show/poof the data"
   ]
  },
  {
   "cell_type": "code",
   "execution_count": 277,
   "metadata": {},
   "outputs": [
    {
     "data": {
      "image/png": "[encoded data removed]",
      "text/plain": [
       "<Figure size 576x396 with 1 Axes>"
      ]
     },
     "metadata": {},
     "output_type": "display_data"
    }
   ],
   "source": [
    "from yellowbrick.classifier import PrecisionRecallCurve\n",
    "precision = PrecisionRecallCurve(xgc2, per_class=True, fill_area=False)\n",
    "precision.fit(pca_Xtrain2, y_train)\n",
    "precision.score(varimax_X, y_tester)\n",
    "precision.poof()"
   ]
  },
  {
   "cell_type": "code",
   "execution_count": 212,
   "metadata": {},
   "outputs": [
    {
     "data": {
      "text/plain": [
       "0.27465651466881275"
      ]
     },
     "execution_count": 212,
     "metadata": {},
     "output_type": "execute_result"
    }
   ],
   "source": [
    "0.05304043529286245/(0.06106848905968113 * np.sqrt(10))"
   ]
  },
  {
   "cell_type": "markdown",
   "metadata": {},
   "source": [
    "##  Performance Metrics "
   ]
  },
  {
   "cell_type": "markdown",
   "metadata": {},
   "source": [
    "### Confusion Matrix "
   ]
  },
  {
   "cell_type": "code",
   "execution_count": 207,
   "metadata": {},
   "outputs": [
    {
     "data": {
      "image/png": "[encoded data removed]",
      "text/plain": [
       "<Figure size 864x720 with 6 Axes>"
      ]
     },
     "metadata": {},
     "output_type": "display_data"
    }
   ],
   "source": [
    "from sklearn.metrics import confusion_matrix\n",
    "f,ax=plt.subplots(2, 2,figsize=(12, 10))\n",
    "\n",
    "#Stack\n",
    "sns.heatmap(confusion_matrix(y_tester, predz), annot=True, fmt='2.0f', ax=ax[0,0], cmap=\"Blues\")\n",
    "ax[0,0].set_ylabel('Predicted')\n",
    "ax[0,0].set_xlabel('Actual')\n",
    "ax[0,0].set_title('Ensemble Stack')\n",
    "\n",
    "#Network \n",
    "sns.heatmap(confusion_matrix(y_tester, lolz), annot=True, fmt='2.0f', ax=ax[0,1], cmap=\"Blues\")\n",
    "ax[0,1].set_ylabel('Predicted')\n",
    "ax[0,1].set_xlabel('Actual')\n",
    "ax[0,1].set_title('Neural Network')\n",
    "plt.savefig('confusion.png', dpi=300)"
   ]
  },
  {
   "cell_type": "markdown",
   "metadata": {},
   "source": [
    "### Multiclass ROC "
   ]
  },
  {
   "cell_type": "code",
   "execution_count": 310,
   "metadata": {},
   "outputs": [
    {
     "name": "stdout",
     "output_type": "stream",
     "text": [
      "Epoch 1/1\n",
      "3356/3356 [==============================] - 0s 59us/step - loss: 0.3958 - acc: 0.8266\n"
     ]
    }
   ],
   "source": [
    "from itertools import cycle \n",
    "from sklearn.preprocessing import label_binarize\n",
    "from sklearn.metrics import roc_curve, auc\n",
    "\n",
    "#First, binarize the outputs \n",
    "y_train_binarized = label_binarize(y_train, classes=[0, 1, 2])\n",
    "y_tester_binarized = label_binarize(y_tester, classes=[0, 1, 2])\n",
    "n_classes = y_train_binarized.shape[1]\n",
    "\n",
    "#Refit the model for the binary predictions \n",
    "model.fit(nn_Xtrain, Y)\n",
    "binarized_score = model.predict(testing_NN)\n",
    "#binarized_score = label_binarize(binarized_score, classes=[0, 1, 2])\n",
    "\n",
    "\n",
    "#Compute ROC curve for eac class \n",
    "fpr = dict()\n",
    "tpr = dict()\n",
    "roc_auc = dict()\n",
    "\n",
    "for i in range(n_classes):\n",
    "    fpr[i], tpr[i], _ = roc_curve(y_tester_binarized[:, i], binarized_score[:, i])\n",
    "    roc_auc[i] = auc(fpr[i], tpr[i])\n",
    "\n",
    "#Compute micro-average ROC curve and ROC area\n",
    "fpr[\"micro\"], tpr[\"micro\"], _ = roc_curve(y_tester_binarized.ravel(), binarized_score.ravel())\n",
    "roc_auc[\"micro\"] = auc(fpr[\"micro\"], tpr[\"micro\"])"
   ]
  },
  {
   "cell_type": "code",
   "execution_count": 362,
   "metadata": {},
   "outputs": [],
   "source": [
    "y_tester_binarized = label_binarize(y_tester, classes=[0, 1, 2])\n",
    "lolz_binarized = label_binarize(predz, classes=[0, 1, 2])"
   ]
  },
  {
   "cell_type": "code",
   "execution_count": 475,
   "metadata": {},
   "outputs": [],
   "source": [
    "fpr1, tpr1, thresholds1 = roc_curve(y_tester_binarized[:, 0], probabilities_test_nn[:, 0])\n",
    "fpr2, tpr2, thresholds2 = roc_curve(y_tester_binarized[:, 1], probabilities_test_nn[:, 1])\n",
    "fpr3, tpr3, thresholds3 = roc_curve(y_tester_binarized[:, 2], probabilities_test_nn[:, 2])"
   ]
  },
  {
   "cell_type": "code",
   "execution_count": null,
   "metadata": {},
   "outputs": [],
   "source": []
  },
  {
   "cell_type": "code",
   "execution_count": 477,
   "metadata": {},
   "outputs": [
    {
     "data": {
      "image/png": "[encoded data removed]",
      "text/plain": [
       "<Figure size 576x396 with 1 Axes>"
      ]
     },
     "metadata": {},
     "output_type": "display_data"
    }
   ],
   "source": [
    "\n",
    "plt.plot(fpr1, tpr1)\n",
    "plt.plot(fpr2, tpr2)\n",
    "plt.plot(fpr3, tpr3)\n",
    "plt.plot([0, 1], [0, 1], 'k--')\n",
    "plt.xlim([0.0, 1.0])\n",
    "plt.ylim([0.0, 1.05])\n",
    "plt.xlabel('False Positive Rate')\n",
    "plt.ylabel('True Positive Rate')\n",
    "plt.title(\"ROC curve for NN\")\n",
    "plt.legend((\"ROC Curve for Bearish Signal\", \"ROC Curve for Bullish Signal\", \"ROC Curve for Reversal Signal\"))\n",
    "plt.savefig('rostack.png', dpi=400)"
   ]
  },
  {
   "cell_type": "markdown",
   "metadata": {},
   "source": [
    "### Precision-Recall curve"
   ]
  },
  {
   "cell_type": "code",
   "execution_count": 481,
   "metadata": {},
   "outputs": [],
   "source": [
    "from sklearn.metrics import precision_recall_curve\n",
    "\n",
    "precision1, recall1, _ = precision_recall_curve(y_tester_binarized[:, 0], probabilities_test_stack[:, 0])\n",
    "precision2, recall2, _ = precision_recall_curve(y_tester_binarized[:, 1], probabilities_test_stack[:, 1])\n",
    "precision3, recall3, _ = precision_recall_curve(y_tester_binarized[:, 2],probabilities_test_stack[:, 2])"
   ]
  },
  {
   "cell_type": "code",
   "execution_count": 483,
   "metadata": {},
   "outputs": [
    {
     "data": {
      "image/png": "[encoded data removed]",
      "text/plain": [
       "<Figure size 576x396 with 1 Axes>"
      ]
     },
     "metadata": {},
     "output_type": "display_data"
    }
   ],
   "source": [
    "plt.step(recall1, precision1)\n",
    "plt.step(recall2, precision2)\n",
    "plt.step(recall3, precision3)\n",
    "plt.xlim([0.0, 1.0])\n",
    "plt.ylim([0.0, 1.05])\n",
    "plt.xlabel('Recall')\n",
    "plt.ylabel('Precision')\n",
    "plt.legend((\"Curve for Bearish\", \"Curve for Bullish\", \"Curve for Reversal\"))\n",
    "plt.savefig('prstack.png', dpi=400)"
   ]
  },
  {
   "cell_type": "markdown",
   "metadata": {},
   "source": [
    "## Classification Report "
   ]
  },
  {
   "cell_type": "code",
   "execution_count": 274,
   "metadata": {},
   "outputs": [
    {
     "name": "stdout",
     "output_type": "stream",
     "text": [
      "              precision    recall  f1-score   support\n",
      "\n",
      "           0       1.00      0.17      0.30       306\n",
      "           1       0.65      0.95      0.77       538\n",
      "           2       0.87      0.88      0.88       205\n",
      "\n",
      "   micro avg       0.71      0.71      0.71      1049\n",
      "   macro avg       0.84      0.67      0.65      1049\n",
      "weighted avg       0.79      0.71      0.65      1049\n",
      "\n"
     ]
    }
   ],
   "source": [
    "#Classification report for Stack \n",
    "from sklearn.metrics import classification_report\n",
    "print(classification_report(y_tester, predz))"
   ]
  },
  {
   "cell_type": "code",
   "execution_count": 178,
   "metadata": {},
   "outputs": [
    {
     "name": "stdout",
     "output_type": "stream",
     "text": [
      "              precision    recall  f1-score   support\n",
      "\n",
      "           0       1.00      1.00      1.00       306\n",
      "           1       0.80      1.00      0.89       538\n",
      "           2       1.00      0.33      0.50       205\n",
      "\n",
      "   micro avg       0.87      0.87      0.87      1049\n",
      "   macro avg       0.93      0.78      0.80      1049\n",
      "weighted avg       0.90      0.87      0.84      1049\n",
      "\n"
     ]
    }
   ],
   "source": [
    "#Classification report for NN \n",
    "print(classification_report(y_tester, lolz))"
   ]
  },
  {
   "cell_type": "markdown",
   "metadata": {},
   "source": [
    "## Confusion Matrix metrics for both the classifiers"
   ]
  },
  {
   "cell_type": "code",
   "execution_count": 73,
   "metadata": {},
   "outputs": [],
   "source": [
    "from pycm import * \n",
    "\n",
    "matrixstats_nn = ConfusionMatrix(np.array(y_tester), np.array(lolz))\n",
    "matrixstats_stack = ConfusionMatrix(np.array(y_tester), np.array(predz))"
   ]
  },
  {
   "cell_type": "code",
   "execution_count": 74,
   "metadata": {
    "scrolled": false
   },
   "outputs": [
    {
     "name": "stdout",
     "output_type": "stream",
     "text": [
      "Predict          0      1      2      \n",
      "Actual\n",
      "0                53     253    0      \n",
      "\n",
      "1                0      512    26     \n",
      "\n",
      "2                0      25     180    \n",
      "\n",
      "\n",
      "\n",
      "\n",
      "\n",
      "Overall Statistics : \n",
      "\n",
      "95% CI                                                           (0.68275,0.73765)\n",
      "AUNP                                                             0.71258\n",
      "AUNU                                                             0.73801\n",
      "Bennett S                                                        0.5653\n",
      "CBA                                                              0.56503\n",
      "Chi-Squared                                                      872.71904\n",
      "Chi-Squared DF                                                   4\n",
      "Conditional Entropy                                              0.44174\n",
      "Cramer V                                                         0.64496\n",
      "Cross Entropy                                                    1.92507\n",
      "Gwet AC1                                                         0.60527\n",
      "Hamming Loss                                                     0.2898\n",
      "Joint Entropy                                                    1.91457\n",
      "KL Divergence                                                    0.45223\n",
      "Kappa                                                            0.48309\n",
      "Kappa 95% CI                                                     (0.43413,0.53206)\n",
      "Kappa No Prevalence                                              0.4204\n",
      "Kappa Standard Error                                             0.02498\n",
      "Kappa Unbiased                                                   0.45493\n",
      "Lambda A                                                         0.40509\n",
      "Lambda B                                                         0.59846\n",
      "Mutual Information                                               0.5451\n",
      "NIR                                                              0.51287\n",
      "Overall ACC                                                      0.7102\n",
      "Overall CEN                                                      0.29272\n",
      "Overall J                                                        (1.57987,0.52662)\n",
      "Overall MCC                                                      0.5524\n",
      "Overall MCEN                                                     0.33776\n",
      "Overall RACC                                                     0.43936\n",
      "Overall RACCU                                                    0.46833\n",
      "P-Value                                                          None\n",
      "PPV Macro                                                        0.84063\n",
      "PPV Micro                                                        0.7102\n",
      "Phi-Squared                                                      0.83195\n",
      "RCI                                                              0.3701\n",
      "RR                                                               349.66667\n",
      "Reference Entropy                                                1.47283\n",
      "Response Entropy                                                 0.98684\n",
      "SOA1(Landis & Koch)                                              Moderate\n",
      "SOA2(Fleiss)                                                     Intermediate to Good\n",
      "SOA3(Altman)                                                     Moderate\n",
      "SOA4(Cicchetti)                                                  Fair\n",
      "Scott PI                                                         0.45493\n",
      "Standard Error                                                   0.01401\n",
      "TPR Macro                                                        0.66764\n",
      "TPR Micro                                                        0.7102\n",
      "Zero-one Loss                                                    304\n",
      "\n",
      "Class Statistics :\n",
      "\n",
      "Classes                                                          0                       1                       2                       \n",
      "ACC(Accuracy)                                                    0.75882                 0.7102                  0.95138                 \n",
      "AUC(Area under the roc curve)                                    0.5866                  0.70382                 0.92362                 \n",
      "AUCI(Auc value interpretation)                                   Poor                    Good                    Excellent               \n",
      "BM(Informedness or bookmaker informedness)                       0.1732                  0.40764                 0.84724                 \n",
      "CEN(Confusion entropy)                                           0.17789                 0.33735                 0.24881                 \n",
      "DOR(Diagnostic odds ratio)                                       None                    16.5047                 226.52308               \n",
      "DP(Discriminant power)                                           None                    0.6713                  1.29844                 \n",
      "DPI(Discriminant power interpretation)                           None                    Poor                    Limited                 \n",
      "ERR(Error rate)                                                  0.24118                 0.2898                  0.04862                 \n",
      "F0.5(F0.5 score)                                                 0.51158                 0.69227                 0.87464                 \n",
      "F1(F1 score - harmonic mean of precision and sensitivity)        0.29526                 0.77108                 0.87591                 \n",
      "F2(F2 score)                                                     0.20752                 0.87016                 0.87719                 \n",
      "FDR(False discovery rate)                                        0.0                     0.3519                  0.12621                 \n",
      "FN(False negative/miss/type 2 error)                             253                     26                      25                      \n",
      "FNR(Miss rate or false negative rate)                            0.8268                  0.04833                 0.12195                 \n",
      "FOR(False omission rate)                                         0.25402                 0.10039                 0.02966                 \n",
      "FP(False positive/type 1 error/false alarm)                      0                       278                     26                      \n",
      "FPR(Fall-out or false positive rate)                             0.0                     0.54403                 0.03081                 \n",
      "G(G-measure geometric mean of precision and sensitivity)         0.41618                 0.78535                 0.87592                 \n",
      "GI(Gini index)                                                   0.1732                  0.40764                 0.84724                 \n",
      "IS(Information score)                                            1.77741                 0.33763                 2.16067                 \n",
      "J(Jaccard index)                                                 0.1732                  0.62745                 0.77922                 \n",
      "LS(Lift score)                                                   3.4281                  1.26368                 4.47123                 \n",
      "MCC(Matthews correlation coefficient)                            0.35945                 0.47252                 0.84569                 \n",
      "MCEN(Modified confusion entropy)                                 0.11343                 0.41814                 0.35093                 \n",
      "MK(Markedness)                                                   0.74598                 0.54772                 0.84413                 \n",
      "N(Condition negative)                                            743                     511                     844                     \n",
      "NLR(Negative likelihood ratio)                                   0.8268                  0.10599                 0.12583                 \n",
      "NPV(Negative predictive value)                                   0.74598                 0.89961                 0.97034                 \n",
      "P(Condition positive or support)                                 306                     538                     205                     \n",
      "PLR(Positive likelihood ratio)                                   None                    1.7493                  28.50281                \n",
      "PLRI(Positive likelihood ratio interpretation)                   None                    Poor                    Good                    \n",
      "POP(Population)                                                  1049                    1049                    1049                    \n",
      "PPV(Precision or positive predictive value)                      1.0                     0.6481                  0.87379                 \n",
      "PRE(Prevalence)                                                  0.29171                 0.51287                 0.19542                 \n",
      "RACC(Random accuracy)                                            0.01474                 0.38624                 0.03838                 \n",
      "RACCU(Random accuracy unbiased)                                  0.02928                 0.40067                 0.03838                 \n",
      "TN(True negative/correct rejection)                              743                     233                     818                     \n",
      "TNR(Specificity or true negative rate)                           1.0                     0.45597                 0.96919                 \n",
      "TON(Test outcome negative)                                       996                     259                     843                     \n",
      "TOP(Test outcome positive)                                       53                      790                     206                     \n",
      "TP(True positive/hit)                                            53                      512                     180                     \n",
      "TPR(Sensitivity, recall, hit rate, or true positive rate)        0.1732                  0.95167                 0.87805                 \n",
      "Y(Youden index)                                                  0.1732                  0.40764                 0.84724                 \n",
      "dInd(Distance index)                                             0.8268                  0.54617                 0.12578                 \n",
      "sInd(Similarity index)                                           0.41537                 0.6138                  0.91106                 \n",
      "\n"
     ]
    }
   ],
   "source": [
    "print(matrixstats_stack)"
   ]
  },
  {
   "cell_type": "code",
   "execution_count": 75,
   "metadata": {
    "scrolled": false
   },
   "outputs": [
    {
     "name": "stdout",
     "output_type": "stream",
     "text": [
      "Predict          0      1      2      \n",
      "Actual\n",
      "0                306    0      0      \n",
      "\n",
      "1                0      538    0      \n",
      "\n",
      "2                0      137    68     \n",
      "\n",
      "\n",
      "\n",
      "\n",
      "\n",
      "Overall Statistics : \n",
      "\n",
      "95% CI                                                           (0.84901,0.88979)\n",
      "AUNP                                                             0.86595\n",
      "AUNU                                                             0.84393\n",
      "Bennett S                                                        0.8041\n",
      "CBA                                                              0.70958\n",
      "Chi-Squared                                                      1326.33779\n",
      "Chi-Squared DF                                                   4\n",
      "Conditional Entropy                                              0.17914\n",
      "Cramer V                                                         0.7951\n",
      "Cross Entropy                                                    1.6161\n",
      "Gwet AC1                                                         0.81814\n",
      "Hamming Loss                                                     0.1306\n",
      "Joint Entropy                                                    1.65197\n",
      "KL Divergence                                                    0.14327\n",
      "Kappa                                                            0.77177\n",
      "Kappa 95% CI                                                     (0.73613,0.8074)\n",
      "Kappa No Prevalence                                              0.7388\n",
      "Kappa Standard Error                                             0.01818\n",
      "Kappa Unbiased                                                   0.76831\n",
      "Lambda A                                                         0.7319\n",
      "Lambda B                                                         0.81818\n",
      "Mutual Information                                               1.00451\n",
      "NIR                                                              0.51287\n",
      "Overall ACC                                                      0.8694\n",
      "Overall CEN                                                      0.13521\n",
      "Overall J                                                        (2.12874,0.70958)\n",
      "Overall MCC                                                      0.79993\n",
      "Overall MCEN                                                     0.16647\n",
      "Overall RACC                                                     0.42778\n",
      "Overall RACCU                                                    0.43631\n",
      "P-Value                                                          None\n",
      "PPV Macro                                                        0.93235\n",
      "PPV Micro                                                        0.8694\n",
      "Phi-Squared                                                      1.26438\n",
      "RCI                                                              0.68202\n",
      "RR                                                               349.66667\n",
      "Reference Entropy                                                1.47283\n",
      "Response Entropy                                                 1.18365\n",
      "SOA1(Landis & Koch)                                              Substantial\n",
      "SOA2(Fleiss)                                                     Excellent\n",
      "SOA3(Altman)                                                     Good\n",
      "SOA4(Cicchetti)                                                  Excellent\n",
      "Scott PI                                                         0.76831\n",
      "Standard Error                                                   0.0104\n",
      "TPR Macro                                                        0.77724\n",
      "TPR Micro                                                        0.8694\n",
      "Zero-one Loss                                                    137\n",
      "\n",
      "Class Statistics :\n",
      "\n",
      "Classes                                                          0                       1                       2                       \n",
      "ACC(Accuracy)                                                    1.0                     0.8694                  0.8694                  \n",
      "AUC(Area under the roc curve)                                    1.0                     0.86595                 0.66585                 \n",
      "AUCI(Auc value interpretation)                                   Excellent               Very Good               Fair                    \n",
      "BM(Informedness or bookmaker informedness)                       1.0                     0.7319                  0.33171                 \n",
      "CEN(Confusion entropy)                                           0                       0.17768                 0.24959                 \n",
      "DOR(Diagnostic odds ratio)                                       None                    None                    None                    \n",
      "DP(Discriminant power)                                           None                    None                    None                    \n",
      "DPI(Discriminant power interpretation)                           None                    None                    None                    \n",
      "ERR(Error rate)                                                  0.0                     0.1306                  0.1306                  \n",
      "F0.5(F0.5 score)                                                 1.0                     0.83076                 0.71279                 \n",
      "F1(F1 score - harmonic mean of precision and sensitivity)        1.0                     0.88706                 0.49817                 \n",
      "F2(F2 score)                                                     1.0                     0.95154                 0.38288                 \n",
      "FDR(False discovery rate)                                        0.0                     0.20296                 0.0                     \n",
      "FN(False negative/miss/type 2 error)                             0                       0                       137                     \n",
      "FNR(Miss rate or false negative rate)                            0.0                     0.0                     0.66829                 \n",
      "FOR(False omission rate)                                         0.0                     0.0                     0.13965                 \n",
      "FP(False positive/type 1 error/false alarm)                      0                       137                     0                       \n",
      "FPR(Fall-out or false positive rate)                             0.0                     0.2681                  0.0                     \n",
      "G(G-measure geometric mean of precision and sensitivity)         1.0                     0.89277                 0.57594                 \n",
      "GI(Gini index)                                                   1.0                     0.7319                  0.33171                 \n",
      "IS(Information score)                                            1.77741                 0.63606                 2.35532                 \n",
      "J(Jaccard index)                                                 1.0                     0.79704                 0.33171                 \n",
      "LS(Lift score)                                                   3.4281                  1.55407                 5.11707                 \n",
      "MCC(Matthews correlation coefficient)                            1.0                     0.76377                 0.53421                 \n",
      "MCEN(Modified confusion entropy)                                 0                       0.23348                 0.19429                 \n",
      "MK(Markedness)                                                   1.0                     0.79704                 0.86035                 \n",
      "N(Condition negative)                                            743                     511                     844                     \n",
      "NLR(Negative likelihood ratio)                                   0.0                     0.0                     0.66829                 \n",
      "NPV(Negative predictive value)                                   1.0                     1.0                     0.86035                 \n",
      "P(Condition positive or support)                                 306                     538                     205                     \n",
      "PLR(Positive likelihood ratio)                                   None                    3.72993                 None                    \n",
      "PLRI(Positive likelihood ratio interpretation)                   None                    Poor                    None                    \n",
      "POP(Population)                                                  1049                    1049                    1049                    \n",
      "PPV(Precision or positive predictive value)                      1.0                     0.79704                 1.0                     \n",
      "PRE(Prevalence)                                                  0.29171                 0.51287                 0.19542                 \n",
      "RACC(Random accuracy)                                            0.08509                 0.33002                 0.01267                 \n",
      "RACCU(Random accuracy unbiased)                                  0.08509                 0.33428                 0.01693                 \n",
      "TN(True negative/correct rejection)                              743                     374                     844                     \n",
      "TNR(Specificity or true negative rate)                           1.0                     0.7319                  1.0                     \n",
      "TON(Test outcome negative)                                       743                     374                     981                     \n",
      "TOP(Test outcome positive)                                       306                     675                     68                      \n",
      "TP(True positive/hit)                                            306                     538                     68                      \n",
      "TPR(Sensitivity, recall, hit rate, or true positive rate)        1.0                     1.0                     0.33171                 \n",
      "Y(Youden index)                                                  1.0                     0.7319                  0.33171                 \n",
      "dInd(Distance index)                                             0.0                     0.2681                  0.66829                 \n",
      "sInd(Similarity index)                                           1.0                     0.81042                 0.52745                 \n",
      "\n"
     ]
    }
   ],
   "source": [
    "print(matrixstats_nn)"
   ]
  }
 ],
 "metadata": {
  "kernelspec": {
   "display_name": "Python 3",
   "language": "python",
   "name": "python3"
  },
  "language_info": {
   "codemirror_mode": {
    "name": "ipython",
    "version": 3
   },
   "file_extension": ".py",
   "mimetype": "text/x-python",
   "name": "python",
   "nbconvert_exporter": "python",
   "pygments_lexer": "ipython3",
   "version": "3.6.8"
  }
 },
 "nbformat": 4,
 "nbformat_minor": 2
}
