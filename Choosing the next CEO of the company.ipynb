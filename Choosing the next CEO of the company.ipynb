{
 "cells": [
  {
   "cell_type": "markdown",
   "metadata": {},
   "source": [
    "# Analytic Hierarchy Process Case study #1: Choosing the next CEO of the company"
   ]
  },
  {
   "cell_type": "markdown",
   "metadata": {},
   "source": [
    "This is the first Analytic Hierarchy Process case study which has been done to determine who is supposed to be the next contender of the company as a CEO.\n",
    "\n",
    "The contenders are to be chosen between three individuals, Tom, Dick and Harry\n",
    "\n",
    "Case study scenario taken from Wikipedia with analytics done using the help of Python.\n",
    "\n",
    "github = user/clutchkingasiimov"
   ]
  },
  {
   "cell_type": "markdown",
   "metadata": {},
   "source": [
    "# Decision Scenario\n",
    "\n",
    "The company, founded in 1960, makes specialized industrial equipment. Its future success will depend on maintaining the strength of its older product lines and on generating a constant flow of new ones. The company's founder is retiring soon, and a consulting firm has developed a detailed plan for continuing its success in his absence. The plan will take five years to implement, and will replace the founder's highly subjective \"seat of the pants\" style with a more carefully thought out way of doing business.\n",
    "\n",
    "The board of directors needs to choose someone to lead the company through the change and upheaval that implementing the consultant's plan will involve. In doing this work, the new leader will be required to make many unpopular decisions and take many unpopular actions. He or she will be expected to “clear the air” by stepping aside after the plan is fully implemented.\n",
    "\n",
    "Six months ago, the board said:\n",
    "\n",
    "After much thought and discussion, we have identified four criteria to be used in choosing the person to guide us through the upcoming period of change: experience, education, charisma and age. Experience is important because the job requires skills and knowledge that can only be developed through practical application. And though our beloved founder was a self-made man who didn’t finish high school, the times demand that our new leader have an appropriate university education. Since the new leader will have to keep us all motivated during a difficult period of change, we prefer someone with an active, charismatic leadership style. Finally, the new leader's Age is important because he or she will need to have an appropriate career path after stepping down five years from now. — Board of directors, letter to employees and shareholders\n",
    "\n",
    "Last week, they said:\n",
    "\n",
    "After an extensive search, we have selected three candidates for this very challenging position. All are presently executives with the company. Choosing among them will be difficult, but we plan to announce our decision shortly. — Board of directors, followup letter to employees and shareholders\n"
   ]
  },
  {
   "cell_type": "markdown",
   "metadata": {},
   "source": [
    "# Decision Hierarchy"
   ]
  },
  {
   "cell_type": "markdown",
   "metadata": {},
   "source": [
    "### The AHP hierarchy for this decision is as follows\n",
    "\n",
    "##### Goal: Choose the Most Suitable Leader\n",
    "##### Criteria: Experience, Education, Charisma, Age\n",
    "##### Alternatives: Tom, Dick, Harry\n",
    "\n",
    "As the decision makers continue with the AHP, they will determine priorities for the candidates with respect to each of the decision criteria, and priorities for each of the criteria with respect to their importance in reaching the goal.\n",
    "\n",
    "The priorities will then be combined throughout the hierarchy to give an overall priority for each candidate. The candidate with the highest priority will be the most suitable Alternative, and the ratios of the candidates' priorities will indicate their relative strengths with respect to the Goal."
   ]
  },
  {
   "cell_type": "markdown",
   "metadata": {},
   "source": [
    "# Importing Dependencies needed for AHP"
   ]
  },
  {
   "cell_type": "code",
   "execution_count": 119,
   "metadata": {},
   "outputs": [],
   "source": [
    "import numpy as np\n",
    "import scipy \n",
    "from numpy import linalg"
   ]
  },
  {
   "cell_type": "markdown",
   "metadata": {},
   "source": [
    "# Step 1 : Pairwise Comparisons"
   ]
  },
  {
   "cell_type": "markdown",
   "metadata": {},
   "source": [
    "The priorities will be derived from a series of measurements: pairwise comparisons involving all the nodes.\n",
    "\n",
    "The nodes at each level will be compared, two by two, with respect to their contribution to the nodes above them. The results of these comparisons will be entered into a matrix which is processed mathematically to derive the priorities for all the nodes on the level.\n",
    "\n",
    "The comparisons can be made in any sequence, but in this example we will begin by comparing the Alternatives with respect to their strengths in meeting each of the Criteria. Then we'll compare the Criteria with respect to their importance to reaching the Goal.\n",
    "\n",
    "Since there are three alternatives (Tom, Dick, and Harry) and we need to compare each one to each of the others, the decision makers (the Board) will make three pairwise comparisons with respect to each Criterion: Tom vs. Dick, Tom vs. Harry, and Dick vs. Harry. For each comparison, the Board will first judge which member of the pair is weaker with respect to the Criterion under consideration. Then they will assign a relative weight to the other candidate."
   ]
  },
  {
   "cell_type": "markdown",
   "metadata": {},
   "source": [
    "### Alternatives vs Criteria no.1\n",
    "###### Experience"
   ]
  },
  {
   "cell_type": "markdown",
   "metadata": {},
   "source": [
    "Using their knowledge of the work the leaders will be required to do, the board needs to evaluate the candidates' strengths with respect to experience. Though they have good information about each candidate's work history, there is no such thing as an objective scale for measuring \"experience.\" Thanks to the AHP, the Board will be able to develop a scale, applying only to this one case, that measures the candidates' relative strengths with respect to experience.\n",
    "\n",
    "\n",
    "###### Alternatives compared with respect to Experience\n",
    "* Tom [0], Dick [4] (Dick is favoured more)\n",
    "* Tom = [4], Harry = [1] (Tom is favoured more)\n",
    "* Dick = [9], Harry = [1] (Dick is favoured more)\n",
    "\n",
    "The next step is to transfer the weights to a matrix, using a method unique to the AHP. For each pairwise comparison, the number representing the greater weight is transferred to the box of the corresponding color; the reciprocal of that number is put into the box of the color corresponding to the smaller number:"
   ]
  },
  {
   "cell_type": "code",
   "execution_count": 120,
   "metadata": {},
   "outputs": [
    {
     "data": {
      "text/plain": [
       "array([[1.        , 0.25      , 4.        ],\n",
       "       [4.        , 1.        , 9.        ],\n",
       "       [0.25      , 0.11111111, 1.        ]])"
      ]
     },
     "execution_count": 120,
     "metadata": {},
     "output_type": "execute_result"
    }
   ],
   "source": [
    "#First step is to construct a pairwise matrix of the scales\n",
    "#they have been assigned\n",
    "pairwise_matrix = np.array([[1, 1/4, 4],[4, 1, 9], [1/4, 1/9, 1]])\n",
    "pairwise_matrix"
   ]
  },
  {
   "cell_type": "code",
   "execution_count": 138,
   "metadata": {},
   "outputs": [
    {
     "data": {
      "text/plain": [
       "array([ 5.25      ,  1.36111111, 14.        ])"
      ]
     },
     "execution_count": 138,
     "metadata": {},
     "output_type": "execute_result"
    }
   ],
   "source": [
    "#Next, find the column total of each row in the matrix and then divide\n",
    "#each row with its corresponding total to obtain a normalized matrix\n",
    "column_sum = np.sum(pairwise_matrix, axis=0)\n",
    "column_sum"
   ]
  },
  {
   "cell_type": "code",
   "execution_count": 172,
   "metadata": {},
   "outputs": [
    {
     "name": "stdout",
     "output_type": "stream",
     "text": [
      "Column 1 \n",
      " [1.   4.   0.25]\n",
      "Column 2\n",
      " [0.25       1.         0.11111111]\n",
      "Column 3 \n",
      " [4. 9. 1.]\n"
     ]
    }
   ],
   "source": [
    "#Extract specific elements of the column and then divide them\n",
    "#to get the normalized matrix\n",
    "indices1 = [0, 3, 6]\n",
    "indices2 = [1, 4, 7]\n",
    "indices3 = [2, 5, 8]\n",
    "\n",
    "column1 = np.take(pairwise_matrix, indices1)\n",
    "column2 = np.take(pairwise_matrix, indices2)\n",
    "column3 = np.take(pairwise_matrix, indices3)\n",
    "print(\"Column 1 \\n\", column1)\n",
    "print(\"Column 2\\n\", column2)\n",
    "print(\"Column 3 \\n\",column3)"
   ]
  },
  {
   "cell_type": "code",
   "execution_count": 198,
   "metadata": {},
   "outputs": [
    {
     "data": {
      "text/plain": [
       "array([[0.19047619, 0.18367347, 0.28571429],\n",
       "       [0.76190476, 0.73469388, 0.64285714],\n",
       "       [0.04761905, 0.08163265, 0.07142857]])"
      ]
     },
     "execution_count": 198,
     "metadata": {},
     "output_type": "execute_result"
    }
   ],
   "source": [
    "#Divide each row element with its row total\n",
    "norm_matrix = np.array([[column1 / 5.25], [column2 / 1.36111111], [column3 / 14]])\n",
    "norm_matrix = norm_matrix.T #Tranposing to switch its R&C back properly\n",
    "norm_matrix = norm_matrix.reshape(3,3)\n",
    "norm_matrix"
   ]
  },
  {
   "cell_type": "code",
   "execution_count": 278,
   "metadata": {},
   "outputs": [
    {
     "name": "stdout",
     "output_type": "stream",
     "text": [
      "Principal Eigenvector of Experience \n",
      " [[0.21995465]\n",
      " [0.71315193]\n",
      " [0.06689342]]\n",
      "\n",
      "Highest priority for experience gets awarded to Dick of 0.717\n"
     ]
    }
   ],
   "source": [
    "#Lastly, find the Principal Right Eigenvector\n",
    "row_sum = np.sum(norm_matrix, axis=1)\n",
    "output1 = row_sum.reshape(3,1) * 1/3\n",
    "print(\"Principal Eigenvector of Experience \\n\",output1)\n",
    "print(\"\\nHighest priority for experience gets awarded to Dick of 0.717\")"
   ]
  },
  {
   "cell_type": "markdown",
   "metadata": {},
   "source": [
    "##### In terms of Experience, Dick gets awared the highest priority"
   ]
  },
  {
   "cell_type": "markdown",
   "metadata": {},
   "source": [
    "### Alternatives vs Criteria no.2\n",
    "###### Education\n",
    "\n",
    "As they did previously with Experience, the Board now compares pairs of candidates with respect to Education. For each comparison, the Board decides which candidate is the weaker with respect to Education, giving his education a weight of 1. Then, using the AHP Fundamental Scale, they assign a weight to the education of the other candidate. For the sake of our example, we again provide a table summarizing their deliberations:\n",
    "\n",
    "* Tom [3] Dick [1] (Tom gets favoured)\n",
    "* Tom [1] Harry [5] (Harry gets favoured)\n",
    "* Dick [1] Harry [7] (Harry gets favoured)\n",
    "\n",
    "The next step is to transfer the weights to a matrix, using a method unique to the AHP. For each pairwise comparison, the number representing the greater weight is transferred to the box of the corresponding color; the reciprocal of that number is put into the box of the color corresponding to the smaller number"
   ]
  },
  {
   "cell_type": "code",
   "execution_count": 199,
   "metadata": {},
   "outputs": [
    {
     "data": {
      "text/plain": [
       "array([[1.        , 3.        , 0.2       ],\n",
       "       [0.33333333, 1.        , 0.14285714],\n",
       "       [5.        , 7.        , 1.        ]])"
      ]
     },
     "execution_count": 199,
     "metadata": {},
     "output_type": "execute_result"
    }
   ],
   "source": [
    "#Comparison matrix of Education \n",
    "pairwise_matrix2 = np.array([[1, 3, 1/5], [1/3, 1, 1/7],[5 , 7,1]])\n",
    "pairwise_matrix2"
   ]
  },
  {
   "cell_type": "code",
   "execution_count": 200,
   "metadata": {},
   "outputs": [
    {
     "data": {
      "text/plain": [
       "array([ 6.33333333, 11.        ,  1.34285714])"
      ]
     },
     "execution_count": 200,
     "metadata": {},
     "output_type": "execute_result"
    }
   ],
   "source": [
    "#Column total of each column\n",
    "column_sum2 = np.sum(pairwise_matrix2, axis=0)\n",
    "column_sum2"
   ]
  },
  {
   "cell_type": "code",
   "execution_count": 241,
   "metadata": {},
   "outputs": [],
   "source": [
    "#Normalizing the matrix\n",
    "\n",
    "column11 = np.take(pairwise_matrix2, indices1)\n",
    "column12 = np.take(pairwise_matrix2, indices2)\n",
    "column13 = np.take(pairwise_matrix2, indices3)"
   ]
  },
  {
   "cell_type": "code",
   "execution_count": 242,
   "metadata": {},
   "outputs": [
    {
     "data": {
      "text/plain": [
       "array([[0.15789474, 0.27272727, 0.14893617],\n",
       "       [0.05263158, 0.09090909, 0.10638298],\n",
       "       [0.78947368, 0.63636364, 0.74468085]])"
      ]
     },
     "execution_count": 242,
     "metadata": {},
     "output_type": "execute_result"
    }
   ],
   "source": [
    "#Normalized matrix\n",
    "norm_matrix2 = np.array([[column11 / 6.33333333], [column12 / 11], [column13 / 1.34285714]]).T.reshape(3, 3)\n",
    "norm_matrix2"
   ]
  },
  {
   "cell_type": "code",
   "execution_count": 279,
   "metadata": {},
   "outputs": [
    {
     "name": "stdout",
     "output_type": "stream",
     "text": [
      "Principal Eigenvector of Education\n",
      " [[0.19318606]\n",
      " [0.08330788]\n",
      " [0.72350606]]\n",
      "\n",
      "Highest priority for education goes to Harry with 0.723\n"
     ]
    }
   ],
   "source": [
    "#Principal eigenvector of norm_matrix2\n",
    "row_sum2 = np.sum(norm_matrix2, axis=1)\n",
    "output2 = row_sum2.reshape(3,1) * 1/3\n",
    "print(\"Principal Eigenvector of Education\\n\", output2)\n",
    "print(\"\\nHighest priority for education goes to Harry with 0.723\")"
   ]
  },
  {
   "cell_type": "markdown",
   "metadata": {},
   "source": [
    "###### In terms of Education, Harry gets the highest priority"
   ]
  },
  {
   "cell_type": "markdown",
   "metadata": {},
   "source": [
    "### Alternatives vs Criteria no.3\n",
    "###### Charisma\n",
    "\n",
    "* Tom [5] Dick [1] (Tom gets favoured more)\n",
    "* Tom [9] Harry [1] (Tom get favoured more)\n",
    "* Dick[4] Harry [1] (Dick gets favoured more)"
   ]
  },
  {
   "cell_type": "code",
   "execution_count": 210,
   "metadata": {},
   "outputs": [
    {
     "data": {
      "text/plain": [
       "array([[1.        , 5.        , 9.        ],\n",
       "       [0.2       , 1.        , 4.        ],\n",
       "       [0.11111111, 0.25      , 1.        ]])"
      ]
     },
     "execution_count": 210,
     "metadata": {},
     "output_type": "execute_result"
    }
   ],
   "source": [
    "#Comparison matrix of Charisma\n",
    "pairwise_matrix3 = np.array([[1,5,9],[1/5,1,4],[1/9,1/4,1]])\n",
    "pairwise_matrix3"
   ]
  },
  {
   "cell_type": "code",
   "execution_count": 211,
   "metadata": {},
   "outputs": [
    {
     "data": {
      "text/plain": [
       "array([ 1.31111111,  6.25      , 14.        ])"
      ]
     },
     "execution_count": 211,
     "metadata": {},
     "output_type": "execute_result"
    }
   ],
   "source": [
    "#Column totals\n",
    "column_sum3 = np.sum(pairwise_matrix3,axis=0)\n",
    "column_sum3"
   ]
  },
  {
   "cell_type": "code",
   "execution_count": 224,
   "metadata": {},
   "outputs": [
    {
     "data": {
      "text/plain": [
       "array([1.        , 0.2       , 0.11111111])"
      ]
     },
     "execution_count": 224,
     "metadata": {},
     "output_type": "execute_result"
    }
   ],
   "source": [
    "#Normalizing the matrix\n",
    "\n",
    "column21 = np.take(pairwise_matrix3, indices1)\n",
    "column22 = np.take(pairwise_matrix3, indices2)\n",
    "column23 = np.take(pairwise_matrix3, indices3)\n",
    "column21"
   ]
  },
  {
   "cell_type": "code",
   "execution_count": 228,
   "metadata": {},
   "outputs": [
    {
     "data": {
      "text/plain": [
       "array([[0.76271187, 0.8       , 0.64285714],\n",
       "       [0.15254237, 0.16      , 0.28571429],\n",
       "       [0.08474576, 0.04      , 0.07142857]])"
      ]
     },
     "execution_count": 228,
     "metadata": {},
     "output_type": "execute_result"
    }
   ],
   "source": [
    "#Normalized matrix \n",
    "norm_matrix3 = np.array([[column21 / 1.31111111],[column22 / 6.25], [column23 / 14.0]]).T.reshape(3, 3)\n",
    "norm_matrix3"
   ]
  },
  {
   "cell_type": "code",
   "execution_count": 284,
   "metadata": {},
   "outputs": [
    {
     "name": "stdout",
     "output_type": "stream",
     "text": [
      "Principal Eigenvector for Charisma\n",
      " [[0.73518967]\n",
      " [0.19941889]\n",
      " [0.06539144]]\n"
     ]
    }
   ],
   "source": [
    "#Principal Eigenvector for Charisma\n",
    "row_sum3 = np.sum(norm_matrix3, axis=1)\n",
    "output3 = row_sum3.reshape(3,1) * 1/3\n",
    "print(\"Principal Eigenvector for Charisma\\n\", output3)"
   ]
  },
  {
   "cell_type": "markdown",
   "metadata": {},
   "source": [
    "##### In terms of Charisma, Tom gets the highest priority.\n",
    "Note that even though \"charisma\" is a highly subjective concept with no imaginable measurement scale, the AHP has allowed the board to measure its relative strength among these three candidates. Also note that with different candidates, or even with different board members, the measurements would likely be different as well. The AHP's measurements apply only to the specific case at hand."
   ]
  },
  {
   "cell_type": "markdown",
   "metadata": {},
   "source": [
    "### Alternatives vs Criteria no.4\n",
    "###### Age\n",
    "\n",
    "A person's age can be determined with a precision of days or even minutes. But such measurements aren't highly useful in making the decision at hand, since there is more to \"Age\" in this context than mere chronology.\n",
    "\n",
    "Also, there are U.S. laws against employment discrimination by age. Anyone using age as a decision factor must be very explicit about their reasons and justifications. In this case, it wouldn't be good if an unsuccessful candidate decided to sue the company on the basis of age discrimination.\n",
    "\n",
    "Tom, Dick, and Harry are now 50, 60, and 30 years old respectively. Here's a summary of the Board's evaluation of them with respect to Age:\n",
    "\n",
    "* Tom [1] Dick [3] (Dick is preferred more)\n",
    "* Tom [5] Harry [1] (Tom is preferred more)\n",
    "* Dick [9] Harry [1] (Harry is preferred more)"
   ]
  },
  {
   "cell_type": "code",
   "execution_count": 236,
   "metadata": {},
   "outputs": [
    {
     "data": {
      "text/plain": [
       "array([[1.        , 0.33333333, 5.        ],\n",
       "       [3.        , 1.        , 9.        ],\n",
       "       [0.2       , 0.11111111, 1.        ]])"
      ]
     },
     "execution_count": 236,
     "metadata": {},
     "output_type": "execute_result"
    }
   ],
   "source": [
    "#Comparison matrix of age\n",
    "pairwise_matrix4 = np.array([[1,1/3,5], [3,1,9],[1/5,1/9,1]])\n",
    "pairwise_matrix4"
   ]
  },
  {
   "cell_type": "code",
   "execution_count": 239,
   "metadata": {},
   "outputs": [
    {
     "data": {
      "text/plain": [
       "array([ 4.2       ,  1.44444444, 15.        ])"
      ]
     },
     "execution_count": 239,
     "metadata": {},
     "output_type": "execute_result"
    }
   ],
   "source": [
    "#Column total of the matrix\n",
    "column_sum4 = np.sum(pairwise_matrix4, axis=0)\n",
    "column_sum4"
   ]
  },
  {
   "cell_type": "code",
   "execution_count": 248,
   "metadata": {},
   "outputs": [],
   "source": [
    "#Normalizing the matrix\n",
    "column31 = np.take(pairwise_matrix4, indices1)\n",
    "column32 = np.take(pairwise_matrix4, indices2)\n",
    "column33 = np.take(pairwise_matrix4, indices3)"
   ]
  },
  {
   "cell_type": "code",
   "execution_count": 253,
   "metadata": {},
   "outputs": [
    {
     "data": {
      "text/plain": [
       "array([[0.23809524, 0.23076923, 0.33333333],\n",
       "       [0.71428571, 0.69230769, 0.6       ],\n",
       "       [0.04761905, 0.07692308, 0.06666667]])"
      ]
     },
     "execution_count": 253,
     "metadata": {},
     "output_type": "execute_result"
    }
   ],
   "source": [
    "#Normalized matrix\n",
    "norm_matrix4 = np.array([[column31 / 4.2],[column32/1.44444444],[column33/15]]).T.reshape(3,3)\n",
    "norm_matrix4"
   ]
  },
  {
   "cell_type": "code",
   "execution_count": 287,
   "metadata": {},
   "outputs": [
    {
     "name": "stdout",
     "output_type": "stream",
     "text": [
      "Principal Eigenvector of Age\n",
      " [[0.26739927]\n",
      " [0.66886447]\n",
      " [0.06373626]]\n",
      "\n",
      "Dick gets the highest priority for Age by 0.668\n"
     ]
    }
   ],
   "source": [
    "#Principal eigenvector of Age\n",
    "row_sum4 = np.sum(norm_matrix4, axis=1)\n",
    "output4 = row_sum4.reshape(3,1) * 1/3\n",
    "print(\"Principal Eigenvector of Age\\n\", output4)\n",
    "print(\"\\nDick gets the highest priority for Age by 0.668\")"
   ]
  },
  {
   "cell_type": "markdown",
   "metadata": {},
   "source": [
    "## Criteria vs. the Goal\n",
    "Now that the decision makers have evaluated the Alternatives (candidates) with respect to their strength in meeting the Criteria, they need to evaluate the Criteria with respect to their importance in reaching the goal.\n",
    "\n",
    "Once again they do this by a series of pairwise comparisons. As with the Alternatives, this part of the process requires much discussion and debate among the decision makers.\n",
    "\n",
    "In this case, the Board agrees on these relative weights for the various pairs of Criteria:\n",
    "\n",
    "* Experience[4] Education[1] \n",
    "* Experience[3] Charisma[1]\n",
    "* Experience[7] Age[1]\n",
    "* Education[1] Charisma[3]\n",
    "* Education[3] Age[1]\n",
    "* Age[1] Charisma[5]"
   ]
  },
  {
   "cell_type": "code",
   "execution_count": 260,
   "metadata": {},
   "outputs": [
    {
     "data": {
      "text/plain": [
       "array([[1.        , 4.        , 3.        , 7.        ],\n",
       "       [0.25      , 1.        , 0.33333333, 3.        ],\n",
       "       [0.33333333, 3.        , 1.        , 5.        ],\n",
       "       [0.14285714, 0.33333333, 0.2       , 1.        ]])"
      ]
     },
     "execution_count": 260,
     "metadata": {},
     "output_type": "execute_result"
    }
   ],
   "source": [
    "#Comparison matrix of Criteria vs Goal\n",
    "criteria_matrix = np.array([[1,4,3,7],[1/4,1,1/3,3],[1/3,3,1,5],[1/7,1/3,1/5,1]])\n",
    "criteria_matrix"
   ]
  },
  {
   "cell_type": "code",
   "execution_count": 263,
   "metadata": {},
   "outputs": [
    {
     "data": {
      "text/plain": [
       "array([ 1.72619048,  8.33333333,  4.53333333, 16.        ])"
      ]
     },
     "execution_count": 263,
     "metadata": {},
     "output_type": "execute_result"
    }
   ],
   "source": [
    "#Sum of columns\n",
    "criteria_sum = np.sum(criteria_matrix, axis=0)\n",
    "criteria_sum"
   ]
  },
  {
   "cell_type": "code",
   "execution_count": 268,
   "metadata": {},
   "outputs": [],
   "source": [
    "#Normalizing the matrix\n",
    "indices11 = [0,4,8,12]\n",
    "indices12 = [1,5,9,13]\n",
    "indices13 = [2,6,10,14]\n",
    "indices14 = [3,7,11,15]\n",
    "\n",
    "column41 = np.take(criteria_matrix, indices11)\n",
    "column42 = np.take(criteria_matrix, indices12)\n",
    "column43 = np.take(criteria_matrix, indices13)\n",
    "column44 = np.take(criteria_matrix, indices14)"
   ]
  },
  {
   "cell_type": "code",
   "execution_count": 273,
   "metadata": {},
   "outputs": [
    {
     "data": {
      "text/plain": [
       "array([[0.57931034, 0.48      , 0.66176471, 0.4375    ],\n",
       "       [0.14482759, 0.12      , 0.07352941, 0.1875    ],\n",
       "       [0.19310345, 0.36      , 0.22058824, 0.3125    ],\n",
       "       [0.08275862, 0.04      , 0.04411765, 0.0625    ]])"
      ]
     },
     "execution_count": 273,
     "metadata": {},
     "output_type": "execute_result"
    }
   ],
   "source": [
    "#Normalized matrix \n",
    "norm_criteria = np.array([[column41/1.72619048], [column42/8.33333333],[column43/4.53333333],[column44/16]]).T.reshape(4,4)\n",
    "norm_criteria"
   ]
  },
  {
   "cell_type": "code",
   "execution_count": 276,
   "metadata": {},
   "outputs": [
    {
     "name": "stdout",
     "output_type": "stream",
     "text": [
      "Principal Eigenvector of Criteria VS Goal\n",
      " [[0.53964376]\n",
      " [0.13146425]\n",
      " [0.27154792]\n",
      " [0.05734407]]\n",
      "\n",
      "Experience gets the highest priority of 0.539\n"
     ]
    }
   ],
   "source": [
    "#Principal Eigenvector of Criteria VS Goal\n",
    "row_sumcriteria = np.sum(norm_criteria, axis=1)\n",
    "print(\"Principal Eigenvector of Criteria VS Goal\\n\", row_sumcriteria.reshape(4, 1) * 1/4)\n",
    "print(\"\\nExperience gets the highest priority of 0.539\")"
   ]
  },
  {
   "cell_type": "markdown",
   "metadata": {},
   "source": [
    "Note that, in this decision, Experience, the highest ranked Criterion, is about twice as important in reaching the goal as the second-highest ranked Criterion, Charisma. Similarly, Charisma is about twice as important as Education, which in turn is more than twice as important as Age."
   ]
  },
  {
   "cell_type": "markdown",
   "metadata": {},
   "source": [
    "## Synthesizing Final Priorities"
   ]
  },
  {
   "cell_type": "markdown",
   "metadata": {},
   "source": [
    "Now that we know the priorities of the Criteria with respect to the Goal, and the priorities of the Alternatives with respect to the Criteria, we can calculate the priorities of the Alternatives with respect to the Goal. This is a straightforward matter of multiplying and adding, carried out over the whole of the hierarchy"
   ]
  },
  {
   "cell_type": "markdown",
   "metadata": {},
   "source": [
    "##### Criterion VS Goal for Experience"
   ]
  },
  {
   "cell_type": "code",
   "execution_count": 290,
   "metadata": {},
   "outputs": [
    {
     "data": {
      "text/plain": [
       "array([[0.11877551],\n",
       "       [0.38510204],\n",
       "       [0.03612245]])"
      ]
     },
     "execution_count": 290,
     "metadata": {},
     "output_type": "execute_result"
    }
   ],
   "source": [
    "#Experience Priority for the individuals\n",
    "experience_criterion = output1 * 0.54\n",
    "experience_criterion"
   ]
  },
  {
   "cell_type": "code",
   "execution_count": 293,
   "metadata": {},
   "outputs": [
    {
     "data": {
      "text/plain": [
       "array([[0.02530737],\n",
       "       [0.01091333],\n",
       "       [0.09477929]])"
      ]
     },
     "execution_count": 293,
     "metadata": {},
     "output_type": "execute_result"
    }
   ],
   "source": [
    "#Education Priority for the individuals\n",
    "education_criterion = output2 * 0.131\n",
    "education_criterion"
   ]
  },
  {
   "cell_type": "code",
   "execution_count": 296,
   "metadata": {},
   "outputs": [
    {
     "data": {
      "text/plain": [
       "array([[0.1992364 ],\n",
       "       [0.05404252],\n",
       "       [0.01772108]])"
      ]
     },
     "execution_count": 296,
     "metadata": {},
     "output_type": "execute_result"
    }
   ],
   "source": [
    "#Charisma Priority for the indivuals\n",
    "charisma_criterion = output3 * 0.271\n",
    "charisma_criterion"
   ]
  },
  {
   "cell_type": "code",
   "execution_count": 299,
   "metadata": {},
   "outputs": [
    {
     "data": {
      "text/plain": [
       "array([[0.01524176],\n",
       "       [0.03812527],\n",
       "       [0.00363297]])"
      ]
     },
     "execution_count": 299,
     "metadata": {},
     "output_type": "execute_result"
    }
   ],
   "source": [
    "#Age Priority for the indivuals\n",
    "age_criterion = output4 * 0.057\n",
    "age_criterion"
   ]
  },
  {
   "cell_type": "code",
   "execution_count": 301,
   "metadata": {},
   "outputs": [
    {
     "data": {
      "text/plain": [
       "array([[0.35856104],\n",
       "       [0.48818317],\n",
       "       [0.15225579]])"
      ]
     },
     "execution_count": 301,
     "metadata": {},
     "output_type": "execute_result"
    }
   ],
   "source": [
    "final_decision_vector = experience_criterion + education_criterion + charisma_criterion + age_criterion\n",
    "final_decision_vector"
   ]
  },
  {
   "cell_type": "markdown",
   "metadata": {},
   "source": [
    "# Making the Decision"
   ]
  },
  {
   "cell_type": "markdown",
   "metadata": {},
   "source": [
    "Based on the Board's choice of decision criteria, on their judgments about the relative importance of each, and on their judgments about each candidate with respect to each of the criteria, Dick, with a priority of 0.488, is by far the most suitable candidate. Tom, with a priority of 0.358, is second, and Harry, at 0.152, is third.\n",
    "\n",
    "The Board should choose Dick as the company's new leader.\n",
    "\n",
    "Because they have used the AHP, it is easy for them to trace their thinking and to justify the steps along the way to their decision. If they have second thoughts about the final outcome, they can revisit the process and make changes if appropriate. And if they choose to, they can reveal the details of their process to their consultants and confidants, to the candidates, to the shareholders, or to anyone else who might be concerned with the decision."
   ]
  }
 ],
 "metadata": {
  "kernelspec": {
   "display_name": "Python 3",
   "language": "python",
   "name": "python3"
  },
  "language_info": {
   "codemirror_mode": {
    "name": "ipython",
    "version": 3
   },
   "file_extension": ".py",
   "mimetype": "text/x-python",
   "name": "python",
   "nbconvert_exporter": "python",
   "pygments_lexer": "ipython3",
   "version": "3.6.5"
  }
 },
 "nbformat": 4,
 "nbformat_minor": 2
}
