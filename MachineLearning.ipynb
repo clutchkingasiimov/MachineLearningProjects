{
 "cells": [
  {
   "cell_type": "code",
   "execution_count": null,
   "metadata": {},
   "outputs": [],
   "source": [
    "#Basic 'Hello world' code in tensorflow.\n",
    "import tensorflow as tf\n",
    "\n",
    "a = tf.constant('Hello world!')\n",
    "\n",
    "sess = tf.Session()\n",
    "print(sess.run(a))"
   ]
  },
  {
   "cell_type": "code",
   "execution_count": 9,
   "metadata": {},
   "outputs": [
    {
     "name": "stdout",
     "output_type": "stream",
     "text": [
      "a: 9 b: 18\n",
      "Addition = 27\n",
      "Multiplication = 162\n"
     ]
    }
   ],
   "source": [
    "#Basic constant operations\n",
    "\n",
    "a = tf.constant(9)\n",
    "b = tf.constant(18)\n",
    "\n",
    "with tf.Session() as sess:\n",
    "    print(\"a: %i\" % sess.run(a), \"b: %i\" % sess.run(b))\n",
    "    print(\"Addition = %i\" % sess.run(a+b))\n",
    "    print(\"Multiplication = %i\" % sess.run(a*b))"
   ]
  },
  {
   "cell_type": "code",
   "execution_count": 134,
   "metadata": {},
   "outputs": [
    {
     "name": "stdout",
     "output_type": "stream",
     "text": [
      "Epoch: 0050 cost= 0.080236942 w= 0.2816453 b= 0.5708887\n",
      "Epoch: 0100 cost= 0.079859585 w= 0.27973893 b= 0.5846032\n",
      "Epoch: 0150 cost= 0.079525948 w= 0.2779459 b= 0.5975021\n",
      "Epoch: 0200 cost= 0.079230957 w= 0.27625942 b= 0.6096344\n",
      "Epoch: 0250 cost= 0.078970201 w= 0.27467355 b= 0.6210427\n",
      "Epoch: 0300 cost= 0.078739673 w= 0.27318218 b= 0.6317722\n",
      "Epoch: 0350 cost= 0.078535885 w= 0.2717793 b= 0.64186364\n",
      "Epoch: 0400 cost= 0.078355707 w= 0.27045992 b= 0.6513557\n",
      "Epoch: 0450 cost= 0.078196429 w= 0.26921883 b= 0.66028357\n",
      "Epoch: 0500 cost= 0.078055643 w= 0.26805174 b= 0.6686798\n",
      "Epoch: 0550 cost= 0.077931240 w= 0.266954 b= 0.6765766\n",
      "Epoch: 0600 cost= 0.077821255 w= 0.26592153 b= 0.6840038\n",
      "Epoch: 0650 cost= 0.077724040 w= 0.26495054 b= 0.6909896\n",
      "Epoch: 0700 cost= 0.077638127 w= 0.26403716 b= 0.69756025\n",
      "Epoch: 0750 cost= 0.077562205 w= 0.2631782 b= 0.70373964\n",
      "Epoch: 0800 cost= 0.077495120 w= 0.26237017 b= 0.70955247\n",
      "Epoch: 0850 cost= 0.077435829 w= 0.26161033 b= 0.7150193\n",
      "Epoch: 0900 cost= 0.077383459 w= 0.2608955 b= 0.7201614\n",
      "Epoch: 0950 cost= 0.077337191 w= 0.2602232 b= 0.7249975\n",
      "Epoch: 1000 cost= 0.077296324 w= 0.2595911 b= 0.7295454\n",
      "Optimization Finished!\n",
      "Training cost= 0.077296324 w= 0.2595911 b= 0.7295454 \n",
      "\n"
     ]
    },
    {
     "data": {
      "image/png": "[encoded data removed]",
      "text/plain": [
       "<matplotlib.figure.Figure at 0x185768e8dd8>"
      ]
     },
     "metadata": {},
     "output_type": "display_data"
    }
   ],
   "source": [
    "#Linear Regression\n",
    "import tensorflow as tf\n",
    "import numpy as np\n",
    "import matplotlib.pyplot as plt\n",
    "\n",
    "rng = np.random\n",
    "\n",
    "#Parameters\n",
    "learning_rate = 0.01\n",
    "training_rate = 1000\n",
    "display_step = 50\n",
    "\n",
    "#Training data\n",
    "train_X = np.asarray([3.3,4.4,5.5,6.71,6.93,4.168,9.779,6.182,7.59,2.167,\n",
    "                         7.042,10.791,5.313,7.997,5.654,9.27,3.1])\n",
    "train_Y = np.asarray([1.7,2.76,2.09,3.19,1.694,1.573,3.366,2.596,2.53,1.221,\n",
    "                         2.827,3.465,1.65,2.904,2.42,2.94,1.3])\n",
    "n_samples = train_X.shape[0] #Sample size \n",
    "\n",
    "#tf Graph Input\n",
    "X = tf.placeholder(\"float\") #Tells the function to hold \"float\" data type\n",
    "Y = tf.placeholder(\"float\")\n",
    "\n",
    "#Set model weights\n",
    "w = tf.Variable(rng.randn(), name = \"Weight\")\n",
    "b = tf.Variable(rng.randn(), name = \"Bias\")\n",
    "\n",
    "#Construct a linear model\n",
    "pred = tf.add(tf.multiply(X, w), b)\n",
    "\n",
    "#Obtain the mean squared error\n",
    "cost = tf.reduce_sum(tf.pow(pred-Y, 2)) / (2*n_samples)\n",
    "#Gradient descent\n",
    "optimizer = tf.train.GradientDescentOptimizer(learning_rate).minimize(cost)\n",
    "\n",
    "#Initialize the variables i.e assign their default values\n",
    "init = tf.global_variables_initializer()\n",
    "\n",
    "#Training process\n",
    "with tf.Session() as sess:\n",
    "    sess.run(init)\n",
    "    \n",
    "    #Fit the training data\n",
    "    for epoch in range(training_rate):\n",
    "        for (x, y) in zip(train_X, train_Y):\n",
    "            sess.run(optimizer, feed_dict={X:x, Y: y})\n",
    "            \n",
    "              #Display logs per epoch step\n",
    "        if (epoch+1) % display_step == 0:\n",
    "            c = sess.run(cost, feed_dict={X: train_X, Y:train_Y})\n",
    "            print(\"Epoch:\", '%04d' % (epoch+1), \"cost=\", \"{:.9f}\".format(c), \\\n",
    "                \"w=\", sess.run(w), \"b=\", sess.run(b))\n",
    "\n",
    "    print(\"Optimization Finished!\")\n",
    "    training_cost = sess.run(cost, feed_dict={X: train_X, Y: train_Y})\n",
    "    print(\"Training cost=\", training_cost, \"w=\", sess.run(w), \"b=\", sess.run(b), '\\n')\n",
    "\n",
    "    #Graphic display\n",
    "    plt.plot(train_X, train_Y, 'ro', label='Original data')\n",
    "    plt.plot(train_X, sess.run(w) * train_X + sess.run(b), label='Fitted line')\n",
    "    plt.legend()\n",
    "    plt.show()"
   ]
  },
  {
   "cell_type": "markdown",
   "metadata": {},
   "source": [
    "# tf.placeholder tutorial"
   ]
  },
  {
   "cell_type": "code",
   "execution_count": 115,
   "metadata": {},
   "outputs": [
    {
     "data": {
      "text/plain": [
       "array([[0.64362068, 0.73917262, 0.24015764, ..., 0.75894075, 0.60269227,\n",
       "        0.3616089 ],\n",
       "       [0.56530095, 0.81982364, 0.78980013, ..., 0.26451315, 0.22896174,\n",
       "        0.46397421],\n",
       "       [0.99260702, 0.43394536, 0.34528508, ..., 0.75144199, 0.72271508,\n",
       "        0.85004985],\n",
       "       ...,\n",
       "       [0.65561164, 0.82617569, 0.68421055, ..., 0.75199478, 0.40190559,\n",
       "        0.8205145 ],\n",
       "       [0.08923553, 0.48669883, 0.54397451, ..., 0.16634399, 0.78472878,\n",
       "        0.44613684],\n",
       "       [0.18504047, 0.40014466, 0.42263726, ..., 0.28679688, 0.18695991,\n",
       "        0.81806317]])"
      ]
     },
     "execution_count": 115,
     "metadata": {},
     "output_type": "execute_result"
    }
   ],
   "source": [
    "#How tf.placeholder works\n",
    "\n",
    "#Step1 = Create some random data.\n",
    "random = np.random.rand(1024, 1024)\n",
    "random"
   ]
  },
  {
   "cell_type": "code",
   "execution_count": 117,
   "metadata": {},
   "outputs": [
    {
     "name": "stdout",
     "output_type": "stream",
     "text": [
      "[[0.64362067 0.73917264 0.24015763 ... 0.75894076 0.60269225 0.3616089 ]\n",
      " [0.56530094 0.8198236  0.7898001  ... 0.26451316 0.22896174 0.4639742 ]\n",
      " [0.992607   0.43394536 0.3452851  ... 0.751442   0.7227151  0.85004985]\n",
      " ...\n",
      " [0.65561163 0.8261757  0.68421054 ... 0.7519948  0.4019056  0.8205145 ]\n",
      " [0.08923553 0.48669884 0.5439745  ... 0.16634399 0.78472877 0.44613683]\n",
      " [0.18504047 0.40014467 0.42263725 ... 0.2867969  0.1869599  0.81806314]]\n"
     ]
    }
   ],
   "source": [
    "#Start a tensorflow session\n",
    "sess = tf.Session()\n",
    "#Define the nature of the placeholder\n",
    "e = tf.placeholder(tf.float32, shape = (1024, 1024)) \n",
    "#Feed the data in the form of feed_dict method.\n",
    "print(sess.run(e, feed_dict={e: random}))"
   ]
  }
 ],
 "metadata": {
  "kernelspec": {
   "display_name": "Python 3",
   "language": "python",
   "name": "python3"
  },
  "language_info": {
   "codemirror_mode": {
    "name": "ipython",
    "version": 3
   },
   "file_extension": ".py",
   "mimetype": "text/x-python",
   "name": "python",
   "nbconvert_exporter": "python",
   "pygments_lexer": "ipython3",
   "version": "3.6.3"
  }
 },
 "nbformat": 4,
 "nbformat_minor": 2
}
